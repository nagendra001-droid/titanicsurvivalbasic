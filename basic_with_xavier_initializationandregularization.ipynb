{
  "nbformat": 4,
  "nbformat_minor": 0,
  "metadata": {
    "colab": {
      "name": "basic with xavier initialization.ipynb",
      "provenance": [],
      "collapsed_sections": [],
      "authorship_tag": "ABX9TyNr5ajhXV/03bNw52gZNgGj",
      "include_colab_link": true
    },
    "kernelspec": {
      "name": "python3",
      "display_name": "Python 3"
    },
    "accelerator": "GPU"
  },
  "cells": [
    {
      "cell_type": "markdown",
      "metadata": {
        "id": "view-in-github",
        "colab_type": "text"
      },
      "source": [
        "<a href=\"https://colab.research.google.com/github/nagendra001-droid/titanicsurvivalbasic/blob/master/basic_with_xavier_initializationandregularization.ipynb\" target=\"_parent\"><img src=\"https://colab.research.google.com/assets/colab-badge.svg\" alt=\"Open In Colab\"/></a>"
      ]
    },
    {
      "cell_type": "code",
      "metadata": {
        "id": "aS0zWwiGuRHi",
        "colab_type": "code",
        "colab": {
          "base_uri": "https://localhost:8080/",
          "height": 204
        },
        "outputId": "86ed2b93-d77f-4ee5-ad02-7c4527710400"
      },
      "source": [
        "import pandas as pd\n",
        "df=pd.read_csv('/content/titanic.csv')\n",
        "df.head()\n"
      ],
      "execution_count": 97,
      "outputs": [
        {
          "output_type": "execute_result",
          "data": {
            "text/html": [
              "<div>\n",
              "<style scoped>\n",
              "    .dataframe tbody tr th:only-of-type {\n",
              "        vertical-align: middle;\n",
              "    }\n",
              "\n",
              "    .dataframe tbody tr th {\n",
              "        vertical-align: top;\n",
              "    }\n",
              "\n",
              "    .dataframe thead th {\n",
              "        text-align: right;\n",
              "    }\n",
              "</style>\n",
              "<table border=\"1\" class=\"dataframe\">\n",
              "  <thead>\n",
              "    <tr style=\"text-align: right;\">\n",
              "      <th></th>\n",
              "      <th>Survived</th>\n",
              "      <th>Pclass</th>\n",
              "      <th>Name</th>\n",
              "      <th>Sex</th>\n",
              "      <th>Age</th>\n",
              "      <th>Siblings/Spouses Aboard</th>\n",
              "      <th>Parents/Children Aboard</th>\n",
              "      <th>Fare</th>\n",
              "    </tr>\n",
              "  </thead>\n",
              "  <tbody>\n",
              "    <tr>\n",
              "      <th>0</th>\n",
              "      <td>0</td>\n",
              "      <td>3</td>\n",
              "      <td>Mr. Owen Harris Braund</td>\n",
              "      <td>male</td>\n",
              "      <td>22.0</td>\n",
              "      <td>1</td>\n",
              "      <td>0</td>\n",
              "      <td>7.2500</td>\n",
              "    </tr>\n",
              "    <tr>\n",
              "      <th>1</th>\n",
              "      <td>1</td>\n",
              "      <td>1</td>\n",
              "      <td>Mrs. John Bradley (Florence Briggs Thayer) Cum...</td>\n",
              "      <td>female</td>\n",
              "      <td>38.0</td>\n",
              "      <td>1</td>\n",
              "      <td>0</td>\n",
              "      <td>71.2833</td>\n",
              "    </tr>\n",
              "    <tr>\n",
              "      <th>2</th>\n",
              "      <td>1</td>\n",
              "      <td>3</td>\n",
              "      <td>Miss. Laina Heikkinen</td>\n",
              "      <td>female</td>\n",
              "      <td>26.0</td>\n",
              "      <td>0</td>\n",
              "      <td>0</td>\n",
              "      <td>7.9250</td>\n",
              "    </tr>\n",
              "    <tr>\n",
              "      <th>3</th>\n",
              "      <td>1</td>\n",
              "      <td>1</td>\n",
              "      <td>Mrs. Jacques Heath (Lily May Peel) Futrelle</td>\n",
              "      <td>female</td>\n",
              "      <td>35.0</td>\n",
              "      <td>1</td>\n",
              "      <td>0</td>\n",
              "      <td>53.1000</td>\n",
              "    </tr>\n",
              "    <tr>\n",
              "      <th>4</th>\n",
              "      <td>0</td>\n",
              "      <td>3</td>\n",
              "      <td>Mr. William Henry Allen</td>\n",
              "      <td>male</td>\n",
              "      <td>35.0</td>\n",
              "      <td>0</td>\n",
              "      <td>0</td>\n",
              "      <td>8.0500</td>\n",
              "    </tr>\n",
              "  </tbody>\n",
              "</table>\n",
              "</div>"
            ],
            "text/plain": [
              "   Survived  Pclass  ... Parents/Children Aboard     Fare\n",
              "0         0       3  ...                       0   7.2500\n",
              "1         1       1  ...                       0  71.2833\n",
              "2         1       3  ...                       0   7.9250\n",
              "3         1       1  ...                       0  53.1000\n",
              "4         0       3  ...                       0   8.0500\n",
              "\n",
              "[5 rows x 8 columns]"
            ]
          },
          "metadata": {
            "tags": []
          },
          "execution_count": 97
        }
      ]
    },
    {
      "cell_type": "code",
      "metadata": {
        "id": "IBOUBKrkvJTg",
        "colab_type": "code",
        "colab": {}
      },
      "source": [
        "df = df.drop(['Name','Fare'],axis=1)\n"
      ],
      "execution_count": 98,
      "outputs": []
    },
    {
      "cell_type": "code",
      "metadata": {
        "id": "NmxPPX7zw13o",
        "colab_type": "code",
        "colab": {
          "base_uri": "https://localhost:8080/",
          "height": 359
        },
        "outputId": "79924c85-b153-456f-c326-7cd8edf5de68"
      },
      "source": [
        "df.head(10)"
      ],
      "execution_count": 99,
      "outputs": [
        {
          "output_type": "execute_result",
          "data": {
            "text/html": [
              "<div>\n",
              "<style scoped>\n",
              "    .dataframe tbody tr th:only-of-type {\n",
              "        vertical-align: middle;\n",
              "    }\n",
              "\n",
              "    .dataframe tbody tr th {\n",
              "        vertical-align: top;\n",
              "    }\n",
              "\n",
              "    .dataframe thead th {\n",
              "        text-align: right;\n",
              "    }\n",
              "</style>\n",
              "<table border=\"1\" class=\"dataframe\">\n",
              "  <thead>\n",
              "    <tr style=\"text-align: right;\">\n",
              "      <th></th>\n",
              "      <th>Survived</th>\n",
              "      <th>Pclass</th>\n",
              "      <th>Sex</th>\n",
              "      <th>Age</th>\n",
              "      <th>Siblings/Spouses Aboard</th>\n",
              "      <th>Parents/Children Aboard</th>\n",
              "    </tr>\n",
              "  </thead>\n",
              "  <tbody>\n",
              "    <tr>\n",
              "      <th>0</th>\n",
              "      <td>0</td>\n",
              "      <td>3</td>\n",
              "      <td>male</td>\n",
              "      <td>22.0</td>\n",
              "      <td>1</td>\n",
              "      <td>0</td>\n",
              "    </tr>\n",
              "    <tr>\n",
              "      <th>1</th>\n",
              "      <td>1</td>\n",
              "      <td>1</td>\n",
              "      <td>female</td>\n",
              "      <td>38.0</td>\n",
              "      <td>1</td>\n",
              "      <td>0</td>\n",
              "    </tr>\n",
              "    <tr>\n",
              "      <th>2</th>\n",
              "      <td>1</td>\n",
              "      <td>3</td>\n",
              "      <td>female</td>\n",
              "      <td>26.0</td>\n",
              "      <td>0</td>\n",
              "      <td>0</td>\n",
              "    </tr>\n",
              "    <tr>\n",
              "      <th>3</th>\n",
              "      <td>1</td>\n",
              "      <td>1</td>\n",
              "      <td>female</td>\n",
              "      <td>35.0</td>\n",
              "      <td>1</td>\n",
              "      <td>0</td>\n",
              "    </tr>\n",
              "    <tr>\n",
              "      <th>4</th>\n",
              "      <td>0</td>\n",
              "      <td>3</td>\n",
              "      <td>male</td>\n",
              "      <td>35.0</td>\n",
              "      <td>0</td>\n",
              "      <td>0</td>\n",
              "    </tr>\n",
              "    <tr>\n",
              "      <th>5</th>\n",
              "      <td>0</td>\n",
              "      <td>3</td>\n",
              "      <td>male</td>\n",
              "      <td>27.0</td>\n",
              "      <td>0</td>\n",
              "      <td>0</td>\n",
              "    </tr>\n",
              "    <tr>\n",
              "      <th>6</th>\n",
              "      <td>0</td>\n",
              "      <td>1</td>\n",
              "      <td>male</td>\n",
              "      <td>54.0</td>\n",
              "      <td>0</td>\n",
              "      <td>0</td>\n",
              "    </tr>\n",
              "    <tr>\n",
              "      <th>7</th>\n",
              "      <td>0</td>\n",
              "      <td>3</td>\n",
              "      <td>male</td>\n",
              "      <td>2.0</td>\n",
              "      <td>3</td>\n",
              "      <td>1</td>\n",
              "    </tr>\n",
              "    <tr>\n",
              "      <th>8</th>\n",
              "      <td>1</td>\n",
              "      <td>3</td>\n",
              "      <td>female</td>\n",
              "      <td>27.0</td>\n",
              "      <td>0</td>\n",
              "      <td>2</td>\n",
              "    </tr>\n",
              "    <tr>\n",
              "      <th>9</th>\n",
              "      <td>1</td>\n",
              "      <td>2</td>\n",
              "      <td>female</td>\n",
              "      <td>14.0</td>\n",
              "      <td>1</td>\n",
              "      <td>0</td>\n",
              "    </tr>\n",
              "  </tbody>\n",
              "</table>\n",
              "</div>"
            ],
            "text/plain": [
              "   Survived  Pclass  ... Siblings/Spouses Aboard  Parents/Children Aboard\n",
              "0         0       3  ...                       1                        0\n",
              "1         1       1  ...                       1                        0\n",
              "2         1       3  ...                       0                        0\n",
              "3         1       1  ...                       1                        0\n",
              "4         0       3  ...                       0                        0\n",
              "5         0       3  ...                       0                        0\n",
              "6         0       1  ...                       0                        0\n",
              "7         0       3  ...                       3                        1\n",
              "8         1       3  ...                       0                        2\n",
              "9         1       2  ...                       1                        0\n",
              "\n",
              "[10 rows x 6 columns]"
            ]
          },
          "metadata": {
            "tags": []
          },
          "execution_count": 99
        }
      ]
    },
    {
      "cell_type": "code",
      "metadata": {
        "id": "rQUs3W7Kx7nJ",
        "colab_type": "code",
        "colab": {
          "base_uri": "https://localhost:8080/",
          "height": 153
        },
        "outputId": "55b2e443-d4e1-4a4e-ef6c-80289cfd0a63"
      },
      "source": [
        "# df=df.apply(lambda col: pd.factorize(col, sort=False)[0])\n",
        "print(df.head())"
      ],
      "execution_count": 100,
      "outputs": [
        {
          "output_type": "stream",
          "text": [
            "   Survived  Pclass  ... Siblings/Spouses Aboard  Parents/Children Aboard\n",
            "0         0       3  ...                       1                        0\n",
            "1         1       1  ...                       1                        0\n",
            "2         1       3  ...                       0                        0\n",
            "3         1       1  ...                       1                        0\n",
            "4         0       3  ...                       0                        0\n",
            "\n",
            "[5 rows x 6 columns]\n"
          ],
          "name": "stdout"
        }
      ]
    },
    {
      "cell_type": "code",
      "metadata": {
        "id": "SzcFO5Ctqap0",
        "colab_type": "code",
        "colab": {
          "base_uri": "https://localhost:8080/",
          "height": 419
        },
        "outputId": "bd1790f7-0e70-4d34-a930-8005e2f8d017"
      },
      "source": [
        "dum=pd.get_dummies(df['Sex'])\n",
        "dum"
      ],
      "execution_count": 101,
      "outputs": [
        {
          "output_type": "execute_result",
          "data": {
            "text/html": [
              "<div>\n",
              "<style scoped>\n",
              "    .dataframe tbody tr th:only-of-type {\n",
              "        vertical-align: middle;\n",
              "    }\n",
              "\n",
              "    .dataframe tbody tr th {\n",
              "        vertical-align: top;\n",
              "    }\n",
              "\n",
              "    .dataframe thead th {\n",
              "        text-align: right;\n",
              "    }\n",
              "</style>\n",
              "<table border=\"1\" class=\"dataframe\">\n",
              "  <thead>\n",
              "    <tr style=\"text-align: right;\">\n",
              "      <th></th>\n",
              "      <th>female</th>\n",
              "      <th>male</th>\n",
              "    </tr>\n",
              "  </thead>\n",
              "  <tbody>\n",
              "    <tr>\n",
              "      <th>0</th>\n",
              "      <td>0</td>\n",
              "      <td>1</td>\n",
              "    </tr>\n",
              "    <tr>\n",
              "      <th>1</th>\n",
              "      <td>1</td>\n",
              "      <td>0</td>\n",
              "    </tr>\n",
              "    <tr>\n",
              "      <th>2</th>\n",
              "      <td>1</td>\n",
              "      <td>0</td>\n",
              "    </tr>\n",
              "    <tr>\n",
              "      <th>3</th>\n",
              "      <td>1</td>\n",
              "      <td>0</td>\n",
              "    </tr>\n",
              "    <tr>\n",
              "      <th>4</th>\n",
              "      <td>0</td>\n",
              "      <td>1</td>\n",
              "    </tr>\n",
              "    <tr>\n",
              "      <th>...</th>\n",
              "      <td>...</td>\n",
              "      <td>...</td>\n",
              "    </tr>\n",
              "    <tr>\n",
              "      <th>882</th>\n",
              "      <td>0</td>\n",
              "      <td>1</td>\n",
              "    </tr>\n",
              "    <tr>\n",
              "      <th>883</th>\n",
              "      <td>1</td>\n",
              "      <td>0</td>\n",
              "    </tr>\n",
              "    <tr>\n",
              "      <th>884</th>\n",
              "      <td>1</td>\n",
              "      <td>0</td>\n",
              "    </tr>\n",
              "    <tr>\n",
              "      <th>885</th>\n",
              "      <td>0</td>\n",
              "      <td>1</td>\n",
              "    </tr>\n",
              "    <tr>\n",
              "      <th>886</th>\n",
              "      <td>0</td>\n",
              "      <td>1</td>\n",
              "    </tr>\n",
              "  </tbody>\n",
              "</table>\n",
              "<p>887 rows × 2 columns</p>\n",
              "</div>"
            ],
            "text/plain": [
              "     female  male\n",
              "0         0     1\n",
              "1         1     0\n",
              "2         1     0\n",
              "3         1     0\n",
              "4         0     1\n",
              "..      ...   ...\n",
              "882       0     1\n",
              "883       1     0\n",
              "884       1     0\n",
              "885       0     1\n",
              "886       0     1\n",
              "\n",
              "[887 rows x 2 columns]"
            ]
          },
          "metadata": {
            "tags": []
          },
          "execution_count": 101
        }
      ]
    },
    {
      "cell_type": "code",
      "metadata": {
        "id": "ut0uYpQtqado",
        "colab_type": "code",
        "colab": {
          "base_uri": "https://localhost:8080/",
          "height": 255
        },
        "outputId": "de3f4484-857f-4e36-978b-0f600774e889"
      },
      "source": [
        "dum=dum.drop(columns=['male'],axis=1)\n",
        "print(dum)"
      ],
      "execution_count": 102,
      "outputs": [
        {
          "output_type": "stream",
          "text": [
            "     female\n",
            "0         0\n",
            "1         1\n",
            "2         1\n",
            "3         1\n",
            "4         0\n",
            "..      ...\n",
            "882       0\n",
            "883       1\n",
            "884       1\n",
            "885       0\n",
            "886       0\n",
            "\n",
            "[887 rows x 1 columns]\n"
          ],
          "name": "stdout"
        }
      ]
    },
    {
      "cell_type": "code",
      "metadata": {
        "id": "YkASssfwrBvD",
        "colab_type": "code",
        "colab": {}
      },
      "source": [
        "df=df.drop(columns=['Sex'])"
      ],
      "execution_count": 103,
      "outputs": []
    },
    {
      "cell_type": "code",
      "metadata": {
        "id": "DqaeQPwCrLDZ",
        "colab_type": "code",
        "colab": {
          "base_uri": "https://localhost:8080/",
          "height": 255
        },
        "outputId": "7f73ddcb-a836-4813-cb17-16b8e9fa7034"
      },
      "source": [
        "dum2=pd.get_dummies(df['Pclass'])\n",
        "dum2=dum2.drop(columns=[3],axis=1)\n",
        "print(dum2)"
      ],
      "execution_count": 104,
      "outputs": [
        {
          "output_type": "stream",
          "text": [
            "     1  2\n",
            "0    0  0\n",
            "1    1  0\n",
            "2    0  0\n",
            "3    1  0\n",
            "4    0  0\n",
            "..  .. ..\n",
            "882  0  1\n",
            "883  1  0\n",
            "884  0  0\n",
            "885  1  0\n",
            "886  0  0\n",
            "\n",
            "[887 rows x 2 columns]\n"
          ],
          "name": "stdout"
        }
      ]
    },
    {
      "cell_type": "code",
      "metadata": {
        "id": "GTtVxbptqZhb",
        "colab_type": "code",
        "colab": {
          "base_uri": "https://localhost:8080/",
          "height": 204
        },
        "outputId": "eee3f978-09a1-4aeb-f001-98673a9b5acd"
      },
      "source": [
        "df= df.drop(columns=['Pclass'])\n",
        "df.head()"
      ],
      "execution_count": 105,
      "outputs": [
        {
          "output_type": "execute_result",
          "data": {
            "text/html": [
              "<div>\n",
              "<style scoped>\n",
              "    .dataframe tbody tr th:only-of-type {\n",
              "        vertical-align: middle;\n",
              "    }\n",
              "\n",
              "    .dataframe tbody tr th {\n",
              "        vertical-align: top;\n",
              "    }\n",
              "\n",
              "    .dataframe thead th {\n",
              "        text-align: right;\n",
              "    }\n",
              "</style>\n",
              "<table border=\"1\" class=\"dataframe\">\n",
              "  <thead>\n",
              "    <tr style=\"text-align: right;\">\n",
              "      <th></th>\n",
              "      <th>Survived</th>\n",
              "      <th>Age</th>\n",
              "      <th>Siblings/Spouses Aboard</th>\n",
              "      <th>Parents/Children Aboard</th>\n",
              "    </tr>\n",
              "  </thead>\n",
              "  <tbody>\n",
              "    <tr>\n",
              "      <th>0</th>\n",
              "      <td>0</td>\n",
              "      <td>22.0</td>\n",
              "      <td>1</td>\n",
              "      <td>0</td>\n",
              "    </tr>\n",
              "    <tr>\n",
              "      <th>1</th>\n",
              "      <td>1</td>\n",
              "      <td>38.0</td>\n",
              "      <td>1</td>\n",
              "      <td>0</td>\n",
              "    </tr>\n",
              "    <tr>\n",
              "      <th>2</th>\n",
              "      <td>1</td>\n",
              "      <td>26.0</td>\n",
              "      <td>0</td>\n",
              "      <td>0</td>\n",
              "    </tr>\n",
              "    <tr>\n",
              "      <th>3</th>\n",
              "      <td>1</td>\n",
              "      <td>35.0</td>\n",
              "      <td>1</td>\n",
              "      <td>0</td>\n",
              "    </tr>\n",
              "    <tr>\n",
              "      <th>4</th>\n",
              "      <td>0</td>\n",
              "      <td>35.0</td>\n",
              "      <td>0</td>\n",
              "      <td>0</td>\n",
              "    </tr>\n",
              "  </tbody>\n",
              "</table>\n",
              "</div>"
            ],
            "text/plain": [
              "   Survived   Age  Siblings/Spouses Aboard  Parents/Children Aboard\n",
              "0         0  22.0                        1                        0\n",
              "1         1  38.0                        1                        0\n",
              "2         1  26.0                        0                        0\n",
              "3         1  35.0                        1                        0\n",
              "4         0  35.0                        0                        0"
            ]
          },
          "metadata": {
            "tags": []
          },
          "execution_count": 105
        }
      ]
    },
    {
      "cell_type": "code",
      "metadata": {
        "id": "aqbyjdKLrzUe",
        "colab_type": "code",
        "colab": {}
      },
      "source": [
        "td=pd.concat([df,dum,dum2],axis=1)"
      ],
      "execution_count": 106,
      "outputs": []
    },
    {
      "cell_type": "code",
      "metadata": {
        "id": "FaXeNPYJyLCi",
        "colab_type": "code",
        "colab": {
          "base_uri": "https://localhost:8080/",
          "height": 204
        },
        "outputId": "7eb5ce36-03f8-4c90-c1a0-9194c6bd8d4a"
      },
      "source": [
        "td.head()"
      ],
      "execution_count": 107,
      "outputs": [
        {
          "output_type": "execute_result",
          "data": {
            "text/html": [
              "<div>\n",
              "<style scoped>\n",
              "    .dataframe tbody tr th:only-of-type {\n",
              "        vertical-align: middle;\n",
              "    }\n",
              "\n",
              "    .dataframe tbody tr th {\n",
              "        vertical-align: top;\n",
              "    }\n",
              "\n",
              "    .dataframe thead th {\n",
              "        text-align: right;\n",
              "    }\n",
              "</style>\n",
              "<table border=\"1\" class=\"dataframe\">\n",
              "  <thead>\n",
              "    <tr style=\"text-align: right;\">\n",
              "      <th></th>\n",
              "      <th>Survived</th>\n",
              "      <th>Age</th>\n",
              "      <th>Siblings/Spouses Aboard</th>\n",
              "      <th>Parents/Children Aboard</th>\n",
              "      <th>female</th>\n",
              "      <th>1</th>\n",
              "      <th>2</th>\n",
              "    </tr>\n",
              "  </thead>\n",
              "  <tbody>\n",
              "    <tr>\n",
              "      <th>0</th>\n",
              "      <td>0</td>\n",
              "      <td>22.0</td>\n",
              "      <td>1</td>\n",
              "      <td>0</td>\n",
              "      <td>0</td>\n",
              "      <td>0</td>\n",
              "      <td>0</td>\n",
              "    </tr>\n",
              "    <tr>\n",
              "      <th>1</th>\n",
              "      <td>1</td>\n",
              "      <td>38.0</td>\n",
              "      <td>1</td>\n",
              "      <td>0</td>\n",
              "      <td>1</td>\n",
              "      <td>1</td>\n",
              "      <td>0</td>\n",
              "    </tr>\n",
              "    <tr>\n",
              "      <th>2</th>\n",
              "      <td>1</td>\n",
              "      <td>26.0</td>\n",
              "      <td>0</td>\n",
              "      <td>0</td>\n",
              "      <td>1</td>\n",
              "      <td>0</td>\n",
              "      <td>0</td>\n",
              "    </tr>\n",
              "    <tr>\n",
              "      <th>3</th>\n",
              "      <td>1</td>\n",
              "      <td>35.0</td>\n",
              "      <td>1</td>\n",
              "      <td>0</td>\n",
              "      <td>1</td>\n",
              "      <td>1</td>\n",
              "      <td>0</td>\n",
              "    </tr>\n",
              "    <tr>\n",
              "      <th>4</th>\n",
              "      <td>0</td>\n",
              "      <td>35.0</td>\n",
              "      <td>0</td>\n",
              "      <td>0</td>\n",
              "      <td>0</td>\n",
              "      <td>0</td>\n",
              "      <td>0</td>\n",
              "    </tr>\n",
              "  </tbody>\n",
              "</table>\n",
              "</div>"
            ],
            "text/plain": [
              "   Survived   Age  Siblings/Spouses Aboard  ...  female  1  2\n",
              "0         0  22.0                        1  ...       0  0  0\n",
              "1         1  38.0                        1  ...       1  1  0\n",
              "2         1  26.0                        0  ...       1  0  0\n",
              "3         1  35.0                        1  ...       1  1  0\n",
              "4         0  35.0                        0  ...       0  0  0\n",
              "\n",
              "[5 rows x 7 columns]"
            ]
          },
          "metadata": {
            "tags": []
          },
          "execution_count": 107
        }
      ]
    },
    {
      "cell_type": "code",
      "metadata": {
        "id": "Sy1FhIkDsNkG",
        "colab_type": "code",
        "colab": {}
      },
      "source": [
        "import numpy as np\n",
        "X=np.array(td.drop(columns='Survived'))"
      ],
      "execution_count": 108,
      "outputs": []
    },
    {
      "cell_type": "code",
      "metadata": {
        "id": "LTSwOE9es15Y",
        "colab_type": "code",
        "colab": {}
      },
      "source": [
        "Y=np.array([td['Survived']])"
      ],
      "execution_count": 109,
      "outputs": []
    },
    {
      "cell_type": "code",
      "metadata": {
        "id": "IH4LUmh_tF3D",
        "colab_type": "code",
        "colab": {
          "base_uri": "https://localhost:8080/",
          "height": 527
        },
        "outputId": "8ca8a5d0-b4d7-4f89-b069-bb04510acbbc"
      },
      "source": [
        "print(X[0:5])\n",
        "print(Y[0:5])"
      ],
      "execution_count": 110,
      "outputs": [
        {
          "output_type": "stream",
          "text": [
            "[[22.  1.  0.  0.  0.  0.]\n",
            " [38.  1.  0.  1.  1.  0.]\n",
            " [26.  0.  0.  1.  0.  0.]\n",
            " [35.  1.  0.  1.  1.  0.]\n",
            " [35.  0.  0.  0.  0.  0.]]\n",
            "[[0 1 1 1 0 0 0 0 1 1 1 1 0 0 0 1 0 1 0 1 0 1 1 1 0 1 0 0 1 0 0 1 1 0 0 0\n",
            "  1 0 0 1 0 0 1 1 0 0 1 0 0 0 0 1 1 0 1 1 0 1 0 0 1 0 0 0 1 1 0 1 0 0 0 0\n",
            "  0 1 0 0 0 1 1 0 1 1 0 1 1 0 0 1 0 0 0 0 0 0 0 0 1 1 0 0 0 0 0 0 0 1 1 0\n",
            "  1 0 0 0 0 0 0 0 0 0 0 0 0 0 1 0 1 0 1 1 0 0 0 0 1 0 0 1 0 0 0 0 1 1 0 0\n",
            "  0 1 0 0 0 0 1 0 0 0 0 1 0 0 0 0 1 0 0 0 1 1 0 0 0 0 0 1 0 0 0 0 0 0 0 0\n",
            "  0 0 1 1 0 1 1 0 0 1 0 1 1 1 1 0 0 1 0 0 0 0 0 1 0 0 1 1 1 0 1 0 0 0 1 1\n",
            "  0 1 0 1 0 0 0 1 0 1 0 0 0 1 0 0 1 0 0 0 1 0 0 0 1 0 0 0 0 0 1 1 0 0 0 0\n",
            "  0 0 1 1 1 1 1 1 0 0 0 0 0 1 1 1 0 1 1 0 1 1 0 0 0 1 0 0 0 1 0 0 1 0 1 1\n",
            "  1 1 0 0 0 0 0 0 1 1 1 1 0 1 0 1 1 1 0 1 1 1 0 0 0 1 1 0 1 1 0 0 1 1 0 1\n",
            "  0 1 1 1 1 0 0 0 1 0 0 1 1 0 1 1 0 0 0 1 1 1 1 0 0 0 0 0 0 0 1 0 1 1 0 0\n",
            "  0 0 0 0 1 1 1 1 1 0 0 0 0 1 1 0 0 0 1 1 0 1 0 0 0 1 0 1 1 1 0 1 1 0 0 0\n",
            "  0 1 1 0 0 0 0 0 0 1 0 0 0 0 1 0 1 0 1 1 0 0 0 0 0 0 0 1 1 0 1 1 1 1 0 0\n",
            "  1 0 1 0 0 1 0 0 1 1 1 1 1 1 1 0 0 0 1 0 1 0 1 1 0 1 0 0 0 0 0 0 0 0 1 0\n",
            "  0 1 1 0 0 0 0 0 1 0 0 0 1 1 0 1 0 0 1 0 0 0 0 0 0 1 0 0 0 0 0 0 0 1 0 1\n",
            "  1 0 1 1 0 1 1 0 0 1 0 1 0 1 0 0 1 0 0 1 0 0 0 1 0 0 1 0 1 0 1 0 1 1 0 0\n",
            "  1 0 0 1 1 0 1 1 0 0 1 1 0 1 0 1 1 0 0 0 0 0 0 0 0 0 1 1 1 1 1 0 0 1 1 0\n",
            "  1 1 1 0 0 0 1 0 1 0 0 0 1 0 0 0 0 1 0 0 1 1 0 0 0 1 0 0 1 1 1 0 0 1 0 0\n",
            "  1 0 0 1 0 0 1 1 0 0 0 0 1 0 0 1 0 1 0 0 1 0 0 0 0 0 1 0 1 1 1 0 1 0 1 0\n",
            "  1 0 1 0 0 0 0 0 0 1 0 0 0 1 0 0 0 0 1 1 0 0 1 0 0 0 1 0 1 0 1 0 0 0 0 0\n",
            "  0 0 1 1 1 1 0 0 0 0 1 0 0 1 1 0 0 0 0 1 1 1 1 1 0 1 0 0 0 1 1 0 1 0 0 0\n",
            "  1 0 1 1 0 0 1 0 0 0 0 0 0 1 0 0 1 0 1 0 1 0 0 1 0 0 1 1 0 0 1 1 0 0 0 1\n",
            "  0 0 1 1 0 1 0 0 0 0 0 0 0 0 1 0 0 1 0 1 1 1 0 0 0 0 1 0 1 0 0 0 0 0 0 0\n",
            "  1 1 0 0 0 1 1 1 1 0 0 0 0 1 0 0 0 0 0 0 0 0 0 0 1 1 0 1 0 0 0 1 1 1 1 1\n",
            "  0 0 0 1 0 0 1 1 0 0 1 0 0 0 0 0 0 1 0 0 0 1 0 1 1 1 1 0 0 0 1 0 0 1 1 0\n",
            "  0 1 0 1 0 0 1 1 0 0 0 1 1 0 0 0 0 0 0 1 0 1 0]]\n"
          ],
          "name": "stdout"
        }
      ]
    },
    {
      "cell_type": "code",
      "metadata": {
        "id": "-VFuKIPa6OmG",
        "colab_type": "code",
        "colab": {}
      },
      "source": [
        ""
      ],
      "execution_count": 110,
      "outputs": []
    },
    {
      "cell_type": "code",
      "metadata": {
        "id": "1cYLg_oUyrwy",
        "colab_type": "code",
        "colab": {}
      },
      "source": [
        "X=X.T\n"
      ],
      "execution_count": 111,
      "outputs": []
    },
    {
      "cell_type": "code",
      "metadata": {
        "id": "-ehr-GrUCtyu",
        "colab_type": "code",
        "colab": {
          "base_uri": "https://localhost:8080/",
          "height": 136
        },
        "outputId": "087585da-bdf5-4add-8875-ea0e479ed488"
      },
      "source": [
        "print(X)\n",
        "print(X.shape)"
      ],
      "execution_count": 112,
      "outputs": [
        {
          "output_type": "stream",
          "text": [
            "[[22. 38. 26. ...  7. 26. 32.]\n",
            " [ 1.  1.  0. ...  1.  0.  0.]\n",
            " [ 0.  0.  0. ...  2.  0.  0.]\n",
            " [ 0.  1.  1. ...  1.  0.  0.]\n",
            " [ 0.  1.  0. ...  0.  1.  0.]\n",
            " [ 0.  0.  0. ...  0.  0.  0.]]\n",
            "(6, 887)\n"
          ],
          "name": "stdout"
        }
      ]
    },
    {
      "cell_type": "code",
      "metadata": {
        "id": "6hv8Zyjg4bJF",
        "colab_type": "code",
        "colab": {}
      },
      "source": [
        ""
      ],
      "execution_count": 112,
      "outputs": []
    },
    {
      "cell_type": "code",
      "metadata": {
        "id": "dJ6dPWOi61H5",
        "colab_type": "code",
        "colab": {}
      },
      "source": [
        "# GRADED FUNCTION: initialize_parameters\n",
        "\n",
        "def initialize_parameters(n_x, n_h, n_y):\n",
        " \n",
        "    np.random.seed(1)\n",
        "    \n",
        "    ### START CODE HERE ### (≈ 4 lines of code)\n",
        "    W1 = np.random.randn(n_h,n_x)*10\n",
        "    b1 = np.zeros((n_h,1))\n",
        "    W2 = np.random.randn(n_y,n_h)*10\n",
        "    b2 = np.zeros((n_y,1))\n",
        "    ### END CODE HERE ###\n",
        "    \n",
        "    assert(W1.shape == (n_h, n_x))\n",
        "    assert(b1.shape == (n_h, 1))\n",
        "    assert(W2.shape == (n_y, n_h))\n",
        "    assert(b2.shape == (n_y, 1))\n",
        "    \n",
        "    parameters = {\"W1\": W1,\n",
        "                  \"b1\": b1,\n",
        "                  \"W2\": W2,\n",
        "                  \"b2\": b2}\n",
        "    \n",
        "    return parameters    "
      ],
      "execution_count": 138,
      "outputs": []
    },
    {
      "cell_type": "code",
      "metadata": {
        "id": "kK9s0rRp3eII",
        "colab_type": "code",
        "colab": {}
      },
      "source": [
        "# GRADED FUNCTION: initialize_parameters_deep\n",
        "\n",
        "def initialize_parameters_deep(layer_dims):\n",
        "    \n",
        "    np.random.seed(3)\n",
        "    parameters = {}\n",
        "    L = len(layer_dims)            # number of layers in the network\n",
        "\n",
        "    for l in range(1, L):\n",
        "        ### START CODE HERE ### (≈ 2 lines of code)\n",
        "        parameters['W' + str(l)] = np.random.randn(layer_dims[l],layer_dims[l-1])*np.sqrt(2/layer_dims[l-1])\n",
        "        parameters['b' + str(l)] = np.zeros((layer_dims[l],1))\n",
        "        ### END CODE HERE ###\n",
        "        \n",
        "        assert(parameters['W' + str(l)].shape == (layer_dims[l], layer_dims[l-1]))\n",
        "        assert(parameters['b' + str(l)].shape == (layer_dims[l], 1))\n",
        "\n",
        "        \n",
        "    return parameters"
      ],
      "execution_count": 180,
      "outputs": []
    },
    {
      "cell_type": "code",
      "metadata": {
        "id": "Bds_4QEv_LqN",
        "colab_type": "code",
        "colab": {}
      },
      "source": [
        "# GRADED FUNCTION: linear_forward\n",
        "\n",
        "def linear_forward(A, W, b):\n",
        "\n",
        "    Z = np.dot(W,A)+b\n",
        "    cache = (A, W, b)\n",
        "   \n",
        "    \n",
        "    \n",
        "    return Z, cache"
      ],
      "execution_count": 115,
      "outputs": []
    },
    {
      "cell_type": "code",
      "metadata": {
        "id": "_Q352u7JTh8g",
        "colab_type": "code",
        "colab": {}
      },
      "source": [
        "def sigmoid(Z):\n",
        "  return (1/(1+np.exp(-Z))),Z"
      ],
      "execution_count": 116,
      "outputs": []
    },
    {
      "cell_type": "code",
      "metadata": {
        "id": "eZ_PRBffTpWf",
        "colab_type": "code",
        "colab": {}
      },
      "source": [
        "def relu(Z):\n",
        "  return np.maximum(0,Z),Z"
      ],
      "execution_count": 117,
      "outputs": []
    },
    {
      "cell_type": "code",
      "metadata": {
        "id": "HMvPLc1PXxyt",
        "colab_type": "code",
        "colab": {}
      },
      "source": [
        "# GRADED FUNCTION: linear_activation_forward\n",
        "\n",
        "def linear_activation_forward(A_prev, W, b, activation):\n",
        "    \"\"\"\n",
        "    Implement the forward propagation for the LINEAR->ACTIVATION layer\n",
        "\n",
        "    Arguments:\n",
        "    A_prev -- activations from previous layer (or input data): (size of previous layer, number of examples)\n",
        "    W -- weights matrix: numpy array of shape (size of current layer, size of previous layer)\n",
        "    b -- bias vector, numpy array of shape (size of the current layer, 1)\n",
        "    activation -- the activation to be used in this layer, stored as a text string: \"sigmoid\" or \"relu\"\n",
        "\n",
        "    Returns:\n",
        "    A -- the output of the activation function, also called the post-activation value \n",
        "    cache -- a python tuple containing \"linear_cache\" and \"activation_cache\";\n",
        "             stored for computing the backward pass efficiently\n",
        "    \"\"\"\n",
        "    \n",
        "    if activation == \"sigmoid\":\n",
        "        # Inputs: \"A_prev, W, b\". Outputs: \"A, activation_cache\".\n",
        "        ### START CODE HERE ### (≈ 2 lines of code)\n",
        "        Z, linear_cache = linear_forward(A_prev,W,b)\n",
        "        A, activation_cache = sigmoid(Z)\n",
        "        ### END CODE HERE ###\n",
        "    \n",
        "    elif activation == \"relu\":\n",
        "        # Inputs: \"A_prev, W, b\". Outputs: \"A, activation_cache\".\n",
        "        ### START CODE HERE ### (≈ 2 lines of code)\n",
        "        Z, linear_cache = linear_forward(A_prev,W,b)\n",
        "        A, activation_cache = relu(Z)\n",
        "        ### END CODE HERE ###\n",
        "    \n",
        "   \n",
        "    cache = (linear_cache, activation_cache)\n",
        "\n",
        "    return A, cache"
      ],
      "execution_count": 118,
      "outputs": []
    },
    {
      "cell_type": "code",
      "metadata": {
        "id": "R52-IbndUCVr",
        "colab_type": "code",
        "colab": {}
      },
      "source": [
        "# GRADED FUNCTION: L_model_forward\n",
        "\n",
        "def L_model_forward(X, parameters):\n",
        "    \"\"\"\n",
        "    Implement forward propagation for the [LINEAR->RELU]*(L-1)->LINEAR->SIGMOID computation\n",
        "    \n",
        "    Arguments:\n",
        "    X -- data, numpy array of shape (input size, number of examples)\n",
        "    parameters -- output of initialize_parameters_deep()\n",
        "    \n",
        "    Returns:\n",
        "    AL -- last post-activation value\n",
        "    caches -- list of caches containing:\n",
        "                every cache of linear_activation_forward() (there are L-1 of them, indexed from 0 to L-1)\n",
        "    \"\"\"\n",
        "\n",
        "    caches = []\n",
        "    A = X\n",
        "    L = len(parameters) // 2                  # number of layers in the neural network\n",
        "    \n",
        "    # Implement [LINEAR -> RELU]*(L-1). Add \"cache\" to the \"caches\" list.\n",
        "    for l in range(1, L):\n",
        "        A_prev = A \n",
        "        ### START CODE HERE ### (≈ 2 lines of code)\n",
        "        A, cache = linear_activation_forward(A_prev,parameters[\"W\"+str(l)],parameters[\"b\"+str(l)],\"relu\")\n",
        "        caches.append(cache)\n",
        "        ### END CODE HERE ###\n",
        "    \n",
        "    # Implement LINEAR -> SIGMOID. Add \"cache\" to the \"caches\" list.\n",
        "    ### START CODE HERE ### (≈ 2 lines of code)\n",
        "    AL, cache = linear_activation_forward(A,parameters[\"W\"+str(L)],parameters[\"b\"+str(L)],\"sigmoid\")\n",
        "    caches.append(cache)\n",
        "    ### END CODE HERE ###\n",
        "    \n",
        "           \n",
        "    return AL, caches"
      ],
      "execution_count": 137,
      "outputs": []
    },
    {
      "cell_type": "code",
      "metadata": {
        "id": "WF6fAs_zUF2a",
        "colab_type": "code",
        "colab": {}
      },
      "source": [
        "# GRADED FUNCTION: compute_cost\n",
        "\n",
        "def compute_cost(AL, Y,parameters,lambd=0.5):\n",
        "   \n",
        "    \n",
        "    m = Y.shape[1]\n",
        "    sumofw=0\n",
        "    for i in range(len(parameters)//2):\n",
        "      sumofw+=np.sum(np.square(parameters[\"W\"+str(i+1)]))\n",
        "\n",
        "    cost = -1/m*np.sum(Y*np.log(AL)+(1-Y)*np.log(1-AL))+lambd/(2*m)*sumofw\n",
        "    \n",
        "    \n",
        "    cost = np.squeeze(cost)      # To make sure your cost's shape is what we expect (e.g. this turns [[17]] into 17).\n",
        "    assert(cost.shape == ())\n",
        "    \n",
        "    return cost"
      ],
      "execution_count": null,
      "outputs": []
    },
    {
      "cell_type": "code",
      "metadata": {
        "id": "CZYh60ofUF8j",
        "colab_type": "code",
        "colab": {}
      },
      "source": [
        "def dzsig(AL,Y):\n",
        "  dzsigm= 1/m*(AL-Y)\n",
        "  return dzsigm"
      ],
      "execution_count": null,
      "outputs": []
    },
    {
      "cell_type": "code",
      "metadata": {
        "id": "n-OrfJFwUGA5",
        "colab_type": "code",
        "colab": {}
      },
      "source": [
        "def dzrel(dzsigm,W2,A1):\n",
        "  \n",
        "  A1[A1>0]=1\n",
        "  A1[A1<=0]=0\n",
        "    \n",
        "      \n",
        "  dzrelu=1/m*np.dot(dzsigm,W2.T)*A1\n",
        "  return dzrelu"
      ],
      "execution_count": 120,
      "outputs": []
    },
    {
      "cell_type": "code",
      "metadata": {
        "id": "NpbePdGgUGFu",
        "colab_type": "code",
        "colab": {}
      },
      "source": [
        "def linear_backward(dZ, cache,lambd=0.5):\n",
        "    \"\"\"\n",
        "    Implement the linear portion of backward propagation for a single layer (layer l)\n",
        "\n",
        "    Arguments:\n",
        "    dZ -- Gradient of the cost with respect to the linear output (of current layer l)\n",
        "    cache -- tuple of values (A_prev, W, b) coming from the forward propagation in the current layer\n",
        "\n",
        "    Returns:\n",
        "    dA_prev -- Gradient of the cost with respect to the activation (of the previous layer l-1), same shape as A_prev\n",
        "    dW -- Gradient of the cost with respect to W (current layer l), same shape as W\n",
        "    db -- Gradient of the cost with respect to b (current layer l), same shape as b\n",
        "    \"\"\"\n",
        "    A_prev, W, b = cache\n",
        "    m = A_prev.shape[1]\n",
        "   \n",
        "    ### START CODE HERE ### (≈ 3 lines of code)\n",
        "    dW = 1/m*np.dot(dZ,A_prev.T)+lambd/(2*m)*(W)\n",
        "    db = 1/m*np.sum(dZ,axis=1,keepdims=True)\n",
        "    dA_prev = np.dot(W.T,dZ)\n",
        "    ### END CODE HERE ###\n",
        "    \n",
        "    assert (dA_prev.shape == A_prev.shape)\n",
        "    assert (dW.shape == W.shape)\n",
        "    assert (db.shape == b.shape)\n",
        "    \n",
        "    return dA_prev, dW, db"
      ],
      "execution_count": 121,
      "outputs": []
    },
    {
      "cell_type": "code",
      "metadata": {
        "id": "HxiLuQpwUGxk",
        "colab_type": "code",
        "colab": {}
      },
      "source": [
        "# GRADED FUNCTION: linear_activation_backward\n",
        "\n",
        "def linear_activation_backward(dA, cache, activation,lambd=0.5):\n",
        "    \"\"\"\n",
        "    Implement the backward propagation for the LINEAR->ACTIVATION layer.\n",
        "    \n",
        "    Arguments:\n",
        "    dA -- post-activation gradient for current layer l \n",
        "    cache -- tuple of values (linear_cache, activation_cache) we store for computing backward propagation efficiently\n",
        "    activation -- the activation to be used in this layer, stored as a text string: \"sigmoid\" or \"relu\"\n",
        "    \n",
        "    Returns:\n",
        "    dA_prev -- Gradient of the cost with respect to the activation (of the previous layer l-1), same shape as A_prev\n",
        "    dW -- Gradient of the cost with respect to W (current layer l), same shape as W\n",
        "    db -- Gradient of the cost with respect to b (current layer l), same shape as b\n",
        "    \"\"\"\n",
        "    linear_cache, activation_cache = cache\n",
        "    \n",
        "    if activation == \"relu\":\n",
        "        ### START CODE HERE ### (≈ 2 lines of code)\n",
        "        dZ = relu_backward(dA, activation_cache)\n",
        "        dA_prev, dW, db = linear_backward(dZ, linear_cache,lambd=0.5)\n",
        "        ### END CODE HERE ###\n",
        "        \n",
        "    elif activation == \"sigmoid\":\n",
        "        ### START CODE HERE ### (≈ 2 lines of code)\n",
        "        dZ = sigmoid_backward(dA,activation_cache)\n",
        "        dA_prev, dW, db = linear_backward(dZ, linear_cache,lambd=0.5)\n",
        "        ### END CODE HERE ###\n",
        "    \n",
        "    return dA_prev, dW, db"
      ],
      "execution_count": 122,
      "outputs": []
    },
    {
      "cell_type": "code",
      "metadata": {
        "id": "A_gh6zaoUHPp",
        "colab_type": "code",
        "colab": {}
      },
      "source": [
        "# GRADED FUNCTION: L_model_backward\n",
        "\n",
        "def L_model_backward(AL, Y, caches,lambd=0.5):\n",
        "    \"\"\"\n",
        "    Implement the backward propagation for the [LINEAR->RELU] * (L-1) -> LINEAR -> SIGMOID group\n",
        "    \n",
        "    Arguments:\n",
        "    AL -- probability vector, output of the forward propagation (L_model_forward())\n",
        "    Y -- true \"label\" vector (containing 0 if non-cat, 1 if cat)\n",
        "    caches -- list of caches containing:\n",
        "                every cache of linear_activation_forward() with \"relu\" (it's caches[l], for l in range(L-1) i.e l = 0...L-2)\n",
        "                the cache of linear_activation_forward() with \"sigmoid\" (it's caches[L-1])\n",
        "    \n",
        "    Returns:\n",
        "    grads -- A dictionary with the gradients\n",
        "             grads[\"dA\" + str(l)] = ... \n",
        "             grads[\"dW\" + str(l)] = ...\n",
        "             grads[\"db\" + str(l)] = ... \n",
        "    \"\"\"\n",
        "    grads = {}\n",
        "    L = len(caches) # the number of layers\n",
        "    m = AL.shape[1]\n",
        "    Y = Y.reshape(AL.shape) # after this line, Y is the same shape as AL\n",
        "    \n",
        "    # Initializing the backpropagation\n",
        "    ### START CODE HERE ### (1 line of code)\n",
        "    dAL =-( Y/AL-(1-Y)/(1-AL))\n",
        "    ### END CODE HERE ###\n",
        "    \n",
        "    # Lth layer (SIGMOID -> LINEAR) gradients. Inputs: \"dAL, current_cache\". Outputs: \"grads[\"dAL-1\"], grads[\"dWL\"], grads[\"dbL\"]\n",
        "    ### START CODE HERE ### (approx. 2 lines)\n",
        "    current_cache = caches[L-1]\n",
        "    grads[\"dA\" + str(L-1)], grads[\"dW\" + str(L)], grads[\"db\" + str(L)] = linear_activation_backward(dAL,current_cache,\"sigmoid\",lambd=0.5)\n",
        "    ### END CODE HERE ###\n",
        "    \n",
        "    # Loop from l=L-2 to l=0\n",
        "    for l in reversed(range(L-1)):\n",
        "        # lth layer: (RELU -> LINEAR) gradients.\n",
        "        # Inputs: \"grads[\"dA\" + str(l + 1)], current_cache\". Outputs: \"grads[\"dA\" + str(l)] , grads[\"dW\" + str(l + 1)] , grads[\"db\" + str(l + 1)] \n",
        "        ### START CODE HERE ### (approx. 5 lines)\n",
        "        current_cache = caches[l]\n",
        "        dA_prev_temp, dW_temp, db_temp = linear_activation_backward(grads[\"dA\"+str(l+1)],current_cache,\"relu\",lambd=0.5)\n",
        "        grads[\"dA\" + str(l)] = dA_prev_temp\n",
        "        grads[\"dW\" + str(l + 1)] = dW_temp\n",
        "        grads[\"db\" + str(l + 1)] = db_temp\n",
        "        ### END CODE HERE ###\n",
        "\n",
        "    return grads"
      ],
      "execution_count": 123,
      "outputs": []
    },
    {
      "cell_type": "code",
      "metadata": {
        "id": "ti4opEw1RfMn",
        "colab_type": "code",
        "colab": {}
      },
      "source": [
        "def relu_backward(dA, cache):\n",
        "    \"\"\"\n",
        "    Implement the backward propagation for a single RELU unit.\n",
        "\n",
        "    Arguments:\n",
        "    dA -- post-activation gradient, of any shape\n",
        "    cache -- 'Z' where we store for computing backward propagation efficiently\n",
        "\n",
        "    Returns:\n",
        "    dZ -- Gradient of the cost with respect to Z\n",
        "    \"\"\"\n",
        "    \n",
        "    Z = cache\n",
        "    dZ = np.array(dA, copy=True) # just converting dz to a correct object.\n",
        "    \n",
        "    # When z <= 0, you should set dz to 0 as well. \n",
        "    dZ[Z <= 0] = 0\n",
        "    \n",
        "    assert (dZ.shape == Z.shape)\n",
        "    \n",
        "    return dZ\n",
        "\n",
        "def sigmoid_backward(dA, cache):\n",
        "    \"\"\"\n",
        "    Implement the backward propagation for a single SIGMOID unit.\n",
        "\n",
        "    Arguments:\n",
        "    dA -- post-activation gradient, of any shape\n",
        "    cache -- 'Z' where we store for computing backward propagation efficiently\n",
        "\n",
        "    Returns:\n",
        "    dZ -- Gradient of the cost with respect to Z\n",
        "    \"\"\"\n",
        "    \n",
        "    Z = cache\n",
        "    \n",
        "    s = 1/(1+np.exp(-Z))\n",
        "    dZ = dA * s * (1-s)\n",
        "    \n",
        "    assert (dZ.shape == Z.shape)\n",
        "    \n",
        "    return dZ"
      ],
      "execution_count": 124,
      "outputs": []
    },
    {
      "cell_type": "code",
      "metadata": {
        "id": "y_87dOqnUHZr",
        "colab_type": "code",
        "colab": {}
      },
      "source": [
        "# GRADED FUNCTION: update_parameters\n",
        "\n",
        "def update_parameters(parameters, grads, learning_rate):\n",
        "    \"\"\"\n",
        "    Update parameters using gradient descent\n",
        "    \n",
        "    Arguments:\n",
        "    parameters -- python dictionary containing your parameters \n",
        "    grads -- python dictionary containing your gradients, output of L_model_backward\n",
        "    \n",
        "    Returns:\n",
        "    parameters -- python dictionary containing your updated parameters \n",
        "                  parameters[\"W\" + str(l)] = ... \n",
        "                  parameters[\"b\" + str(l)] = ...\n",
        "    \"\"\"\n",
        "    \n",
        "    L = len(parameters) // 2 # number of layers in the neural network\n",
        "\n",
        "    # Update rule for each parameter. Use a for loop.\n",
        "    ### START CODE HERE ### (≈ 3 lines of code)\n",
        "    for l in range(L):\n",
        "        parameters[\"W\" + str(l+1)] = parameters[\"W\" + str(l+1)]-learning_rate*grads[\"dW\" +str(l+1)]\n",
        "        parameters[\"b\" + str(l+1)] = parameters[\"b\" + str(l+1)]-learning_rate*grads[\"db\" +str(l+1)]\n",
        "    ### END CODE HERE ###\n",
        "    return parameters"
      ],
      "execution_count": 125,
      "outputs": []
    },
    {
      "cell_type": "code",
      "metadata": {
        "id": "5Uz4WtpPUHkX",
        "colab_type": "code",
        "colab": {
          "base_uri": "https://localhost:8080/",
          "height": 255
        },
        "outputId": "7cab534d-d594-4514-c001-45fb82c51542"
      },
      "source": [
        "import numpy as np\n",
        "parameters=initialize_parameters_deep([6,5,1])\n",
        "print(parameters)"
      ],
      "execution_count": 186,
      "outputs": [
        {
          "output_type": "stream",
          "text": [
            "{'W1': array([[ 1.03266513,  0.25201908,  0.05571284, -1.07588801, -0.16015015,\n",
            "        -0.20482019],\n",
            "       [-0.04777082, -0.36199901, -0.02529843, -0.27552196, -0.75856017,\n",
            "         0.51073697],\n",
            "       [ 0.50882921,  0.98702247,  0.02888694, -0.23364061, -0.31486371,\n",
            "        -0.89285909],\n",
            "       [ 0.5671701 , -0.63570169, -0.68418693, -0.11873202,  0.85802815,\n",
            "         0.1366682 ],\n",
            "       [-0.59108263, -0.41164682,  0.36098535, -0.09267243, -0.44388787,\n",
            "        -0.1328083 ]]), 'b1': array([[0.],\n",
            "       [0.],\n",
            "       [0.],\n",
            "       [0.],\n",
            "       [0.]]), 'W2': array([[ 0.47121496,  1.2498022 , -0.78685268, -0.39618084, -0.50834631]]), 'b2': array([[0.]])}\n"
          ],
          "name": "stdout"
        }
      ]
    },
    {
      "cell_type": "code",
      "metadata": {
        "id": "b_NuVBSl6vD4",
        "colab_type": "code",
        "colab": {
          "base_uri": "https://localhost:8080/",
          "height": 68
        },
        "outputId": "b8b37b93-dd07-4c6a-fe49-ddaa71723e78"
      },
      "source": [
        "AL,caches=L_model_forward(X,parameters)\n",
        "print(AL[0][0:10])\n",
        "print(Y[0][0:10])"
      ],
      "execution_count": 187,
      "outputs": [
        {
          "output_type": "stream",
          "text": [
            "[0.03069927 0.00221216 0.02030707 0.00334757 0.00779544 0.02323369\n",
            " 0.00047823 0.14213516 0.03030793 0.11216698]\n",
            "[0 1 1 1 0 0 0 0 1 1]\n"
          ],
          "name": "stdout"
        }
      ]
    },
    {
      "cell_type": "code",
      "metadata": {
        "id": "eZIE4F6g6vO5",
        "colab_type": "code",
        "colab": {
          "base_uri": "https://localhost:8080/",
          "height": 34
        },
        "outputId": "b9092c88-5184-4abb-a456-6bd982f91870"
      },
      "source": [
        "cost=compute_cost(AL,Y,parameters)\n",
        "print(cost)\n"
      ],
      "execution_count": 188,
      "outputs": [
        {
          "output_type": "stream",
          "text": [
            "1.6490033186583983\n"
          ],
          "name": "stdout"
        }
      ]
    },
    {
      "cell_type": "code",
      "metadata": {
        "id": "RCwyeLww6vWL",
        "colab_type": "code",
        "colab": {}
      },
      "source": [
        "grads=L_model_backward(AL,Y,caches)\n"
      ],
      "execution_count": 189,
      "outputs": []
    },
    {
      "cell_type": "code",
      "metadata": {
        "id": "8G0bGP8U6vc9",
        "colab_type": "code",
        "colab": {
          "base_uri": "https://localhost:8080/",
          "height": 612
        },
        "outputId": "0be439eb-4818-4147-96bc-71da8fc6f2cf"
      },
      "source": [
        "print(grads)\n"
      ],
      "execution_count": 190,
      "outputs": [
        {
          "output_type": "stream",
          "text": [
            "{'dA1': array([[ 0.01446596, -0.47017255, -0.46164596, ...,  0.11748383,\n",
            "        -0.46057463,  0.00554278],\n",
            "       [ 0.03836802, -1.24703743, -1.22442238, ...,  0.31160205,\n",
            "        -1.22158089,  0.0147011 ],\n",
            "       [-0.02415581,  0.78511204,  0.77087401, ..., -0.19617897,\n",
            "         0.76908506, -0.00925555],\n",
            "       [-0.01216246,  0.39530443,  0.38813557, ..., -0.09877624,\n",
            "         0.38723483, -0.00466017],\n",
            "       [-0.01560586,  0.50722177,  0.49802329, ..., -0.12674146,\n",
            "         0.49686754, -0.00597955]]), 'dW2': array([[-1.04166937e+01, -2.71182937e-05, -5.23736169e+00,\n",
            "        -5.78892115e+00, -2.65211006e-04]]), 'db2': array([[-0.33899533]]), 'dA0': array([[-0.00425088,  0.13816199,  0.13565642, ..., -0.03452307,\n",
            "         0.1353416 , -0.00162877],\n",
            "       [-0.01246493,  0.40513507,  0.39778794, ..., -0.10123266,\n",
            "         0.3968648 , -0.00477607],\n",
            "       [ 0.00842955, -0.27397729, -0.2690087 , ...,  0.06845976,\n",
            "        -0.26838442,  0.00322987],\n",
            "       [-0.0084759 ,  0.27548366,  0.27048776, ..., -0.06883617,\n",
            "         0.26986004, -0.00324763],\n",
            "       [-0.00514668,  0.16727724,  0.16424366, ..., -0.04179821,\n",
            "         0.16386251, -0.001972  ],\n",
            "       [ 0.01694259, -0.55066805, -0.54068167, ...,  0.13759755,\n",
            "        -0.53942692,  0.00649173]]), 'dW1': array([[-4.87037412e+00, -7.20072811e-02, -6.65150796e-02,\n",
            "        -1.15432884e-01, -7.03051434e-02, -3.88946939e-02],\n",
            "       [-3.04543956e-03, -2.07112776e-03, -3.61015494e-03,\n",
            "        -7.76555689e-05, -2.13799371e-04, -2.64211100e-03],\n",
            "       [ 8.13289690e+00,  1.20637302e-01,  1.10075086e-01,\n",
            "         1.92182017e-01,  1.17234089e-01,  6.40854479e-02],\n",
            "       [ 4.08911146e+00,  5.49495893e-02,  4.98769403e-02,\n",
            "         9.46254628e-02,  5.92019312e-02,  3.10366915e-02],\n",
            "       [ 4.20804747e-04, -1.16022214e-04,  1.38174517e-03,\n",
            "         2.95966492e-04, -1.25109322e-04,  1.35947751e-04]]), 'db1': array([[-0.15973967],\n",
            "       [-0.00278606],\n",
            "       [ 0.26622504],\n",
            "       [ 0.13015047],\n",
            "       [ 0.00078454]])}\n"
          ],
          "name": "stdout"
        }
      ]
    },
    {
      "cell_type": "code",
      "metadata": {
        "id": "L7I1oh646vj_",
        "colab_type": "code",
        "colab": {}
      },
      "source": [
        "parameters=update_parameters(parameters,grads,learning_rate=0.001)\n",
        "\n"
      ],
      "execution_count": 191,
      "outputs": []
    },
    {
      "cell_type": "code",
      "metadata": {
        "id": "D-GHXbYB6vqb",
        "colab_type": "code",
        "colab": {
          "base_uri": "https://localhost:8080/",
          "height": 1000
        },
        "outputId": "befce1ef-bf40-4758-dbe4-40a50a30233e"
      },
      "source": [
        "AL,caches=L_model_forward(X,parameters)\n",
        "print(AL)"
      ],
      "execution_count": 192,
      "outputs": [
        {
          "output_type": "stream",
          "text": [
            "[[5.45106400e-02 6.11088434e-03 3.96820587e-02 8.51679907e-03\n",
            "  1.98291553e-02 4.70272257e-02 2.05741825e-03 1.50821180e-01\n",
            "  5.98137110e-02 1.53863944e-01 2.96415229e-01 9.87771757e-04\n",
            "  9.72105639e-02 3.25863447e-02 1.36014512e-01 2.80686308e-03\n",
            "  8.48550909e-02 1.17424223e-01 1.55893563e-02 6.06249494e-02\n",
            "  3.37441265e-02 3.75735224e-02 1.23439061e-01 3.60485738e-02\n",
            "  1.07760769e-01 2.74317680e-02 5.22824685e-02 4.99584557e-02\n",
            "  4.91052805e-02 7.15577960e-02 9.72055483e-03 2.01283440e-03\n",
            "  9.15669043e-02 1.10146321e-03 2.44125635e-02 5.22822639e-03\n",
            "  1.18607693e-01 8.78579687e-02 4.31820634e-02 9.53009408e-02\n",
            "  5.77380810e-03 4.09478344e-02 4.87106696e-01 8.27075400e-02\n",
            "  3.41168210e-02 6.72087339e-02 3.56457255e-02 7.00260293e-02\n",
            "  6.31849563e-02 1.07632556e-01 8.78579687e-02 1.80090977e-03\n",
            "  3.30356284e-02 7.93029126e-04 5.00385669e-03 1.10751003e-01\n",
            "  4.00767876e-02 4.60470938e-01 6.34894599e-02 7.93261192e-02\n",
            "  9.10499100e-03 3.74779059e-03 1.81371025e-01 6.75834540e-04\n",
            "  2.87030543e-01 4.85770858e-02 1.07441483e-01 3.74249702e-02\n",
            "  2.41050880e-02 4.65202898e-02 2.82617293e-02 1.42567980e-01\n",
            "  3.55998911e-02 2.74867180e-02 5.80891817e-02 7.15577960e-02\n",
            "  4.22766566e-02 6.99669063e-01 2.57753777e-02 7.93261192e-02\n",
            "  3.79868487e-02 2.31195330e-02 3.60485738e-02 1.62841530e-01\n",
            "  5.64165720e-03 2.02613105e-01 9.72105639e-02 2.45990507e-02\n",
            "  6.44969233e-02 3.79868487e-02 9.72105639e-02 3.35381208e-03\n",
            "  5.97387258e-02 1.39186860e-03 7.93261192e-02 3.09842710e-04\n",
            "  7.89020465e-02 3.69466175e-02 2.54582785e-02 3.20062717e-02\n",
            "  3.79868487e-02 9.67009241e-02 2.46590034e-02 7.19578102e-03\n",
            "  4.22766566e-02 6.72924245e-02 3.79868487e-02 1.42736126e-02\n",
            "  2.16457642e-02 4.47843047e-03 9.06029690e-02 7.93261192e-02\n",
            "  5.12053627e-02 1.01270486e-01 8.78579687e-02 3.86669290e-04\n",
            "  4.36214353e-02 7.11720419e-02 6.24371353e-02 6.92892007e-02\n",
            "  1.07441483e-01 2.99525654e-02 3.34095991e-02 2.69744104e-03\n",
            "  1.49482669e-01 1.07441483e-01 6.44969233e-02 3.17863307e-01\n",
            "  6.59245009e-03 2.46590034e-02 9.72105639e-02 2.65438979e-03\n",
            "  3.30356284e-02 9.62172884e-02 1.17424223e-01 1.16193736e-01\n",
            "  9.09296175e-03 1.43963527e-01 5.51840259e-02 1.47176872e-02\n",
            "  6.06249494e-02 3.34007682e-02 1.07441483e-01 1.88508588e-01\n",
            "  1.54273427e-01 4.70272257e-02 1.74794220e-01 4.83913731e-02\n",
            "  1.57525981e-02 5.83487697e-03 3.52934584e-02 2.05465523e-03\n",
            "  1.85121841e-02 4.70272257e-02 3.76454016e-03 1.11875741e-01\n",
            "  3.41168210e-02 1.59298571e-02 9.48474212e-03 9.63893935e-03\n",
            "  1.47607429e-02 5.22824685e-02 1.30764370e-01 7.68103375e-02\n",
            "  3.87100423e-01 3.93879031e-03 9.75684594e-03 1.05513670e-03\n",
            "  4.22766566e-02 9.43949499e-04 1.03268752e-01 2.94845246e-01\n",
            "  8.78579687e-02 1.64696575e-03 1.05650839e-01 1.83852987e-01\n",
            "  2.40605769e-03 5.74701932e-02 1.77748193e-02 9.38860508e-03\n",
            "  2.18710159e-02 1.12386747e-01 3.57259859e-01 4.52353607e-01\n",
            "  1.08543010e-02 2.69059432e-02 5.59058170e-03 1.00690399e-02\n",
            "  1.77748193e-02 3.52569388e-02 1.72046176e-01 5.68996303e-02\n",
            "  5.20478100e-01 4.68556921e-03 9.87771757e-04 4.22766566e-02\n",
            "  1.20171561e-02 6.72924245e-02 8.18490180e-02 4.22766566e-02\n",
            "  1.02987850e-02 2.21155766e-02 6.23731856e-03 1.18607693e-01\n",
            "  4.40352808e-01 1.85611483e-02 5.22824685e-02 1.11875741e-01\n",
            "  9.72055483e-03 6.44969233e-02 2.54914008e-02 7.93261192e-02\n",
            "  5.74701932e-02 5.45106400e-02 1.32384300e-02 3.56457255e-02\n",
            "  1.05958522e-02 1.76190160e-02 5.74701932e-02 1.43963527e-01\n",
            "  7.84996933e-02 3.38840649e-03 7.93261192e-02 8.14167551e-03\n",
            "  7.93261192e-02 1.72046176e-01 9.24280724e-02 1.88508588e-01\n",
            "  7.17790208e-02 8.51679907e-03 3.79868487e-02 2.40028640e-03\n",
            "  8.43971161e-02 1.06355986e-01 6.72924245e-02 8.49649510e-03\n",
            "  4.77247889e-01 1.72046176e-01 4.18186829e-02 5.68996303e-02\n",
            "  6.31849563e-02 6.38142809e-02 7.93261192e-02 3.41168210e-02\n",
            "  2.80613249e-03 4.41545180e-02 1.33021990e-01 1.18955168e-02\n",
            "  2.80313119e-03 1.18607693e-01 2.53072081e-02 8.44468975e-04\n",
            "  2.30894196e-02 1.31857846e-02 4.84402409e-02 9.10499100e-03\n",
            "  2.19225741e-02 1.26746818e-02 6.40619765e-03 9.40287711e-02\n",
            "  2.25670454e-03 9.72055483e-03 6.72924245e-02 3.02927285e-02\n",
            "  4.23573405e-02 3.96312476e-02 1.29548029e-03 1.26746818e-02\n",
            "  3.60485738e-02 5.80891817e-02 1.72781331e-02 1.76734796e-02\n",
            "  1.85854683e-02 3.78786065e-04 4.94615768e-03 1.42567980e-01\n",
            "  1.07632556e-01 1.31276694e-02 7.13581035e-04 4.22766566e-02\n",
            "  1.43963527e-01 1.07441483e-01 1.47350534e-03 2.46590034e-02\n",
            "  3.41168210e-02 7.93261192e-02 1.57525981e-02 6.06249494e-02\n",
            "  3.38227063e-02 4.86267071e-02 3.02927285e-02 4.91052805e-02\n",
            "  6.44969233e-02 2.90543556e-02 6.79423705e-02 3.56602376e-01\n",
            "  4.47843047e-03 3.15419263e-03 7.46349218e-02 2.99446199e-02\n",
            "  1.07441483e-01 7.61720961e-03 4.22766566e-02 4.08103880e-01\n",
            "  5.84885803e-03 6.00411958e-02 3.92007580e-02 2.19225741e-02\n",
            "  4.19152502e-02 6.17425372e-02 5.89287860e-02 4.22766566e-02\n",
            "  1.24118841e-02 3.96820587e-02 5.62925599e-02 4.18338309e-03\n",
            "  3.33573801e-02 6.41303192e-03 7.93261192e-02 4.70272257e-02\n",
            "  4.36771295e-02 8.90871470e-02 7.39322984e-03 1.13529768e-02\n",
            "  1.11404424e-03 2.28641299e-02 2.03530484e-02 1.22810621e-01\n",
            "  1.45884348e-02 5.28913291e-03 1.58388666e-02 7.00260293e-02\n",
            "  3.92126850e-03 3.41168210e-02 2.18939848e-02 6.53401265e-03\n",
            "  6.59245009e-03 5.59058170e-03 5.51301785e-01 2.20616678e-02\n",
            "  7.08060769e-02 9.62172884e-02 3.02927285e-02 8.18490180e-02\n",
            "  1.47607429e-02 1.12080967e-02 3.86039004e-01 9.18620956e-03\n",
            "  7.15577960e-02 6.97698344e-03 1.41660804e-01 3.96312476e-02\n",
            "  7.15577960e-02 4.22766566e-02 6.69280068e-02 1.83792109e-02\n",
            "  6.06249494e-02 5.45794437e-02 2.24515045e-02 4.36214353e-02\n",
            "  6.47897689e-03 1.98291553e-02 3.19649620e-02 3.41168210e-02\n",
            "  5.29119281e-04 1.49270101e-02 6.06249494e-02 4.19152502e-02\n",
            "  3.37791340e-02 8.26063757e-02 1.07441483e-01 6.80276968e-02\n",
            "  1.23990098e-01 2.55180727e-02 6.06249494e-02 6.71244786e-02\n",
            "  9.72105639e-02 1.07441483e-01 5.84885803e-03 4.41011968e-01\n",
            "  2.74867180e-02 8.51679907e-03 4.70272257e-02 1.88508588e-01\n",
            "  4.18029978e-02 2.28641299e-02 1.07441483e-01 1.62841530e-01\n",
            "  1.73498477e-02 8.78579687e-02 1.93815769e-02 3.16887895e-02\n",
            "  8.16264853e-02 7.93261192e-02 2.31195330e-02 1.01434793e-02\n",
            "  1.17424223e-01 5.39957105e-02 1.27873319e-02 5.22824685e-02\n",
            "  4.60531256e-02 2.86901362e-02 7.46349218e-02 2.54582785e-02\n",
            "  3.38840649e-03 5.20478100e-01 8.78579687e-02 1.23990098e-01\n",
            "  9.18620956e-03 4.70272257e-02 1.06211193e-02 1.29477420e-01\n",
            "  7.36406631e-03 2.07315181e-02 2.50282568e-02 2.30460336e-01\n",
            "  5.74701932e-02 2.97349572e-01 8.78579687e-02 3.79868487e-02\n",
            "  2.82071044e-02 1.05650839e-01 2.42766666e-03 3.67876826e-02\n",
            "  1.34683898e-01 4.22766566e-02 2.74867180e-02 3.60485738e-02\n",
            "  1.25131484e-02 7.95782317e-03 1.30764370e-01 2.14995703e-03\n",
            "  1.33145799e-01 5.26703596e-02 8.26751527e-02 1.33874671e-03\n",
            "  5.17219576e-02 7.47632384e-03 9.72105639e-02 3.96312476e-02\n",
            "  5.39957105e-02 3.79868487e-02 4.82995189e-01 2.84981180e-01\n",
            "  1.87992696e-02 2.01385138e-01 2.56989934e-03 3.47278388e-02\n",
            "  2.86901362e-02 2.90543556e-02 2.40285741e-03 6.44969233e-02\n",
            "  3.79868487e-02 6.04592895e-04 4.38161410e-03 4.89051205e-03\n",
            "  1.30764370e-01 4.00795399e-03 2.21155766e-02 4.47843047e-03\n",
            "  8.13301414e-03 2.21155766e-02 1.42736126e-02 1.42567980e-01\n",
            "  1.64696575e-03 7.93261192e-02 1.75228042e-01 1.27873319e-02\n",
            "  1.42736126e-02 3.62830967e-02 9.06255058e-02 6.06249494e-02\n",
            "  9.72055483e-03 2.54582785e-02 2.57418962e-02 7.93261192e-02\n",
            "  4.40352808e-01 7.81063585e-02 2.71844128e-02 3.78643343e-03\n",
            "  6.68008049e-04 3.37791340e-02 1.07760769e-01 8.51679907e-03\n",
            "  1.31828987e-03 3.41168210e-02 2.43648717e-01 7.45428292e-02\n",
            "  8.78579687e-02 1.84080820e-03 3.09842710e-04 8.78579687e-02\n",
            "  5.22824685e-02 1.03224962e-03 2.17216079e-03 4.31265362e-02\n",
            "  6.44969233e-02 1.30764370e-01 6.72924245e-02 6.72924245e-02\n",
            "  1.19799108e-02 9.64268310e-02 7.08767135e-02 5.32681494e-02\n",
            "  1.35282879e-02 4.22766566e-02 5.22824685e-02 3.79868487e-02\n",
            "  6.38362966e-04 1.50993732e-02 1.03224962e-03 6.44969233e-02\n",
            "  4.47843047e-03 2.84117881e-02 3.41168210e-02 1.54158268e-02\n",
            "  2.74867180e-02 2.19225741e-02 7.93261192e-02 1.98291553e-02\n",
            "  6.13812995e-03 1.18607693e-01 1.08398525e-02 4.89051205e-03\n",
            "  3.58672482e-03 1.27873319e-02 7.24873194e-02 4.59013340e-01\n",
            "  1.30764370e-01 1.16655272e-01 8.16264853e-02 2.57753777e-02\n",
            "  5.05098049e-01 5.59058170e-03 2.19225741e-02 4.57005659e-04\n",
            "  8.60087740e-02 1.93813762e-02 8.66248500e-02 7.05357647e-02\n",
            "  3.16150051e-02 2.14995703e-03 6.75834540e-04 9.43251388e-02\n",
            "  7.84996933e-02 2.17124001e-02 3.83347693e-01 1.79891819e-01\n",
            "  7.84996933e-02 8.78579687e-02 7.93261192e-02 6.06249494e-02\n",
            "  8.44468975e-04 2.01283440e-03 5.59058170e-03 7.16379950e-03\n",
            "  8.98853760e-03 3.41168210e-02 1.14540161e-02 7.08060769e-02\n",
            "  1.14540161e-02 7.46716577e-04 2.99446199e-02 1.07441483e-01\n",
            "  8.05583200e-02 4.22766566e-02 2.74867180e-02 1.71923222e-03\n",
            "  7.72360860e-04 1.50993732e-02 6.06249494e-02 1.43963527e-01\n",
            "  1.07441483e-01 2.84117881e-02 5.46985454e-03 6.31849563e-02\n",
            "  2.74867180e-02 6.54227104e-02 7.16379950e-03 4.18338309e-03\n",
            "  1.50993732e-02 1.43963527e-01 1.28138966e-01 9.08329763e-03\n",
            "  9.26375256e-04 7.93261192e-02 7.93261192e-02 1.98291553e-02\n",
            "  1.28970208e-03 5.28205282e-03 1.47176872e-02 1.83551558e-02\n",
            "  1.56376457e-02 3.92510397e-02 4.23101702e-03 1.18607693e-01\n",
            "  2.40285741e-03 4.97587804e-02 9.18620956e-03 1.35282879e-02\n",
            "  7.36406631e-03 1.68497974e-02 1.19641291e-02 3.41168210e-02\n",
            "  4.01286253e-02 1.13715431e-01 7.29883930e-03 2.46095634e-02\n",
            "  8.78579687e-02 6.31849563e-02 7.93261192e-02 1.98291553e-02\n",
            "  9.31076460e-02 1.94668315e-02 2.69059432e-02 3.27339223e-01\n",
            "  8.69510519e-02 3.19649620e-02 5.22822639e-03 8.63621271e-02\n",
            "  8.78579687e-02 8.78579687e-02 9.43949499e-04 2.99791574e-03\n",
            "  5.76007302e-02 5.22824685e-02 1.18607693e-01 1.13645376e-04\n",
            "  3.38840649e-03 2.33842500e-02 2.90543556e-02 1.24140502e-01\n",
            "  5.39957105e-02 2.74867180e-02 4.56929939e-02 2.92876885e-02\n",
            "  1.07157158e-02 9.72105639e-02 4.19152502e-02 1.13129976e-01\n",
            "  2.74867180e-02 1.75228042e-01 2.68542651e-03 1.07441483e-01\n",
            "  1.64696575e-03 8.78579687e-02 5.45794437e-02 7.15577960e-02\n",
            "  1.85849669e-01 8.78579687e-02 1.11875741e-01 9.15669043e-02\n",
            "  5.05916599e-02 4.70272257e-02 1.82454465e-02 1.17424223e-01\n",
            "  2.26680533e-03 1.43963724e-03 1.14540161e-02 4.47843047e-03\n",
            "  1.77748193e-02 6.72087339e-02 2.13783544e-02 9.62172884e-02\n",
            "  4.23101702e-03 8.22524891e-03 2.01283440e-03 1.29811803e-02\n",
            "  1.75959381e-02 7.05519291e-04 5.17219576e-02 1.72046176e-01\n",
            "  1.18607693e-01 6.12147239e-02 9.15669043e-02 2.07535408e-02\n",
            "  1.97163384e-02 3.20062717e-02 4.01286253e-02 9.72105639e-02\n",
            "  4.62791453e-02 1.88582293e-03 1.09217223e-01 5.23812038e-02\n",
            "  1.07441483e-01 1.18607693e-01 1.35331933e-01 1.75959381e-02\n",
            "  3.86355271e-01 1.59298571e-02 5.80891817e-02 1.05513670e-03\n",
            "  5.22264811e-03 7.36406631e-03 8.27075400e-02 3.15000040e-03\n",
            "  9.18620956e-03 5.40505524e-02 1.68497974e-02 1.16792826e-01\n",
            "  5.80891817e-02 3.55998911e-02 2.18710159e-02 8.50774205e-03\n",
            "  7.79325446e-03 5.18401563e-02 3.59978553e-01 4.19152502e-02\n",
            "  8.70418789e-03 2.68542651e-03 3.79868487e-02 5.22264811e-03\n",
            "  1.07441483e-01 9.10499100e-03 5.99806609e-02 2.46590034e-02\n",
            "  4.65147600e-01 9.14559841e-02 3.75735224e-02 6.51840455e-03\n",
            "  2.72128066e-02 9.72105639e-02 1.34986390e-02 3.20062717e-02\n",
            "  6.64994297e-02 2.99833996e-02 2.44443594e-02 2.26981967e-01\n",
            "  1.75773972e-02 1.17424223e-01 1.17424223e-01 4.00767876e-02\n",
            "  5.34695232e-03 1.68497974e-02 9.72105639e-02 2.74867180e-02\n",
            "  5.59058170e-03 1.01542599e-02 4.49830217e-02 4.40982431e-02\n",
            "  3.06285115e-02 3.04070534e-04 1.28641043e-01 4.36771295e-02\n",
            "  6.38784219e-02 3.06285115e-02 4.21047238e-01 4.02125311e-01\n",
            "  2.46590034e-02 7.15577960e-02 7.02375203e-03 5.35245697e-01\n",
            "  4.22766566e-02 1.88508588e-01 2.21155766e-02 1.57899658e-02\n",
            "  7.15577960e-02 1.02582786e-02 9.72105639e-02 1.30524725e-02\n",
            "  1.43963527e-01 1.44155649e-03 5.00385669e-03 2.44122672e-02\n",
            "  2.86901362e-02 2.74867180e-02 6.44969233e-02 4.72755362e-03\n",
            "  2.24723391e-03 3.79868487e-02 4.73182416e-03 1.18607693e-01\n",
            "  9.72105639e-02 3.00353260e-01 7.93261192e-02 6.85693712e-03\n",
            "  1.49652373e-01 6.00411958e-02 3.23693696e-02 2.27682801e-02\n",
            "  5.80891817e-02 5.80891817e-02 9.15669043e-02 9.73854271e-02\n",
            "  3.69995722e-01 5.00385669e-03 9.72105639e-02 2.24993176e-01\n",
            "  4.96579360e-03 6.97698344e-03 5.80891817e-02 2.18710159e-02\n",
            "  2.68900212e-03 2.31195330e-02 3.41168210e-02 2.26984788e-02\n",
            "  3.75735224e-02 3.46226719e-02 2.22689155e-01 4.98300524e-01\n",
            "  4.70272257e-02 3.06285115e-02 1.08543010e-02 9.15669043e-02\n",
            "  2.18710159e-02 1.06211193e-02 5.22824685e-02 1.27873319e-02\n",
            "  3.37441265e-02 9.31562919e-02 3.23272177e-02 1.08543010e-02\n",
            "  5.45794437e-02 4.56929939e-02 8.22524891e-03 1.44762337e-01\n",
            "  1.69130806e-03 4.70272257e-02 1.21186622e-02 4.62501681e-02\n",
            "  8.48550909e-02 1.77748193e-02 7.15577960e-02 7.25244373e-01\n",
            "  1.07441483e-01 6.32670714e-04 8.61145449e-02 5.37181796e-01\n",
            "  3.41168210e-02 7.15577960e-02 1.18607693e-01 7.16379950e-03\n",
            "  8.78579687e-02 9.72105639e-02 2.74867180e-02 3.23693696e-02\n",
            "  9.72105639e-02 2.24993176e-01 2.19225741e-02 2.09418513e-02\n",
            "  1.30764370e-01 9.18620956e-03 9.22252219e-03 1.98291553e-02\n",
            "  9.08847673e-02 4.89573732e-03 1.03674383e-01 2.61797121e-04\n",
            "  1.94387653e-01 1.22810621e-01 6.37776979e-03 1.16792826e-01\n",
            "  3.68309984e-03 2.87205553e-03 1.04428708e-01 3.41168210e-02\n",
            "  4.61923813e-03 1.00120064e-01 3.00511965e-03 1.07722168e-02\n",
            "  1.06355986e-01 1.18460756e-02 4.09478344e-02 2.60696924e-02\n",
            "  7.15577960e-02 3.59978553e-01 5.22824685e-02 2.94928428e-03\n",
            "  2.09694794e-02 5.28205282e-03 3.67876826e-02 1.23439061e-01\n",
            "  9.72105639e-02 1.07441483e-01 7.15577960e-02 1.61847850e-03\n",
            "  9.47082125e-02 2.46590034e-02 6.06249494e-02 7.08060769e-02\n",
            "  5.80891817e-02 3.63359746e-02 7.84996933e-02 7.09646242e-02\n",
            "  2.83467399e-01 4.46490758e-02 2.74867180e-02]]\n"
          ],
          "name": "stdout"
        }
      ]
    },
    {
      "cell_type": "code",
      "metadata": {
        "id": "L0LmRadG6vx3",
        "colab_type": "code",
        "colab": {
          "base_uri": "https://localhost:8080/",
          "height": 312
        },
        "outputId": "d9b323a7-3c0f-4d3d-8a93-22d6b3c68b2b"
      },
      "source": [
        "costs=[]\n",
        "import matplotlib.pyplot as plt\n",
        "%matplotlib inline\n",
        "for i in range(10000):\n",
        "  grads=L_model_backward(AL,Y,caches,lambd=0.0)\n",
        "  parameters=update_parameters(parameters,grads,learning_rate=0.001)\n",
        "\n",
        "  AL,caches=L_model_forward(X,parameters)\n",
        "  costs.append(compute_cost(AL,Y,parameters,lambd=0.0))\n",
        "  plt.plot(np.squeeze(cost))\n",
        "  plt.ylabel('cost')\n",
        "  plt.xlabel('iterations (per hundreds)')\n",
        "  plt.title(\"Learning rate =\" + str(0.001))\n",
        "plt.plot(list(range(10000)), costs, '-r')\n",
        "print(cost)"
      ],
      "execution_count": 195,
      "outputs": [
        {
          "output_type": "stream",
          "text": [
            "1.6490033186583983\n"
          ],
          "name": "stdout"
        },
        {
          "output_type": "display_data",
          "data": {
            "image/png": "[encoded data removed]",
            "text/plain": [
              "<Figure size 432x288 with 1 Axes>"
            ]
          },
          "metadata": {
            "tags": [],
            "needs_background": "light"
          }
        }
      ]
    },
    {
      "cell_type": "code",
      "metadata": {
        "id": "Z3nQu6iDOFDQ",
        "colab_type": "code",
        "colab": {
          "base_uri": "https://localhost:8080/",
          "height": 34
        },
        "outputId": "fb7f1059-83a8-497c-ba25-dfd55c5ed636"
      },
      "source": [
        "print(costs[9999])"
      ],
      "execution_count": 196,
      "outputs": [
        {
          "output_type": "stream",
          "text": [
            "0.44639151488618556\n"
          ],
          "name": "stdout"
        }
      ]
    },
    {
      "cell_type": "code",
      "metadata": {
        "id": "GPUpN6hYJuOF",
        "colab_type": "code",
        "colab": {
          "base_uri": "https://localhost:8080/",
          "height": 68
        },
        "outputId": "a1168f5f-d884-44b0-fa13-505f6a389ee6"
      },
      "source": [
        "print(costs[0\n",
        "            ])\n",
        "print(AL[0][0:5])\n",
        "print(Y[0][0:5])"
      ],
      "execution_count": 197,
      "outputs": [
        {
          "output_type": "stream",
          "text": [
            "0.5157765060154009\n",
            "[0.13083765 0.82513763 0.64810454 0.84326875 0.11467289]\n",
            "[0 1 1 1 0]\n"
          ],
          "name": "stdout"
        }
      ]
    },
    {
      "cell_type": "code",
      "metadata": {
        "id": "JeJoKQPd-8FZ",
        "colab_type": "code",
        "colab": {}
      },
      "source": [
        "#"
      ],
      "execution_count": null,
      "outputs": []
    },
    {
      "cell_type": "code",
      "metadata": {
        "id": "TvzPZkOtn9pA",
        "colab_type": "code",
        "colab": {
          "base_uri": "https://localhost:8080/",
          "height": 329
        },
        "outputId": "52c59a0a-c87f-4563-ec73-d259188953ba"
      },
      "source": [
        "costs=[]\n",
        "import matplotlib.pyplot as plt\n",
        "%matplotlib inline\n",
        "for i in range(10000):\n",
        "  grads=L_model_backward(AL,Y,caches)\n",
        "  parameters=update_parameters(parameters,grads,learning_rate=0.01)\n",
        "  AL,caches=L_model_forward(X,parameters)\n",
        "  costs.append(compute_cost(AL,Y,parameters))\n",
        "  plt.plot(np.squeeze(cost))\n",
        "  plt.ylabel('cost')\n",
        "  plt.xlabel('iterations (per hundreds)')\n",
        "  plt.title(\"Learning rate =\" + str(0.001))\n",
        "plt.plot(list(range(10000)), costs, '-r')\n",
        "print(cost)"
      ],
      "execution_count": 185,
      "outputs": [
        {
          "output_type": "stream",
          "text": [
            "/usr/local/lib/python3.6/dist-packages/ipykernel_launcher.py:17: RuntimeWarning: invalid value encountered in less_equal\n"
          ],
          "name": "stderr"
        },
        {
          "output_type": "stream",
          "text": [
            "1.6490033186583983\n"
          ],
          "name": "stdout"
        },
        {
          "output_type": "display_data",
          "data": {
            "image/png": "[encoded data removed]",
            "text/plain": [
              "<Figure size 432x288 with 1 Axes>"
            ]
          },
          "metadata": {
            "tags": [],
            "needs_background": "light"
          }
        }
      ]
    },
    {
      "cell_type": "code",
      "metadata": {
        "id": "3QkgWt0ITJm4",
        "colab_type": "code",
        "colab": {}
      },
      "source": [
        "print(AL[0][0:10])\n",
        "print(Y[0][0:10])"
      ],
      "execution_count": null,
      "outputs": []
    },
    {
      "cell_type": "code",
      "metadata": {
        "id": "46tz2ZuwTJt9",
        "colab_type": "code",
        "colab": {
          "base_uri": "https://localhost:8080/",
          "height": 34
        },
        "outputId": "0abd0ff1-8c35-4eaa-872f-9e38904bf6ea"
      },
      "source": [
        "AL,caches=L_model_forward([[22],[1],[1],[0],[0],[1]],parameters)\n",
        "print(AL)"
      ],
      "execution_count": 245,
      "outputs": [
        {
          "output_type": "stream",
          "text": [
            "[[0.28976212]]\n"
          ],
          "name": "stdout"
        }
      ]
    },
    {
      "cell_type": "code",
      "metadata": {
        "id": "ol6UwOKFTJ2a",
        "colab_type": "code",
        "colab": {
          "base_uri": "https://localhost:8080/",
          "height": 34
        },
        "outputId": "c774ef81-2dc5-4594-a08a-51aa85788be4"
      },
      "source": [
        "print(AL)"
      ],
      "execution_count": 203,
      "outputs": [
        {
          "output_type": "stream",
          "text": [
            "[[0.32972394]]\n"
          ],
          "name": "stdout"
        }
      ]
    },
    {
      "cell_type": "code",
      "metadata": {
        "id": "ukN8WEzyTKKj",
        "colab_type": "code",
        "colab": {
          "base_uri": "https://localhost:8080/",
          "height": 204
        },
        "outputId": "86d7f292-803b-4f49-f5e3-43c16f57780a"
      },
      "source": [
        "td.head()"
      ],
      "execution_count": 204,
      "outputs": [
        {
          "output_type": "execute_result",
          "data": {
            "text/html": [
              "<div>\n",
              "<style scoped>\n",
              "    .dataframe tbody tr th:only-of-type {\n",
              "        vertical-align: middle;\n",
              "    }\n",
              "\n",
              "    .dataframe tbody tr th {\n",
              "        vertical-align: top;\n",
              "    }\n",
              "\n",
              "    .dataframe thead th {\n",
              "        text-align: right;\n",
              "    }\n",
              "</style>\n",
              "<table border=\"1\" class=\"dataframe\">\n",
              "  <thead>\n",
              "    <tr style=\"text-align: right;\">\n",
              "      <th></th>\n",
              "      <th>Survived</th>\n",
              "      <th>Age</th>\n",
              "      <th>Siblings/Spouses Aboard</th>\n",
              "      <th>Parents/Children Aboard</th>\n",
              "      <th>female</th>\n",
              "      <th>1</th>\n",
              "      <th>2</th>\n",
              "    </tr>\n",
              "  </thead>\n",
              "  <tbody>\n",
              "    <tr>\n",
              "      <th>0</th>\n",
              "      <td>0</td>\n",
              "      <td>22.0</td>\n",
              "      <td>1</td>\n",
              "      <td>0</td>\n",
              "      <td>0</td>\n",
              "      <td>0</td>\n",
              "      <td>0</td>\n",
              "    </tr>\n",
              "    <tr>\n",
              "      <th>1</th>\n",
              "      <td>1</td>\n",
              "      <td>38.0</td>\n",
              "      <td>1</td>\n",
              "      <td>0</td>\n",
              "      <td>1</td>\n",
              "      <td>1</td>\n",
              "      <td>0</td>\n",
              "    </tr>\n",
              "    <tr>\n",
              "      <th>2</th>\n",
              "      <td>1</td>\n",
              "      <td>26.0</td>\n",
              "      <td>0</td>\n",
              "      <td>0</td>\n",
              "      <td>1</td>\n",
              "      <td>0</td>\n",
              "      <td>0</td>\n",
              "    </tr>\n",
              "    <tr>\n",
              "      <th>3</th>\n",
              "      <td>1</td>\n",
              "      <td>35.0</td>\n",
              "      <td>1</td>\n",
              "      <td>0</td>\n",
              "      <td>1</td>\n",
              "      <td>1</td>\n",
              "      <td>0</td>\n",
              "    </tr>\n",
              "    <tr>\n",
              "      <th>4</th>\n",
              "      <td>0</td>\n",
              "      <td>35.0</td>\n",
              "      <td>0</td>\n",
              "      <td>0</td>\n",
              "      <td>0</td>\n",
              "      <td>0</td>\n",
              "      <td>0</td>\n",
              "    </tr>\n",
              "  </tbody>\n",
              "</table>\n",
              "</div>"
            ],
            "text/plain": [
              "   Survived   Age  Siblings/Spouses Aboard  ...  female  1  2\n",
              "0         0  22.0                        1  ...       0  0  0\n",
              "1         1  38.0                        1  ...       1  1  0\n",
              "2         1  26.0                        0  ...       1  0  0\n",
              "3         1  35.0                        1  ...       1  1  0\n",
              "4         0  35.0                        0  ...       0  0  0\n",
              "\n",
              "[5 rows x 7 columns]"
            ]
          },
          "metadata": {
            "tags": []
          },
          "execution_count": 204
        }
      ]
    },
    {
      "cell_type": "code",
      "metadata": {
        "id": "-VAgPYAGTKXB",
        "colab_type": "code",
        "colab": {}
      },
      "source": [
        ""
      ],
      "execution_count": null,
      "outputs": []
    },
    {
      "cell_type": "code",
      "metadata": {
        "id": "vuI3xyK8TKhF",
        "colab_type": "code",
        "colab": {}
      },
      "source": [
        ""
      ],
      "execution_count": null,
      "outputs": []
    },
    {
      "cell_type": "code",
      "metadata": {
        "id": "4GScyAOoTKsG",
        "colab_type": "code",
        "colab": {}
      },
      "source": [
        ""
      ],
      "execution_count": null,
      "outputs": []
    },
    {
      "cell_type": "code",
      "metadata": {
        "id": "S2spOcQoTK4h",
        "colab_type": "code",
        "colab": {}
      },
      "source": [
        ""
      ],
      "execution_count": null,
      "outputs": []
    },
    {
      "cell_type": "code",
      "metadata": {
        "id": "_vr59muCTLCu",
        "colab_type": "code",
        "colab": {}
      },
      "source": [
        ""
      ],
      "execution_count": null,
      "outputs": []
    },
    {
      "cell_type": "code",
      "metadata": {
        "id": "M7cb0Sc16v6N",
        "colab_type": "code",
        "colab": {}
      },
      "source": [
        ""
      ],
      "execution_count": null,
      "outputs": []
    },
    {
      "cell_type": "code",
      "metadata": {
        "id": "azrRquJmbOHk",
        "colab_type": "code",
        "colab": {}
      },
      "source": [
        ""
      ],
      "execution_count": null,
      "outputs": []
    },
    {
      "cell_type": "code",
      "metadata": {
        "id": "4tTkJmCxc0M_",
        "colab_type": "code",
        "colab": {}
      },
      "source": [
        ""
      ],
      "execution_count": null,
      "outputs": []
    },
    {
      "cell_type": "code",
      "metadata": {
        "id": "DAX4slnKdZD-",
        "colab_type": "code",
        "colab": {}
      },
      "source": [
        ""
      ],
      "execution_count": null,
      "outputs": []
    },
    {
      "cell_type": "code",
      "metadata": {
        "id": "wJvuxz9SvgDD",
        "colab_type": "code",
        "colab": {}
      },
      "source": [
        ""
      ],
      "execution_count": null,
      "outputs": []
    },
    {
      "cell_type": "code",
      "metadata": {
        "id": "LYtNCNcUg-uu",
        "colab_type": "code",
        "colab": {}
      },
      "source": [
        ""
      ],
      "execution_count": null,
      "outputs": []
    },
    {
      "cell_type": "code",
      "metadata": {
        "id": "hnwqr8rEgP1r",
        "colab_type": "code",
        "colab": {}
      },
      "source": [
        ""
      ],
      "execution_count": null,
      "outputs": []
    },
    {
      "cell_type": "code",
      "metadata": {
        "id": "6d6VWyjdkbNU",
        "colab_type": "code",
        "colab": {}
      },
      "source": [
        ""
      ],
      "execution_count": null,
      "outputs": []
    },
    {
      "cell_type": "code",
      "metadata": {
        "id": "aFMHyKeokqlu",
        "colab_type": "code",
        "colab": {}
      },
      "source": [
        ""
      ],
      "execution_count": null,
      "outputs": []
    },
    {
      "cell_type": "code",
      "metadata": {
        "id": "JGyPX1MjweN1",
        "colab_type": "code",
        "colab": {}
      },
      "source": [
        ""
      ],
      "execution_count": null,
      "outputs": []
    },
    {
      "cell_type": "code",
      "metadata": {
        "id": "m6Os0JWCjnEk",
        "colab_type": "code",
        "colab": {}
      },
      "source": [
        ""
      ],
      "execution_count": null,
      "outputs": []
    },
    {
      "cell_type": "code",
      "metadata": {
        "id": "qwBw3P--m0bf",
        "colab_type": "code",
        "colab": {}
      },
      "source": [
        ""
      ],
      "execution_count": null,
      "outputs": []
    },
    {
      "cell_type": "code",
      "metadata": {
        "id": "z7_yDeublF3y",
        "colab_type": "code",
        "colab": {}
      },
      "source": [
        ""
      ],
      "execution_count": null,
      "outputs": []
    },
    {
      "cell_type": "code",
      "metadata": {
        "id": "F5OQlFXKh8m6",
        "colab_type": "code",
        "colab": {}
      },
      "source": [
        ""
      ],
      "execution_count": null,
      "outputs": []
    },
    {
      "cell_type": "code",
      "metadata": {
        "id": "G2gAMy9_J8xC",
        "colab_type": "code",
        "colab": {}
      },
      "source": [
        ""
      ],
      "execution_count": null,
      "outputs": []
    },
    {
      "cell_type": "code",
      "metadata": {
        "id": "pRc-vA43uCf3",
        "colab_type": "code",
        "colab": {}
      },
      "source": [
        ""
      ],
      "execution_count": null,
      "outputs": []
    },
    {
      "cell_type": "code",
      "metadata": {
        "id": "z9Z6ABBpu8Nm",
        "colab_type": "code",
        "colab": {}
      },
      "source": [
        ""
      ],
      "execution_count": null,
      "outputs": []
    }
  ]
}