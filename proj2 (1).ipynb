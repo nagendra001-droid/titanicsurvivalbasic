{
  "nbformat": 4,
  "nbformat_minor": 0,
  "metadata": {
    "colab": {
      "name": "proj2.ipynb",
      "provenance": [],
      "collapsed_sections": []
    },
    "kernelspec": {
      "name": "python3",
      "display_name": "Python 3"
    },
    "accelerator": "GPU"
  },
  "cells": [
    {
      "cell_type": "code",
      "metadata": {
        "id": "aS0zWwiGuRHi",
        "colab_type": "code",
        "colab": {
          "base_uri": "https://localhost:8080/",
          "height": 195
        },
        "outputId": "3078661e-1d96-498c-f8ca-7c91444ac74f"
      },
      "source": [
        "import pandas as pd\n",
        "df=pd.read_csv('/content/titanic.csv')\n",
        "df.head()\n"
      ],
      "execution_count": 1,
      "outputs": [
        {
          "output_type": "execute_result",
          "data": {
            "text/html": [
              "<div>\n",
              "<style scoped>\n",
              "    .dataframe tbody tr th:only-of-type {\n",
              "        vertical-align: middle;\n",
              "    }\n",
              "\n",
              "    .dataframe tbody tr th {\n",
              "        vertical-align: top;\n",
              "    }\n",
              "\n",
              "    .dataframe thead th {\n",
              "        text-align: right;\n",
              "    }\n",
              "</style>\n",
              "<table border=\"1\" class=\"dataframe\">\n",
              "  <thead>\n",
              "    <tr style=\"text-align: right;\">\n",
              "      <th></th>\n",
              "      <th>Survived</th>\n",
              "      <th>Pclass</th>\n",
              "      <th>Name</th>\n",
              "      <th>Sex</th>\n",
              "      <th>Age</th>\n",
              "      <th>Siblings/Spouses Aboard</th>\n",
              "      <th>Parents/Children Aboard</th>\n",
              "      <th>Fare</th>\n",
              "    </tr>\n",
              "  </thead>\n",
              "  <tbody>\n",
              "    <tr>\n",
              "      <th>0</th>\n",
              "      <td>0</td>\n",
              "      <td>3</td>\n",
              "      <td>Mr. Owen Harris Braund</td>\n",
              "      <td>male</td>\n",
              "      <td>22.0</td>\n",
              "      <td>1</td>\n",
              "      <td>0</td>\n",
              "      <td>7.2500</td>\n",
              "    </tr>\n",
              "    <tr>\n",
              "      <th>1</th>\n",
              "      <td>1</td>\n",
              "      <td>1</td>\n",
              "      <td>Mrs. John Bradley (Florence Briggs Thayer) Cum...</td>\n",
              "      <td>female</td>\n",
              "      <td>38.0</td>\n",
              "      <td>1</td>\n",
              "      <td>0</td>\n",
              "      <td>71.2833</td>\n",
              "    </tr>\n",
              "    <tr>\n",
              "      <th>2</th>\n",
              "      <td>1</td>\n",
              "      <td>3</td>\n",
              "      <td>Miss. Laina Heikkinen</td>\n",
              "      <td>female</td>\n",
              "      <td>26.0</td>\n",
              "      <td>0</td>\n",
              "      <td>0</td>\n",
              "      <td>7.9250</td>\n",
              "    </tr>\n",
              "    <tr>\n",
              "      <th>3</th>\n",
              "      <td>1</td>\n",
              "      <td>1</td>\n",
              "      <td>Mrs. Jacques Heath (Lily May Peel) Futrelle</td>\n",
              "      <td>female</td>\n",
              "      <td>35.0</td>\n",
              "      <td>1</td>\n",
              "      <td>0</td>\n",
              "      <td>53.1000</td>\n",
              "    </tr>\n",
              "    <tr>\n",
              "      <th>4</th>\n",
              "      <td>0</td>\n",
              "      <td>3</td>\n",
              "      <td>Mr. William Henry Allen</td>\n",
              "      <td>male</td>\n",
              "      <td>35.0</td>\n",
              "      <td>0</td>\n",
              "      <td>0</td>\n",
              "      <td>8.0500</td>\n",
              "    </tr>\n",
              "  </tbody>\n",
              "</table>\n",
              "</div>"
            ],
            "text/plain": [
              "   Survived  Pclass  ... Parents/Children Aboard     Fare\n",
              "0         0       3  ...                       0   7.2500\n",
              "1         1       1  ...                       0  71.2833\n",
              "2         1       3  ...                       0   7.9250\n",
              "3         1       1  ...                       0  53.1000\n",
              "4         0       3  ...                       0   8.0500\n",
              "\n",
              "[5 rows x 8 columns]"
            ]
          },
          "metadata": {
            "tags": []
          },
          "execution_count": 1
        }
      ]
    },
    {
      "cell_type": "code",
      "metadata": {
        "id": "IBOUBKrkvJTg",
        "colab_type": "code",
        "colab": {}
      },
      "source": [
        "df = df.drop(['Name','Fare'],axis=1)\n"
      ],
      "execution_count": 2,
      "outputs": []
    },
    {
      "cell_type": "code",
      "metadata": {
        "id": "NmxPPX7zw13o",
        "colab_type": "code",
        "colab": {
          "base_uri": "https://localhost:8080/",
          "height": 343
        },
        "outputId": "1df3d47a-5c99-4da1-f8bd-e934763ccab9"
      },
      "source": [
        "df.head(10)"
      ],
      "execution_count": 3,
      "outputs": [
        {
          "output_type": "execute_result",
          "data": {
            "text/html": [
              "<div>\n",
              "<style scoped>\n",
              "    .dataframe tbody tr th:only-of-type {\n",
              "        vertical-align: middle;\n",
              "    }\n",
              "\n",
              "    .dataframe tbody tr th {\n",
              "        vertical-align: top;\n",
              "    }\n",
              "\n",
              "    .dataframe thead th {\n",
              "        text-align: right;\n",
              "    }\n",
              "</style>\n",
              "<table border=\"1\" class=\"dataframe\">\n",
              "  <thead>\n",
              "    <tr style=\"text-align: right;\">\n",
              "      <th></th>\n",
              "      <th>Survived</th>\n",
              "      <th>Pclass</th>\n",
              "      <th>Sex</th>\n",
              "      <th>Age</th>\n",
              "      <th>Siblings/Spouses Aboard</th>\n",
              "      <th>Parents/Children Aboard</th>\n",
              "    </tr>\n",
              "  </thead>\n",
              "  <tbody>\n",
              "    <tr>\n",
              "      <th>0</th>\n",
              "      <td>0</td>\n",
              "      <td>3</td>\n",
              "      <td>male</td>\n",
              "      <td>22.0</td>\n",
              "      <td>1</td>\n",
              "      <td>0</td>\n",
              "    </tr>\n",
              "    <tr>\n",
              "      <th>1</th>\n",
              "      <td>1</td>\n",
              "      <td>1</td>\n",
              "      <td>female</td>\n",
              "      <td>38.0</td>\n",
              "      <td>1</td>\n",
              "      <td>0</td>\n",
              "    </tr>\n",
              "    <tr>\n",
              "      <th>2</th>\n",
              "      <td>1</td>\n",
              "      <td>3</td>\n",
              "      <td>female</td>\n",
              "      <td>26.0</td>\n",
              "      <td>0</td>\n",
              "      <td>0</td>\n",
              "    </tr>\n",
              "    <tr>\n",
              "      <th>3</th>\n",
              "      <td>1</td>\n",
              "      <td>1</td>\n",
              "      <td>female</td>\n",
              "      <td>35.0</td>\n",
              "      <td>1</td>\n",
              "      <td>0</td>\n",
              "    </tr>\n",
              "    <tr>\n",
              "      <th>4</th>\n",
              "      <td>0</td>\n",
              "      <td>3</td>\n",
              "      <td>male</td>\n",
              "      <td>35.0</td>\n",
              "      <td>0</td>\n",
              "      <td>0</td>\n",
              "    </tr>\n",
              "    <tr>\n",
              "      <th>5</th>\n",
              "      <td>0</td>\n",
              "      <td>3</td>\n",
              "      <td>male</td>\n",
              "      <td>27.0</td>\n",
              "      <td>0</td>\n",
              "      <td>0</td>\n",
              "    </tr>\n",
              "    <tr>\n",
              "      <th>6</th>\n",
              "      <td>0</td>\n",
              "      <td>1</td>\n",
              "      <td>male</td>\n",
              "      <td>54.0</td>\n",
              "      <td>0</td>\n",
              "      <td>0</td>\n",
              "    </tr>\n",
              "    <tr>\n",
              "      <th>7</th>\n",
              "      <td>0</td>\n",
              "      <td>3</td>\n",
              "      <td>male</td>\n",
              "      <td>2.0</td>\n",
              "      <td>3</td>\n",
              "      <td>1</td>\n",
              "    </tr>\n",
              "    <tr>\n",
              "      <th>8</th>\n",
              "      <td>1</td>\n",
              "      <td>3</td>\n",
              "      <td>female</td>\n",
              "      <td>27.0</td>\n",
              "      <td>0</td>\n",
              "      <td>2</td>\n",
              "    </tr>\n",
              "    <tr>\n",
              "      <th>9</th>\n",
              "      <td>1</td>\n",
              "      <td>2</td>\n",
              "      <td>female</td>\n",
              "      <td>14.0</td>\n",
              "      <td>1</td>\n",
              "      <td>0</td>\n",
              "    </tr>\n",
              "  </tbody>\n",
              "</table>\n",
              "</div>"
            ],
            "text/plain": [
              "   Survived  Pclass  ... Siblings/Spouses Aboard  Parents/Children Aboard\n",
              "0         0       3  ...                       1                        0\n",
              "1         1       1  ...                       1                        0\n",
              "2         1       3  ...                       0                        0\n",
              "3         1       1  ...                       1                        0\n",
              "4         0       3  ...                       0                        0\n",
              "5         0       3  ...                       0                        0\n",
              "6         0       1  ...                       0                        0\n",
              "7         0       3  ...                       3                        1\n",
              "8         1       3  ...                       0                        2\n",
              "9         1       2  ...                       1                        0\n",
              "\n",
              "[10 rows x 6 columns]"
            ]
          },
          "metadata": {
            "tags": []
          },
          "execution_count": 3
        }
      ]
    },
    {
      "cell_type": "code",
      "metadata": {
        "id": "rQUs3W7Kx7nJ",
        "colab_type": "code",
        "colab": {
          "base_uri": "https://localhost:8080/",
          "height": 151
        },
        "outputId": "3cb513dd-10ec-452a-f350-b8a87e79862e"
      },
      "source": [
        "# df=df.apply(lambda col: pd.factorize(col, sort=False)[0])\n",
        "print(df.head())"
      ],
      "execution_count": 4,
      "outputs": [
        {
          "output_type": "stream",
          "text": [
            "   Survived  Pclass  ... Siblings/Spouses Aboard  Parents/Children Aboard\n",
            "0         0       3  ...                       1                        0\n",
            "1         1       1  ...                       1                        0\n",
            "2         1       3  ...                       0                        0\n",
            "3         1       1  ...                       1                        0\n",
            "4         0       3  ...                       0                        0\n",
            "\n",
            "[5 rows x 6 columns]\n"
          ],
          "name": "stdout"
        }
      ]
    },
    {
      "cell_type": "code",
      "metadata": {
        "id": "SzcFO5Ctqap0",
        "colab_type": "code",
        "colab": {
          "base_uri": "https://localhost:8080/",
          "height": 402
        },
        "outputId": "10dbcdba-ea12-458d-9d6c-db1e424af1c3"
      },
      "source": [
        "dum=pd.get_dummies(df['Sex'])\n",
        "dum"
      ],
      "execution_count": 5,
      "outputs": [
        {
          "output_type": "execute_result",
          "data": {
            "text/html": [
              "<div>\n",
              "<style scoped>\n",
              "    .dataframe tbody tr th:only-of-type {\n",
              "        vertical-align: middle;\n",
              "    }\n",
              "\n",
              "    .dataframe tbody tr th {\n",
              "        vertical-align: top;\n",
              "    }\n",
              "\n",
              "    .dataframe thead th {\n",
              "        text-align: right;\n",
              "    }\n",
              "</style>\n",
              "<table border=\"1\" class=\"dataframe\">\n",
              "  <thead>\n",
              "    <tr style=\"text-align: right;\">\n",
              "      <th></th>\n",
              "      <th>female</th>\n",
              "      <th>male</th>\n",
              "    </tr>\n",
              "  </thead>\n",
              "  <tbody>\n",
              "    <tr>\n",
              "      <th>0</th>\n",
              "      <td>0</td>\n",
              "      <td>1</td>\n",
              "    </tr>\n",
              "    <tr>\n",
              "      <th>1</th>\n",
              "      <td>1</td>\n",
              "      <td>0</td>\n",
              "    </tr>\n",
              "    <tr>\n",
              "      <th>2</th>\n",
              "      <td>1</td>\n",
              "      <td>0</td>\n",
              "    </tr>\n",
              "    <tr>\n",
              "      <th>3</th>\n",
              "      <td>1</td>\n",
              "      <td>0</td>\n",
              "    </tr>\n",
              "    <tr>\n",
              "      <th>4</th>\n",
              "      <td>0</td>\n",
              "      <td>1</td>\n",
              "    </tr>\n",
              "    <tr>\n",
              "      <th>...</th>\n",
              "      <td>...</td>\n",
              "      <td>...</td>\n",
              "    </tr>\n",
              "    <tr>\n",
              "      <th>882</th>\n",
              "      <td>0</td>\n",
              "      <td>1</td>\n",
              "    </tr>\n",
              "    <tr>\n",
              "      <th>883</th>\n",
              "      <td>1</td>\n",
              "      <td>0</td>\n",
              "    </tr>\n",
              "    <tr>\n",
              "      <th>884</th>\n",
              "      <td>1</td>\n",
              "      <td>0</td>\n",
              "    </tr>\n",
              "    <tr>\n",
              "      <th>885</th>\n",
              "      <td>0</td>\n",
              "      <td>1</td>\n",
              "    </tr>\n",
              "    <tr>\n",
              "      <th>886</th>\n",
              "      <td>0</td>\n",
              "      <td>1</td>\n",
              "    </tr>\n",
              "  </tbody>\n",
              "</table>\n",
              "<p>887 rows × 2 columns</p>\n",
              "</div>"
            ],
            "text/plain": [
              "     female  male\n",
              "0         0     1\n",
              "1         1     0\n",
              "2         1     0\n",
              "3         1     0\n",
              "4         0     1\n",
              "..      ...   ...\n",
              "882       0     1\n",
              "883       1     0\n",
              "884       1     0\n",
              "885       0     1\n",
              "886       0     1\n",
              "\n",
              "[887 rows x 2 columns]"
            ]
          },
          "metadata": {
            "tags": []
          },
          "execution_count": 5
        }
      ]
    },
    {
      "cell_type": "code",
      "metadata": {
        "id": "ut0uYpQtqado",
        "colab_type": "code",
        "colab": {
          "base_uri": "https://localhost:8080/",
          "height": 252
        },
        "outputId": "d807f52e-1094-4d01-9e01-b93e55ba035e"
      },
      "source": [
        "dum=dum.drop(columns=['male'],axis=1)\n",
        "print(dum)"
      ],
      "execution_count": 6,
      "outputs": [
        {
          "output_type": "stream",
          "text": [
            "     female\n",
            "0         0\n",
            "1         1\n",
            "2         1\n",
            "3         1\n",
            "4         0\n",
            "..      ...\n",
            "882       0\n",
            "883       1\n",
            "884       1\n",
            "885       0\n",
            "886       0\n",
            "\n",
            "[887 rows x 1 columns]\n"
          ],
          "name": "stdout"
        }
      ]
    },
    {
      "cell_type": "code",
      "metadata": {
        "id": "YkASssfwrBvD",
        "colab_type": "code",
        "colab": {}
      },
      "source": [
        "df=df.drop(columns=['Sex'])"
      ],
      "execution_count": 7,
      "outputs": []
    },
    {
      "cell_type": "code",
      "metadata": {
        "id": "DqaeQPwCrLDZ",
        "colab_type": "code",
        "colab": {
          "base_uri": "https://localhost:8080/",
          "height": 252
        },
        "outputId": "901f2d67-0dac-47e9-eb89-c3e5e7e7004d"
      },
      "source": [
        "dum2=pd.get_dummies(df['Pclass'])\n",
        "dum2=dum2.drop(columns=[3],axis=1)\n",
        "print(dum2)"
      ],
      "execution_count": 8,
      "outputs": [
        {
          "output_type": "stream",
          "text": [
            "     1  2\n",
            "0    0  0\n",
            "1    1  0\n",
            "2    0  0\n",
            "3    1  0\n",
            "4    0  0\n",
            "..  .. ..\n",
            "882  0  1\n",
            "883  1  0\n",
            "884  0  0\n",
            "885  1  0\n",
            "886  0  0\n",
            "\n",
            "[887 rows x 2 columns]\n"
          ],
          "name": "stdout"
        }
      ]
    },
    {
      "cell_type": "code",
      "metadata": {
        "id": "GTtVxbptqZhb",
        "colab_type": "code",
        "colab": {
          "base_uri": "https://localhost:8080/",
          "height": 195
        },
        "outputId": "6e745a3b-0911-4bc5-e43c-75f159b56027"
      },
      "source": [
        "df= df.drop(columns=['Pclass'])\n",
        "df.head()"
      ],
      "execution_count": 9,
      "outputs": [
        {
          "output_type": "execute_result",
          "data": {
            "text/html": [
              "<div>\n",
              "<style scoped>\n",
              "    .dataframe tbody tr th:only-of-type {\n",
              "        vertical-align: middle;\n",
              "    }\n",
              "\n",
              "    .dataframe tbody tr th {\n",
              "        vertical-align: top;\n",
              "    }\n",
              "\n",
              "    .dataframe thead th {\n",
              "        text-align: right;\n",
              "    }\n",
              "</style>\n",
              "<table border=\"1\" class=\"dataframe\">\n",
              "  <thead>\n",
              "    <tr style=\"text-align: right;\">\n",
              "      <th></th>\n",
              "      <th>Survived</th>\n",
              "      <th>Age</th>\n",
              "      <th>Siblings/Spouses Aboard</th>\n",
              "      <th>Parents/Children Aboard</th>\n",
              "    </tr>\n",
              "  </thead>\n",
              "  <tbody>\n",
              "    <tr>\n",
              "      <th>0</th>\n",
              "      <td>0</td>\n",
              "      <td>22.0</td>\n",
              "      <td>1</td>\n",
              "      <td>0</td>\n",
              "    </tr>\n",
              "    <tr>\n",
              "      <th>1</th>\n",
              "      <td>1</td>\n",
              "      <td>38.0</td>\n",
              "      <td>1</td>\n",
              "      <td>0</td>\n",
              "    </tr>\n",
              "    <tr>\n",
              "      <th>2</th>\n",
              "      <td>1</td>\n",
              "      <td>26.0</td>\n",
              "      <td>0</td>\n",
              "      <td>0</td>\n",
              "    </tr>\n",
              "    <tr>\n",
              "      <th>3</th>\n",
              "      <td>1</td>\n",
              "      <td>35.0</td>\n",
              "      <td>1</td>\n",
              "      <td>0</td>\n",
              "    </tr>\n",
              "    <tr>\n",
              "      <th>4</th>\n",
              "      <td>0</td>\n",
              "      <td>35.0</td>\n",
              "      <td>0</td>\n",
              "      <td>0</td>\n",
              "    </tr>\n",
              "  </tbody>\n",
              "</table>\n",
              "</div>"
            ],
            "text/plain": [
              "   Survived   Age  Siblings/Spouses Aboard  Parents/Children Aboard\n",
              "0         0  22.0                        1                        0\n",
              "1         1  38.0                        1                        0\n",
              "2         1  26.0                        0                        0\n",
              "3         1  35.0                        1                        0\n",
              "4         0  35.0                        0                        0"
            ]
          },
          "metadata": {
            "tags": []
          },
          "execution_count": 9
        }
      ]
    },
    {
      "cell_type": "code",
      "metadata": {
        "id": "aqbyjdKLrzUe",
        "colab_type": "code",
        "colab": {}
      },
      "source": [
        "td=pd.concat([df,dum,dum2],axis=1)"
      ],
      "execution_count": 10,
      "outputs": []
    },
    {
      "cell_type": "code",
      "metadata": {
        "id": "FaXeNPYJyLCi",
        "colab_type": "code",
        "colab": {
          "base_uri": "https://localhost:8080/",
          "height": 195
        },
        "outputId": "89bf5490-a285-4b10-ff0a-b451db362215"
      },
      "source": [
        "td.head()"
      ],
      "execution_count": 11,
      "outputs": [
        {
          "output_type": "execute_result",
          "data": {
            "text/html": [
              "<div>\n",
              "<style scoped>\n",
              "    .dataframe tbody tr th:only-of-type {\n",
              "        vertical-align: middle;\n",
              "    }\n",
              "\n",
              "    .dataframe tbody tr th {\n",
              "        vertical-align: top;\n",
              "    }\n",
              "\n",
              "    .dataframe thead th {\n",
              "        text-align: right;\n",
              "    }\n",
              "</style>\n",
              "<table border=\"1\" class=\"dataframe\">\n",
              "  <thead>\n",
              "    <tr style=\"text-align: right;\">\n",
              "      <th></th>\n",
              "      <th>Survived</th>\n",
              "      <th>Age</th>\n",
              "      <th>Siblings/Spouses Aboard</th>\n",
              "      <th>Parents/Children Aboard</th>\n",
              "      <th>female</th>\n",
              "      <th>1</th>\n",
              "      <th>2</th>\n",
              "    </tr>\n",
              "  </thead>\n",
              "  <tbody>\n",
              "    <tr>\n",
              "      <th>0</th>\n",
              "      <td>0</td>\n",
              "      <td>22.0</td>\n",
              "      <td>1</td>\n",
              "      <td>0</td>\n",
              "      <td>0</td>\n",
              "      <td>0</td>\n",
              "      <td>0</td>\n",
              "    </tr>\n",
              "    <tr>\n",
              "      <th>1</th>\n",
              "      <td>1</td>\n",
              "      <td>38.0</td>\n",
              "      <td>1</td>\n",
              "      <td>0</td>\n",
              "      <td>1</td>\n",
              "      <td>1</td>\n",
              "      <td>0</td>\n",
              "    </tr>\n",
              "    <tr>\n",
              "      <th>2</th>\n",
              "      <td>1</td>\n",
              "      <td>26.0</td>\n",
              "      <td>0</td>\n",
              "      <td>0</td>\n",
              "      <td>1</td>\n",
              "      <td>0</td>\n",
              "      <td>0</td>\n",
              "    </tr>\n",
              "    <tr>\n",
              "      <th>3</th>\n",
              "      <td>1</td>\n",
              "      <td>35.0</td>\n",
              "      <td>1</td>\n",
              "      <td>0</td>\n",
              "      <td>1</td>\n",
              "      <td>1</td>\n",
              "      <td>0</td>\n",
              "    </tr>\n",
              "    <tr>\n",
              "      <th>4</th>\n",
              "      <td>0</td>\n",
              "      <td>35.0</td>\n",
              "      <td>0</td>\n",
              "      <td>0</td>\n",
              "      <td>0</td>\n",
              "      <td>0</td>\n",
              "      <td>0</td>\n",
              "    </tr>\n",
              "  </tbody>\n",
              "</table>\n",
              "</div>"
            ],
            "text/plain": [
              "   Survived   Age  Siblings/Spouses Aboard  ...  female  1  2\n",
              "0         0  22.0                        1  ...       0  0  0\n",
              "1         1  38.0                        1  ...       1  1  0\n",
              "2         1  26.0                        0  ...       1  0  0\n",
              "3         1  35.0                        1  ...       1  1  0\n",
              "4         0  35.0                        0  ...       0  0  0\n",
              "\n",
              "[5 rows x 7 columns]"
            ]
          },
          "metadata": {
            "tags": []
          },
          "execution_count": 11
        }
      ]
    },
    {
      "cell_type": "code",
      "metadata": {
        "id": "Sy1FhIkDsNkG",
        "colab_type": "code",
        "colab": {}
      },
      "source": [
        "import numpy as np\n",
        "X=np.array(td.drop(columns='Survived'))"
      ],
      "execution_count": 12,
      "outputs": []
    },
    {
      "cell_type": "code",
      "metadata": {
        "id": "LTSwOE9es15Y",
        "colab_type": "code",
        "colab": {}
      },
      "source": [
        "Y=np.array([td['Survived']])"
      ],
      "execution_count": 13,
      "outputs": []
    },
    {
      "cell_type": "code",
      "metadata": {
        "id": "IH4LUmh_tF3D",
        "colab_type": "code",
        "colab": {
          "base_uri": "https://localhost:8080/",
          "height": 521
        },
        "outputId": "af47f4b3-6a1e-4f3d-c2a9-2660895976fb"
      },
      "source": [
        "print(X[0:5])\n",
        "print(Y[0:5])"
      ],
      "execution_count": 14,
      "outputs": [
        {
          "output_type": "stream",
          "text": [
            "[[22.  1.  0.  0.  0.  0.]\n",
            " [38.  1.  0.  1.  1.  0.]\n",
            " [26.  0.  0.  1.  0.  0.]\n",
            " [35.  1.  0.  1.  1.  0.]\n",
            " [35.  0.  0.  0.  0.  0.]]\n",
            "[[0 1 1 1 0 0 0 0 1 1 1 1 0 0 0 1 0 1 0 1 0 1 1 1 0 1 0 0 1 0 0 1 1 0 0 0\n",
            "  1 0 0 1 0 0 1 1 0 0 1 0 0 0 0 1 1 0 1 1 0 1 0 0 1 0 0 0 1 1 0 1 0 0 0 0\n",
            "  0 1 0 0 0 1 1 0 1 1 0 1 1 0 0 1 0 0 0 0 0 0 0 0 1 1 0 0 0 0 0 0 0 1 1 0\n",
            "  1 0 0 0 0 0 0 0 0 0 0 0 0 0 1 0 1 0 1 1 0 0 0 0 1 0 0 1 0 0 0 0 1 1 0 0\n",
            "  0 1 0 0 0 0 1 0 0 0 0 1 0 0 0 0 1 0 0 0 1 1 0 0 0 0 0 1 0 0 0 0 0 0 0 0\n",
            "  0 0 1 1 0 1 1 0 0 1 0 1 1 1 1 0 0 1 0 0 0 0 0 1 0 0 1 1 1 0 1 0 0 0 1 1\n",
            "  0 1 0 1 0 0 0 1 0 1 0 0 0 1 0 0 1 0 0 0 1 0 0 0 1 0 0 0 0 0 1 1 0 0 0 0\n",
            "  0 0 1 1 1 1 1 1 0 0 0 0 0 1 1 1 0 1 1 0 1 1 0 0 0 1 0 0 0 1 0 0 1 0 1 1\n",
            "  1 1 0 0 0 0 0 0 1 1 1 1 0 1 0 1 1 1 0 1 1 1 0 0 0 1 1 0 1 1 0 0 1 1 0 1\n",
            "  0 1 1 1 1 0 0 0 1 0 0 1 1 0 1 1 0 0 0 1 1 1 1 0 0 0 0 0 0 0 1 0 1 1 0 0\n",
            "  0 0 0 0 1 1 1 1 1 0 0 0 0 1 1 0 0 0 1 1 0 1 0 0 0 1 0 1 1 1 0 1 1 0 0 0\n",
            "  0 1 1 0 0 0 0 0 0 1 0 0 0 0 1 0 1 0 1 1 0 0 0 0 0 0 0 1 1 0 1 1 1 1 0 0\n",
            "  1 0 1 0 0 1 0 0 1 1 1 1 1 1 1 0 0 0 1 0 1 0 1 1 0 1 0 0 0 0 0 0 0 0 1 0\n",
            "  0 1 1 0 0 0 0 0 1 0 0 0 1 1 0 1 0 0 1 0 0 0 0 0 0 1 0 0 0 0 0 0 0 1 0 1\n",
            "  1 0 1 1 0 1 1 0 0 1 0 1 0 1 0 0 1 0 0 1 0 0 0 1 0 0 1 0 1 0 1 0 1 1 0 0\n",
            "  1 0 0 1 1 0 1 1 0 0 1 1 0 1 0 1 1 0 0 0 0 0 0 0 0 0 1 1 1 1 1 0 0 1 1 0\n",
            "  1 1 1 0 0 0 1 0 1 0 0 0 1 0 0 0 0 1 0 0 1 1 0 0 0 1 0 0 1 1 1 0 0 1 0 0\n",
            "  1 0 0 1 0 0 1 1 0 0 0 0 1 0 0 1 0 1 0 0 1 0 0 0 0 0 1 0 1 1 1 0 1 0 1 0\n",
            "  1 0 1 0 0 0 0 0 0 1 0 0 0 1 0 0 0 0 1 1 0 0 1 0 0 0 1 0 1 0 1 0 0 0 0 0\n",
            "  0 0 1 1 1 1 0 0 0 0 1 0 0 1 1 0 0 0 0 1 1 1 1 1 0 1 0 0 0 1 1 0 1 0 0 0\n",
            "  1 0 1 1 0 0 1 0 0 0 0 0 0 1 0 0 1 0 1 0 1 0 0 1 0 0 1 1 0 0 1 1 0 0 0 1\n",
            "  0 0 1 1 0 1 0 0 0 0 0 0 0 0 1 0 0 1 0 1 1 1 0 0 0 0 1 0 1 0 0 0 0 0 0 0\n",
            "  1 1 0 0 0 1 1 1 1 0 0 0 0 1 0 0 0 0 0 0 0 0 0 0 1 1 0 1 0 0 0 1 1 1 1 1\n",
            "  0 0 0 1 0 0 1 1 0 0 1 0 0 0 0 0 0 1 0 0 0 1 0 1 1 1 1 0 0 0 1 0 0 1 1 0\n",
            "  0 1 0 1 0 0 1 1 0 0 0 1 1 0 0 0 0 0 0 1 0 1 0]]\n"
          ],
          "name": "stdout"
        }
      ]
    },
    {
      "cell_type": "code",
      "metadata": {
        "id": "-VFuKIPa6OmG",
        "colab_type": "code",
        "colab": {}
      },
      "source": [
        ""
      ],
      "execution_count": 14,
      "outputs": []
    },
    {
      "cell_type": "code",
      "metadata": {
        "id": "1cYLg_oUyrwy",
        "colab_type": "code",
        "colab": {}
      },
      "source": [
        "X=X.T\n"
      ],
      "execution_count": 15,
      "outputs": []
    },
    {
      "cell_type": "code",
      "metadata": {
        "id": "-ehr-GrUCtyu",
        "colab_type": "code",
        "colab": {
          "base_uri": "https://localhost:8080/",
          "height": 134
        },
        "outputId": "db63b7a3-0b2e-4eab-f902-dd244d8c8ebc"
      },
      "source": [
        "print(X)\n",
        "print(X.shape)"
      ],
      "execution_count": 16,
      "outputs": [
        {
          "output_type": "stream",
          "text": [
            "[[22. 38. 26. ...  7. 26. 32.]\n",
            " [ 1.  1.  0. ...  1.  0.  0.]\n",
            " [ 0.  0.  0. ...  2.  0.  0.]\n",
            " [ 0.  1.  1. ...  1.  0.  0.]\n",
            " [ 0.  1.  0. ...  0.  1.  0.]\n",
            " [ 0.  0.  0. ...  0.  0.  0.]]\n",
            "(6, 887)\n"
          ],
          "name": "stdout"
        }
      ]
    },
    {
      "cell_type": "code",
      "metadata": {
        "id": "6hv8Zyjg4bJF",
        "colab_type": "code",
        "colab": {}
      },
      "source": [
        ""
      ],
      "execution_count": 16,
      "outputs": []
    },
    {
      "cell_type": "code",
      "metadata": {
        "id": "dJ6dPWOi61H5",
        "colab_type": "code",
        "colab": {}
      },
      "source": [
        "# GRADED FUNCTION: initialize_parameters\n",
        "\n",
        "def initialize_parameters(n_x, n_h, n_y):\n",
        " \n",
        "    np.random.seed(1)\n",
        "    \n",
        "    ### START CODE HERE ### (≈ 4 lines of code)\n",
        "    W1 = np.random.randn(n_h,n_x)*0.01\n",
        "    b1 = np.zeros((n_h,1))\n",
        "    W2 = np.random.randn(n_y,n_h)*0.01\n",
        "    b2 = np.zeros((n_y,1))\n",
        "    ### END CODE HERE ###\n",
        "    \n",
        "    assert(W1.shape == (n_h, n_x))\n",
        "    assert(b1.shape == (n_h, 1))\n",
        "    assert(W2.shape == (n_y, n_h))\n",
        "    assert(b2.shape == (n_y, 1))\n",
        "    \n",
        "    parameters = {\"W1\": W1,\n",
        "                  \"b1\": b1,\n",
        "                  \"W2\": W2,\n",
        "                  \"b2\": b2}\n",
        "    \n",
        "    return parameters    "
      ],
      "execution_count": 17,
      "outputs": []
    },
    {
      "cell_type": "code",
      "metadata": {
        "id": "kK9s0rRp3eII",
        "colab_type": "code",
        "colab": {}
      },
      "source": [
        "# GRADED FUNCTION: initialize_parameters_deep\n",
        "\n",
        "def initialize_parameters_deep(layer_dims):\n",
        "    \n",
        "    np.random.seed(3)\n",
        "    parameters = {}\n",
        "    L = len(layer_dims)            # number of layers in the network\n",
        "\n",
        "    for l in range(1, L):\n",
        "        ### START CODE HERE ### (≈ 2 lines of code)\n",
        "        parameters['W' + str(l)] = np.random.randn(layer_dims[l],layer_dims[l-1])*np.sqrt(2/layer_dims[l-1])\n",
        "        parameters['b' + str(l)] = np.zeros((layer_dims[l],1))\n",
        "        ### END CODE HERE ###\n",
        "        \n",
        "        assert(parameters['W' + str(l)].shape == (layer_dims[l], layer_dims[l-1]))\n",
        "        assert(parameters['b' + str(l)].shape == (layer_dims[l], 1))\n",
        "\n",
        "        \n",
        "    return parameters"
      ],
      "execution_count": 97,
      "outputs": []
    },
    {
      "cell_type": "code",
      "metadata": {
        "id": "Bds_4QEv_LqN",
        "colab_type": "code",
        "colab": {}
      },
      "source": [
        "# GRADED FUNCTION: linear_forward\n",
        "\n",
        "def linear_forward(A, W, b):\n",
        "\n",
        "    Z = np.dot(W,A)+b\n",
        "    cache = (A, W, b)\n",
        "    assert(Z.shape == (W.shape[0], A.shape[1]))\n",
        "    \n",
        "    \n",
        "    return Z, cache"
      ],
      "execution_count": 19,
      "outputs": []
    },
    {
      "cell_type": "code",
      "metadata": {
        "id": "_Q352u7JTh8g",
        "colab_type": "code",
        "colab": {}
      },
      "source": [
        "def sigmoid(Z):\n",
        "  return (1/(1+np.exp(-Z))),Z"
      ],
      "execution_count": 20,
      "outputs": []
    },
    {
      "cell_type": "code",
      "metadata": {
        "id": "eZ_PRBffTpWf",
        "colab_type": "code",
        "colab": {}
      },
      "source": [
        "def relu(Z):\n",
        "  return np.maximum(0,Z),Z"
      ],
      "execution_count": 21,
      "outputs": []
    },
    {
      "cell_type": "code",
      "metadata": {
        "id": "HMvPLc1PXxyt",
        "colab_type": "code",
        "colab": {}
      },
      "source": [
        "# GRADED FUNCTION: linear_activation_forward\n",
        "\n",
        "def linear_activation_forward(A_prev, W, b, activation):\n",
        "    \"\"\"\n",
        "    Implement the forward propagation for the LINEAR->ACTIVATION layer\n",
        "\n",
        "    Arguments:\n",
        "    A_prev -- activations from previous layer (or input data): (size of previous layer, number of examples)\n",
        "    W -- weights matrix: numpy array of shape (size of current layer, size of previous layer)\n",
        "    b -- bias vector, numpy array of shape (size of the current layer, 1)\n",
        "    activation -- the activation to be used in this layer, stored as a text string: \"sigmoid\" or \"relu\"\n",
        "\n",
        "    Returns:\n",
        "    A -- the output of the activation function, also called the post-activation value \n",
        "    cache -- a python tuple containing \"linear_cache\" and \"activation_cache\";\n",
        "             stored for computing the backward pass efficiently\n",
        "    \"\"\"\n",
        "    \n",
        "    if activation == \"sigmoid\":\n",
        "        # Inputs: \"A_prev, W, b\". Outputs: \"A, activation_cache\".\n",
        "        ### START CODE HERE ### (≈ 2 lines of code)\n",
        "        Z, linear_cache = linear_forward(A_prev,W,b)\n",
        "        A, activation_cache = sigmoid(Z)\n",
        "        ### END CODE HERE ###\n",
        "    \n",
        "    elif activation == \"relu\":\n",
        "        # Inputs: \"A_prev, W, b\". Outputs: \"A, activation_cache\".\n",
        "        ### START CODE HERE ### (≈ 2 lines of code)\n",
        "        Z, linear_cache = linear_forward(A_prev,W,b)\n",
        "        A, activation_cache = relu(Z)\n",
        "        ### END CODE HERE ###\n",
        "    \n",
        "    assert (A.shape == (W.shape[0], A_prev.shape[1]))\n",
        "    cache = (linear_cache, activation_cache)\n",
        "\n",
        "    return A, cache"
      ],
      "execution_count": 22,
      "outputs": []
    },
    {
      "cell_type": "code",
      "metadata": {
        "id": "R52-IbndUCVr",
        "colab_type": "code",
        "colab": {}
      },
      "source": [
        "# GRADED FUNCTION: L_model_forward\n",
        "\n",
        "def L_model_forward(X, parameters):\n",
        "    \"\"\"\n",
        "    Implement forward propagation for the [LINEAR->RELU]*(L-1)->LINEAR->SIGMOID computation\n",
        "    \n",
        "    Arguments:\n",
        "    X -- data, numpy array of shape (input size, number of examples)\n",
        "    parameters -- output of initialize_parameters_deep()\n",
        "    \n",
        "    Returns:\n",
        "    AL -- last post-activation value\n",
        "    caches -- list of caches containing:\n",
        "                every cache of linear_activation_forward() (there are L-1 of them, indexed from 0 to L-1)\n",
        "    \"\"\"\n",
        "\n",
        "    caches = []\n",
        "    A = X\n",
        "    L = len(parameters) // 2                  # number of layers in the neural network\n",
        "    \n",
        "    # Implement [LINEAR -> RELU]*(L-1). Add \"cache\" to the \"caches\" list.\n",
        "    for l in range(1, L):\n",
        "        A_prev = A \n",
        "        ### START CODE HERE ### (≈ 2 lines of code)\n",
        "        A, cache = linear_activation_forward(A_prev,parameters[\"W\"+str(l)],parameters[\"b\"+str(l)],\"relu\")\n",
        "        caches.append(cache)\n",
        "        ### END CODE HERE ###\n",
        "    \n",
        "    # Implement LINEAR -> SIGMOID. Add \"cache\" to the \"caches\" list.\n",
        "    ### START CODE HERE ### (≈ 2 lines of code)\n",
        "    AL, cache = linear_activation_forward(A,parameters[\"W\"+str(L)],parameters[\"b\"+str(L)],\"sigmoid\")\n",
        "    caches.append(cache)\n",
        "    ### END CODE HERE ###\n",
        "    \n",
        "    assert(AL.shape == (1,X.shape[1]))\n",
        "            \n",
        "    return AL, caches"
      ],
      "execution_count": 23,
      "outputs": []
    },
    {
      "cell_type": "code",
      "metadata": {
        "id": "WF6fAs_zUF2a",
        "colab_type": "code",
        "colab": {}
      },
      "source": [
        "# GRADED FUNCTION: compute_cost\n",
        "\n",
        "def compute_cost(AL, Y):\n",
        "   \n",
        "    \n",
        "    m = Y.shape[1]\n",
        "\n",
        "    cost = -1/m*np.sum(Y*np.log(AL)+(1-Y)*np.log(1-AL))\n",
        "    \n",
        "    \n",
        "    cost = np.squeeze(cost)      # To make sure your cost's shape is what we expect (e.g. this turns [[17]] into 17).\n",
        "    assert(cost.shape == ())\n",
        "    \n",
        "    return cost"
      ],
      "execution_count": 24,
      "outputs": []
    },
    {
      "cell_type": "code",
      "metadata": {
        "id": "CZYh60ofUF8j",
        "colab_type": "code",
        "colab": {}
      },
      "source": [
        "def dzsig(AL,Y):\n",
        "  dzsigm= 1/m*(AL-Y)\n",
        "  return dzsigm"
      ],
      "execution_count": 25,
      "outputs": []
    },
    {
      "cell_type": "code",
      "metadata": {
        "id": "n-OrfJFwUGA5",
        "colab_type": "code",
        "colab": {}
      },
      "source": [
        "def dzrel(dzsigm,W2,A1):\n",
        "  \n",
        "  A1[A1>0]=1\n",
        "  A1[A1<=0]=0\n",
        "    \n",
        "      \n",
        "  dzrelu=1/m*np.dot(dzsigm,W2.T)*A1\n",
        "  return dzrelu"
      ],
      "execution_count": 26,
      "outputs": []
    },
    {
      "cell_type": "code",
      "metadata": {
        "id": "NpbePdGgUGFu",
        "colab_type": "code",
        "colab": {}
      },
      "source": [
        "def linear_backward(dZ, cache):\n",
        "    \"\"\"\n",
        "    Implement the linear portion of backward propagation for a single layer (layer l)\n",
        "\n",
        "    Arguments:\n",
        "    dZ -- Gradient of the cost with respect to the linear output (of current layer l)\n",
        "    cache -- tuple of values (A_prev, W, b) coming from the forward propagation in the current layer\n",
        "\n",
        "    Returns:\n",
        "    dA_prev -- Gradient of the cost with respect to the activation (of the previous layer l-1), same shape as A_prev\n",
        "    dW -- Gradient of the cost with respect to W (current layer l), same shape as W\n",
        "    db -- Gradient of the cost with respect to b (current layer l), same shape as b\n",
        "    \"\"\"\n",
        "    A_prev, W, b = cache\n",
        "    m = A_prev.shape[1]\n",
        "\n",
        "    ### START CODE HERE ### (≈ 3 lines of code)\n",
        "    dW = 1/m*np.dot(dZ,A_prev.T)\n",
        "    db = 1/m*np.sum(dZ,axis=1,keepdims=True)\n",
        "    dA_prev = np.dot(W.T,dZ)\n",
        "    ### END CODE HERE ###\n",
        "    \n",
        "    assert (dA_prev.shape == A_prev.shape)\n",
        "    assert (dW.shape == W.shape)\n",
        "    assert (db.shape == b.shape)\n",
        "    \n",
        "    return dA_prev, dW, db"
      ],
      "execution_count": 27,
      "outputs": []
    },
    {
      "cell_type": "code",
      "metadata": {
        "id": "HxiLuQpwUGxk",
        "colab_type": "code",
        "colab": {}
      },
      "source": [
        "# GRADED FUNCTION: linear_activation_backward\n",
        "\n",
        "def linear_activation_backward(dA, cache, activation):\n",
        "    \"\"\"\n",
        "    Implement the backward propagation for the LINEAR->ACTIVATION layer.\n",
        "    \n",
        "    Arguments:\n",
        "    dA -- post-activation gradient for current layer l \n",
        "    cache -- tuple of values (linear_cache, activation_cache) we store for computing backward propagation efficiently\n",
        "    activation -- the activation to be used in this layer, stored as a text string: \"sigmoid\" or \"relu\"\n",
        "    \n",
        "    Returns:\n",
        "    dA_prev -- Gradient of the cost with respect to the activation (of the previous layer l-1), same shape as A_prev\n",
        "    dW -- Gradient of the cost with respect to W (current layer l), same shape as W\n",
        "    db -- Gradient of the cost with respect to b (current layer l), same shape as b\n",
        "    \"\"\"\n",
        "    linear_cache, activation_cache = cache\n",
        "    \n",
        "    if activation == \"relu\":\n",
        "        ### START CODE HERE ### (≈ 2 lines of code)\n",
        "        dZ = relu_backward(dA, activation_cache)\n",
        "        dA_prev, dW, db = linear_backward(dZ, linear_cache)\n",
        "        ### END CODE HERE ###\n",
        "        \n",
        "    elif activation == \"sigmoid\":\n",
        "        ### START CODE HERE ### (≈ 2 lines of code)\n",
        "        dZ = sigmoid_backward(dA,activation_cache)\n",
        "        dA_prev, dW, db = linear_backward(dZ, linear_cache)\n",
        "        ### END CODE HERE ###\n",
        "    \n",
        "    return dA_prev, dW, db"
      ],
      "execution_count": 28,
      "outputs": []
    },
    {
      "cell_type": "code",
      "metadata": {
        "id": "A_gh6zaoUHPp",
        "colab_type": "code",
        "colab": {}
      },
      "source": [
        "# GRADED FUNCTION: L_model_backward\n",
        "\n",
        "def L_model_backward(AL, Y, caches):\n",
        "    \"\"\"\n",
        "    Implement the backward propagation for the [LINEAR->RELU] * (L-1) -> LINEAR -> SIGMOID group\n",
        "    \n",
        "    Arguments:\n",
        "    AL -- probability vector, output of the forward propagation (L_model_forward())\n",
        "    Y -- true \"label\" vector (containing 0 if non-cat, 1 if cat)\n",
        "    caches -- list of caches containing:\n",
        "                every cache of linear_activation_forward() with \"relu\" (it's caches[l], for l in range(L-1) i.e l = 0...L-2)\n",
        "                the cache of linear_activation_forward() with \"sigmoid\" (it's caches[L-1])\n",
        "    \n",
        "    Returns:\n",
        "    grads -- A dictionary with the gradients\n",
        "             grads[\"dA\" + str(l)] = ... \n",
        "             grads[\"dW\" + str(l)] = ...\n",
        "             grads[\"db\" + str(l)] = ... \n",
        "    \"\"\"\n",
        "    grads = {}\n",
        "    L = len(caches) # the number of layers\n",
        "    m = AL.shape[1]\n",
        "    Y = Y.reshape(AL.shape) # after this line, Y is the same shape as AL\n",
        "    \n",
        "    # Initializing the backpropagation\n",
        "    ### START CODE HERE ### (1 line of code)\n",
        "    dAL =-( Y/AL-(1-Y)/(1-AL))\n",
        "    ### END CODE HERE ###\n",
        "    \n",
        "    # Lth layer (SIGMOID -> LINEAR) gradients. Inputs: \"dAL, current_cache\". Outputs: \"grads[\"dAL-1\"], grads[\"dWL\"], grads[\"dbL\"]\n",
        "    ### START CODE HERE ### (approx. 2 lines)\n",
        "    current_cache = caches[L-1]\n",
        "    grads[\"dA\" + str(L-1)], grads[\"dW\" + str(L)], grads[\"db\" + str(L)] = linear_activation_backward(dAL,current_cache,\"sigmoid\")\n",
        "    ### END CODE HERE ###\n",
        "    \n",
        "    # Loop from l=L-2 to l=0\n",
        "    for l in reversed(range(L-1)):\n",
        "        # lth layer: (RELU -> LINEAR) gradients.\n",
        "        # Inputs: \"grads[\"dA\" + str(l + 1)], current_cache\". Outputs: \"grads[\"dA\" + str(l)] , grads[\"dW\" + str(l + 1)] , grads[\"db\" + str(l + 1)] \n",
        "        ### START CODE HERE ### (approx. 5 lines)\n",
        "        current_cache = caches[l]\n",
        "        dA_prev_temp, dW_temp, db_temp = linear_activation_backward(grads[\"dA\"+str(l+1)],current_cache,\"relu\")\n",
        "        grads[\"dA\" + str(l)] = dA_prev_temp\n",
        "        grads[\"dW\" + str(l + 1)] = dW_temp\n",
        "        grads[\"db\" + str(l + 1)] = db_temp\n",
        "        ### END CODE HERE ###\n",
        "\n",
        "    return grads"
      ],
      "execution_count": 29,
      "outputs": []
    },
    {
      "cell_type": "code",
      "metadata": {
        "id": "ti4opEw1RfMn",
        "colab_type": "code",
        "colab": {}
      },
      "source": [
        "def relu_backward(dA, cache):\n",
        "    \"\"\"\n",
        "    Implement the backward propagation for a single RELU unit.\n",
        "\n",
        "    Arguments:\n",
        "    dA -- post-activation gradient, of any shape\n",
        "    cache -- 'Z' where we store for computing backward propagation efficiently\n",
        "\n",
        "    Returns:\n",
        "    dZ -- Gradient of the cost with respect to Z\n",
        "    \"\"\"\n",
        "    \n",
        "    Z = cache\n",
        "    dZ = np.array(dA, copy=True) # just converting dz to a correct object.\n",
        "    \n",
        "    # When z <= 0, you should set dz to 0 as well. \n",
        "    dZ[Z <= 0] = 0\n",
        "    \n",
        "    assert (dZ.shape == Z.shape)\n",
        "    \n",
        "    return dZ\n",
        "\n",
        "def sigmoid_backward(dA, cache):\n",
        "    \"\"\"\n",
        "    Implement the backward propagation for a single SIGMOID unit.\n",
        "\n",
        "    Arguments:\n",
        "    dA -- post-activation gradient, of any shape\n",
        "    cache -- 'Z' where we store for computing backward propagation efficiently\n",
        "\n",
        "    Returns:\n",
        "    dZ -- Gradient of the cost with respect to Z\n",
        "    \"\"\"\n",
        "    \n",
        "    Z = cache\n",
        "    \n",
        "    s = 1/(1+np.exp(-Z))\n",
        "    dZ = dA * s * (1-s)\n",
        "    \n",
        "    assert (dZ.shape == Z.shape)\n",
        "    \n",
        "    return dZ"
      ],
      "execution_count": 30,
      "outputs": []
    },
    {
      "cell_type": "code",
      "metadata": {
        "id": "y_87dOqnUHZr",
        "colab_type": "code",
        "colab": {}
      },
      "source": [
        "# GRADED FUNCTION: update_parameters\n",
        "\n",
        "def update_parameters(parameters, grads, learning_rate):\n",
        "    \"\"\"\n",
        "    Update parameters using gradient descent\n",
        "    \n",
        "    Arguments:\n",
        "    parameters -- python dictionary containing your parameters \n",
        "    grads -- python dictionary containing your gradients, output of L_model_backward\n",
        "    \n",
        "    Returns:\n",
        "    parameters -- python dictionary containing your updated parameters \n",
        "                  parameters[\"W\" + str(l)] = ... \n",
        "                  parameters[\"b\" + str(l)] = ...\n",
        "    \"\"\"\n",
        "    \n",
        "    L = len(parameters) // 2 # number of layers in the neural network\n",
        "\n",
        "    # Update rule for each parameter. Use a for loop.\n",
        "    ### START CODE HERE ### (≈ 3 lines of code)\n",
        "    for l in range(L):\n",
        "        parameters[\"W\" + str(l+1)] = parameters[\"W\" + str(l+1)]-learning_rate*grads[\"dW\" +str(l+1)]\n",
        "        parameters[\"b\" + str(l+1)] = parameters[\"b\" + str(l+1)]-learning_rate*grads[\"db\" +str(l+1)]\n",
        "    ### END CODE HERE ###\n",
        "    return parameters"
      ],
      "execution_count": 31,
      "outputs": []
    },
    {
      "cell_type": "code",
      "metadata": {
        "id": "5Uz4WtpPUHkX",
        "colab_type": "code",
        "colab": {
          "base_uri": "https://localhost:8080/",
          "height": 1000
        },
        "outputId": "26952e31-dd25-4833-a7b1-65d490cec84d"
      },
      "source": [
        "import numpy as np\n",
        "parameters=initialize_parameters_deep([6,20,20,10,5,1])\n",
        "print(parameters)"
      ],
      "execution_count": 95,
      "outputs": [
        {
          "output_type": "stream",
          "text": [
            "{'W1': array([[ 5.36588542,  1.30952955,  0.2894924 , -5.59047811, -0.83216461,\n",
            "        -1.06427694],\n",
            "       [-0.24822444, -1.88100203, -0.13145451, -1.43165409, -3.94159426,\n",
            "         2.65386714],\n",
            "       [ 2.64395413,  5.12871919,  0.15010093, -1.21403224, -1.63607984,\n",
            "        -4.63943195],\n",
            "       [ 2.9471023 , -3.30320289, -3.55513958, -0.6169497 ,  4.45844507,\n",
            "         0.7101488 ],\n",
            "       [-3.07135542, -2.1389796 ,  1.8757349 , -0.48154009, -2.30650905,\n",
            "        -0.69009217],\n",
            "       [ 2.2351688 ,  5.92833235, -3.73236999, -1.87925073, -2.41129828,\n",
            "        -7.25724952],\n",
            "       [-2.77137607, -3.07162728,  3.37193388, -0.3957427 , -4.86985634,\n",
            "         1.94002636],\n",
            "       [-1.06881228, -5.22942311, -1.78994893, -1.76578314, -2.62164689,\n",
            "         0.08914145],\n",
            "       [-6.7447733 , -0.80328559,  3.03955033,  2.55839352,  3.3245625 ,\n",
            "         3.35817197],\n",
            "       [ 4.4626294 , -3.35490205,  2.53750022, -5.58266859, -1.80865531,\n",
            "        -5.74341613],\n",
            "       [ 3.14444254,  4.00121346, -0.59224404,  5.32393509, -2.02418253,\n",
            "         0.4518506 ],\n",
            "       [ 0.45883711, -3.19258582,  1.31383983,  5.81693538, -3.07479262,\n",
            "         2.69801534],\n",
            "       [-0.46352056,  5.30888191,  1.45136504,  2.0286492 ,  1.92948984,\n",
            "         0.74726012],\n",
            "       [-4.18729051,  4.17498872, -4.11200704,  0.71568958,  1.84223126,\n",
            "        -2.51373682],\n",
            "       [ 0.43518964,  3.50364686, -0.07231341, -2.66597225, -8.74721326,\n",
            "        -2.91552151],\n",
            "       [-1.77323622, -1.5492521 , -2.87998854,  1.1318857 , -1.72412526,\n",
            "        -0.328363  ],\n",
            "       [ 2.0372148 , -2.56631151, -0.90061822,  6.47444803,  2.62285717,\n",
            "        -3.8806099 ],\n",
            "       [-0.23922281,  1.69345655,  3.70041313,  0.44695918, -1.59174643,\n",
            "        -2.19157993],\n",
            "       [ 1.93518595,  0.93918112, -1.54994377, -0.567215  , -1.24859405,\n",
            "         2.17397297],\n",
            "       [-2.06988203,  1.45924343,  2.55455685,  1.45874798, -2.50271955,\n",
            "         4.03497737]]), 'b1': array([[0.],\n",
            "       [0.],\n",
            "       [0.],\n",
            "       [0.],\n",
            "       [0.],\n",
            "       [0.],\n",
            "       [0.],\n",
            "       [0.],\n",
            "       [0.],\n",
            "       [0.],\n",
            "       [0.],\n",
            "       [0.],\n",
            "       [0.],\n",
            "       [0.],\n",
            "       [0.],\n",
            "       [0.],\n",
            "       [0.],\n",
            "       [0.],\n",
            "       [0.],\n",
            "       [0.]]), 'W2': array([[-2.03463804e+00,  1.27930522e+00, -2.26000438e+00,\n",
            "        -5.23233075e+00,  6.77250799e-01,  8.61105494e-01,\n",
            "        -2.32322882e-01,  8.28205492e-01, -1.94523266e+00,\n",
            "        -2.21239451e+00, -5.04270296e-01,  5.72783043e+00,\n",
            "         2.44444362e+00, -1.55997526e+00,  1.67613961e+00,\n",
            "        -1.43509398e+00, -1.37178236e+00,  2.57785202e+00,\n",
            "        -1.57579394e+00, -5.02690390e+00],\n",
            "       [-2.71948410e+00,  2.65245619e-01,  3.84023463e-01,\n",
            "         3.72484955e+00, -2.14807739e+00,  2.19439721e+00,\n",
            "         1.27790025e+00, -4.47041317e-01,  2.50753171e+00,\n",
            "         1.47635671e+00, -2.58692546e+00,  3.21505179e+00,\n",
            "        -3.66270576e+00,  1.78846299e-01,  7.33248597e-03,\n",
            "         1.27390716e+00, -2.17630044e+00, -1.04830157e-01,\n",
            "        -4.21860081e-01,  2.99126510e+00],\n",
            "       [-2.38774408e+00,  2.18236587e-01, -7.83721454e-01,\n",
            "        -3.89413991e+00,  8.02833740e+00, -2.13657081e-01,\n",
            "        -4.45997421e+00,  4.22588088e+00, -3.21175650e+00,\n",
            "         1.11260992e+00,  2.58849628e+00, -1.94529607e+00,\n",
            "        -1.29267017e+00, -1.62081079e+00, -3.88083029e-01,\n",
            "        -4.86738351e+00, -3.70690987e+00, -4.22359327e-01,\n",
            "         3.11685635e+00,  1.89523253e+00],\n",
            "       [ 5.18825229e+00,  2.08215682e+00, -1.53338698e+00,\n",
            "        -3.68530217e-01, -6.09118066e+00, -2.88232533e+00,\n",
            "        -3.06107784e+00,  8.11780275e-01,  1.94348939e+00,\n",
            "        -1.68112026e+00, -1.76550486e+00, -4.63966747e+00,\n",
            "        -3.83286174e-01,  7.44504081e-01,  1.33734288e+00,\n",
            "        -2.34812713e+00,  5.96546904e+00,  3.58517501e+00,\n",
            "        -2.85712796e-01, -1.58156334e+00],\n",
            "       [-9.64754079e-01,  4.53391115e-01, -5.58831467e-02,\n",
            "         1.45058636e+00,  2.30689547e+00,  4.09872853e+00,\n",
            "         3.44179438e+00, -3.30687466e-01,  1.16475124e+00,\n",
            "        -1.16138154e+00, -1.76166094e+00,  5.73248055e+00,\n",
            "        -1.37953845e+00,  5.97221344e+00, -1.04710618e+00,\n",
            "         7.58475274e-01,  3.26822864e+00,  7.17660654e-02,\n",
            "         1.17937584e+00, -7.24154399e-01],\n",
            "       [-1.42657457e+00, -4.97331069e-01, -1.94915226e+00,\n",
            "         4.89414886e+00, -5.03095808e-01,  5.16800759e+00,\n",
            "        -8.05532603e+00,  5.52623841e-02,  1.68585502e+00,\n",
            "        -8.81463714e-01,  3.28395924e+00,  1.91907707e+00,\n",
            "        -8.23800361e-01,  1.30502777e+00,  8.43563513e+00,\n",
            "         7.55985380e-01,  8.98506994e-01, -1.31997393e+00,\n",
            "         4.00491123e-01, -3.86778358e+00],\n",
            "       [-5.94870770e-01,  7.37276288e+00,  3.20164665e+00,\n",
            "         1.92426197e+00,  3.31176499e+00,  5.64526497e+00,\n",
            "         1.78076434e+00,  6.21263558e+00,  3.20939508e+00,\n",
            "         4.99558530e-01,  5.15842967e+00, -7.07764421e+00,\n",
            "        -1.71404689e+00,  7.97361140e-01, -2.73627274e+00,\n",
            "        -4.68175208e-01, -1.91637269e+00, -1.96324563e+00,\n",
            "         8.13577900e+00,  1.88242167e+00],\n",
            "       [-1.61843548e-01,  3.94550167e+00, -7.12012427e-01,\n",
            "         2.65601903e+00,  1.05244752e+00,  4.87972081e+00,\n",
            "        -4.25961392e+00,  2.29716322e+00,  3.66749236e-01,\n",
            "        -3.47215013e+00,  3.19626054e+00, -2.61712698e+00,\n",
            "         4.85771545e+00,  1.53927903e+00,  2.08645195e+00,\n",
            "         2.41372165e-01,  2.71358546e+00, -5.59695352e+00,\n",
            "         2.24183382e-01, -1.88475242e+00],\n",
            "       [ 8.47980922e-01, -1.41470720e-01,  1.84973365e+00,\n",
            "        -2.51289434e+00,  5.51745566e+00,  6.94757579e+00,\n",
            "        -6.24850254e-01, -4.49195575e-02,  8.62672951e-01,\n",
            "         3.79225725e+00,  5.69070287e+00, -3.61740837e+00,\n",
            "        -1.84532569e+00, -3.18646837e+00, -3.33834345e+00,\n",
            "        -4.91788874e+00,  1.08841046e+00, -3.47710940e+00,\n",
            "         4.50978586e+00,  2.72495615e+00],\n",
            "       [-3.08912858e+00, -3.09062585e+00, -1.83715325e+00,\n",
            "         4.19989649e+00, -2.54882208e+00, -4.48064900e+00,\n",
            "        -1.48271656e-01,  1.12016983e+00, -1.97177246e+00,\n",
            "         4.85829242e+00,  7.21370341e-01,  1.35911336e+00,\n",
            "        -2.56659816e+00, -1.19189516e-01, -4.69556443e-01,\n",
            "        -6.81673234e+00,  8.62971686e-01, -5.38442111e+00,\n",
            "        -8.63569368e-02, -4.42182848e+00],\n",
            "       [ 6.05895193e+00,  9.78786819e-01,  2.58407284e+00,\n",
            "         2.75702439e+00, -3.97346609e+00, -6.84537694e+00,\n",
            "        -9.88734459e-01,  2.69144924e+00,  2.73103535e-01,\n",
            "         2.35629674e+00,  2.80989772e+00, -4.47719130e+00,\n",
            "         8.63051171e-01,  5.89942388e+00, -1.71159689e+00,\n",
            "        -6.08721638e+00, -6.95713660e-01, -1.39400616e+00,\n",
            "         1.25514307e+00, -2.67721900e+00],\n",
            "       [ 2.72150319e-01, -6.65225283e+00,  2.56189011e+00,\n",
            "         4.76059963e+00,  3.89363284e+00, -4.54564698e+00,\n",
            "         9.57588528e-01, -8.95191061e+00,  8.49557765e-01,\n",
            "        -1.93080516e-01, -2.98738273e+00,  1.03138356e+00,\n",
            "         4.14043965e-01,  2.81850856e+00,  3.81925573e-01,\n",
            "         7.05081039e-01, -5.83521679e+00, -3.47916885e+00,\n",
            "        -1.42769816e+00,  8.90533592e-01],\n",
            "       [-1.88963369e-02,  4.50267107e+00, -2.61047757e+00,\n",
            "        -7.18896220e-01,  7.65242084e-01, -6.94492229e-01,\n",
            "         1.48674119e+00, -1.71168847e+00,  4.26102692e+00,\n",
            "        -9.58770423e-01,  3.34783555e+00, -9.09101016e-02,\n",
            "         4.47456704e+00, -4.19434803e+00,  1.55039266e+00,\n",
            "        -1.29772913e+00,  6.94202283e-01,  3.57841550e+00,\n",
            "        -3.41729040e+00, -3.96608920e+00],\n",
            "       [-2.99510064e+00,  7.63162723e-01, -5.66051078e+00,\n",
            "         2.89781203e-01, -3.85868798e+00, -3.43116548e+00,\n",
            "        -1.10753324e+00,  1.14179275e+00, -1.87924351e+00,\n",
            "        -1.47613168e+00, -1.25532685e-01, -8.18206608e-01,\n",
            "        -8.02956410e+00, -1.29030182e+00,  2.54892173e-01,\n",
            "         3.29333846e+00,  6.13899833e+00,  2.00096355e+00,\n",
            "         2.37276578e-01, -2.89429040e+00],\n",
            "       [ 2.67160112e-01,  2.33669071e+00,  3.79393473e+00,\n",
            "        -2.64153400e+00,  7.09216787e-01,  2.44681340e+00,\n",
            "         5.58243501e+00,  7.66771457e-01, -1.62451115e+00,\n",
            "        -2.06879897e+00, -1.07232219e+00, -1.95576061e+00,\n",
            "         2.47960754e+00,  3.20791717e+00,  2.17457047e+00,\n",
            "         3.57655873e+00, -1.36130561e+00,  1.14100518e+00,\n",
            "        -1.15398953e+00,  1.30976065e-01],\n",
            "       [ 3.67495723e+00, -8.92059355e-02, -5.59441739e+00,\n",
            "        -7.58447963e-01, -2.13854939e+00, -4.52675136e+00,\n",
            "        -2.37109707e+00,  2.88187441e+00,  5.04273195e+00,\n",
            "        -1.46701813e+00,  3.00760751e+00,  3.53466630e+00,\n",
            "        -3.47937680e+00, -1.18088114e-01, -1.33380513e-01,\n",
            "         5.17157036e-01, -4.78125243e+00, -1.04742672e+00,\n",
            "         3.17346362e+00,  3.78660960e+00],\n",
            "       [ 5.49408624e+00, -1.01252714e+00,  5.60852267e+00,\n",
            "         1.99771534e+00, -4.07760350e+00,  2.28482785e+00,\n",
            "        -1.05684010e+00,  1.55722879e+00, -3.07571828e-01,\n",
            "         3.62471592e+00,  7.69680478e-01, -8.47515054e-01,\n",
            "         2.89489731e+00,  7.68665329e-01, -1.23886920e+00,\n",
            "         3.83182309e+00, -1.22503573e+00, -1.91140459e+00,\n",
            "        -1.61872384e+00, -4.39641626e+00],\n",
            "       [-1.65962151e+00,  5.58263308e+00, -2.72485181e+00,\n",
            "         2.52567112e-02, -3.32455005e+00, -1.83405946e+00,\n",
            "         4.55607648e+00,  2.68906721e+00, -1.83075105e+00,\n",
            "         1.86603483e-02, -2.47801189e+00, -2.35261606e+00,\n",
            "        -2.74446659e+00, -2.69141933e+00,  9.77847819e-01,\n",
            "         1.79037950e+00,  1.46472748e+00, -5.08310571e-01,\n",
            "        -4.07413560e+00, -2.01331415e-01],\n",
            "       [-2.77288123e+00,  2.64390340e+00,  1.66932883e+00,\n",
            "         2.24067459e+00, -1.04510495e+00, -5.43305752e+00,\n",
            "         2.87368918e+00,  3.67896400e+00, -4.44994983e+00,\n",
            "         4.13748133e-01,  3.57975774e+00, -3.22717065e+00,\n",
            "         5.30304833e+00, -1.04709737e+00, -3.22617033e+00,\n",
            "         4.11497412e+00,  8.83596410e-01, -1.95941448e+00,\n",
            "         2.63936386e+00, -5.86730139e+00],\n",
            "       [ 5.44591913e+00, -2.44875018e+00,  8.57952819e-01,\n",
            "        -1.19584851e+00,  1.30869634e+00,  2.66377717e+00,\n",
            "        -2.47165831e+00,  2.35908875e+00, -8.82099743e-01,\n",
            "        -2.06357853e+00, -6.72130822e-01, -3.01382582e+00,\n",
            "        -2.38700272e+00,  2.84740152e+00, -4.52469127e-01,\n",
            "         3.42459929e+00,  1.29527098e+00, -3.07790489e+00,\n",
            "        -5.69361428e+00, -2.06172545e+00]]), 'b2': array([[0.],\n",
            "       [0.],\n",
            "       [0.],\n",
            "       [0.],\n",
            "       [0.],\n",
            "       [0.],\n",
            "       [0.],\n",
            "       [0.],\n",
            "       [0.],\n",
            "       [0.],\n",
            "       [0.],\n",
            "       [0.],\n",
            "       [0.],\n",
            "       [0.],\n",
            "       [0.],\n",
            "       [0.],\n",
            "       [0.],\n",
            "       [0.],\n",
            "       [0.],\n",
            "       [0.]]), 'W3': array([[ 0.79237947,  0.02643876, -2.49028686,  3.0384369 , -5.23717051,\n",
            "        -3.77593976,  0.38188531,  6.58128946,  1.24180238, -3.01571898,\n",
            "         1.77797142,  2.05018972,  2.81357078, -1.2295936 , -2.39917932,\n",
            "         0.35465184,  1.24582464,  4.79470574,  6.26894662, -2.1992098 ],\n",
            "       [-1.56891488, -0.19071924, -0.74931632,  1.45737053,  1.45721162,\n",
            "         0.77369095,  4.03221387, -0.47553277, -3.15242382, -4.68180368,\n",
            "        -3.08441962, -3.13277376, -5.65027149,  1.98956331,  0.55580351,\n",
            "        -1.26837818, -2.66966694, -4.74283613, -2.75915879,  5.54372717],\n",
            "       [-6.63237492,  0.42543155,  2.23091091,  0.40839669, -0.95041476,\n",
            "         2.30422183, -3.30998478,  1.66663499,  4.29209212, -3.12412316,\n",
            "        -2.45950022,  0.40782113,  2.96871839,  4.01744489,  2.04188086,\n",
            "        -2.00850832, -3.34323814,  0.72893573,  1.19477288, -3.30165693],\n",
            "       [ 0.17937146,  0.9967124 ,  3.13519198, -2.97168811,  1.67089358,\n",
            "        -3.50782739, -1.27975794, -0.23483025,  4.55374877,  9.94291272,\n",
            "         0.76063703,  1.48587449,  3.02262484, -4.08496867,  2.29699021,\n",
            "        -3.72521958,  4.88733592,  4.33047529,  1.50461905, -2.42009554],\n",
            "       [ 5.00407581,  0.77906512,  0.33073063,  1.73863004, -5.13703971,\n",
            "         1.28549827,  2.98832446,  1.01700294,  0.43577624, -2.86097435,\n",
            "         1.93066449,  0.60140684,  0.02719136, -1.68961476,  2.56851333,\n",
            "         3.74155311,  1.16443852,  2.69024722,  3.97806989,  4.76448344],\n",
            "       [ 0.67695045, -0.63998406, -1.24483761,  0.04124104,  1.65589922,\n",
            "         2.81454581, -1.28022606,  0.44957267, -2.98974005,  3.79189202,\n",
            "        -1.17438316,  1.07376338, -2.15811019, -0.89482812, -2.05798831,\n",
            "         5.11489967,  1.07809123, -0.499334  , -2.84292695, -1.83089914],\n",
            "       [ 1.70611519,  4.99777505, -4.29266649, -2.75113968, -0.52736449,\n",
            "        -1.88480205, -4.97754621,  0.05792925,  2.25312765, -4.73133408,\n",
            "         0.63287933,  2.89401873,  2.94098198, -1.25961208,  6.91424714,\n",
            "         1.66534021, -2.43319865,  2.95289682, -3.36776391,  2.68580836],\n",
            "       [-3.78616303,  2.37162772, -1.7506853 ,  3.39686419,  2.22203224,\n",
            "         1.34162376,  0.1758973 ,  3.26104877, -5.41002574,  1.29766301,\n",
            "         1.2402981 ,  1.68644968,  2.47868647, 11.10737471,  0.350348  ,\n",
            "         2.4134986 ,  0.45710549,  4.7180042 , -6.06243145,  5.09384259],\n",
            "       [-2.05141925, -6.78672388, -3.23455673, -0.52355801,  0.58273575,\n",
            "        -0.13767409,  2.45045317, -0.10553096, -0.1895928 , -6.43054658,\n",
            "         1.4620322 ,  3.0307251 , -1.26201849, -5.6312529 , -4.00951647,\n",
            "         5.02068491, -1.81862174, -1.99375165, -2.45835328,  2.04265235],\n",
            "       [-1.76353066, -2.60709575, -4.51908835, -0.32339694,  3.00284302,\n",
            "        -0.44379865,  2.64665905,  0.52627916,  0.44351062,  0.53691873,\n",
            "         0.10332425,  3.07861506,  1.46355871, -1.73433204,  0.38586014,\n",
            "        -0.2278939 ,  1.45479594,  0.54094995,  1.24373382, -4.43196553]]), 'b3': array([[0.],\n",
            "       [0.],\n",
            "       [0.],\n",
            "       [0.],\n",
            "       [0.],\n",
            "       [0.],\n",
            "       [0.],\n",
            "       [0.],\n",
            "       [0.],\n",
            "       [0.]]), 'W4': array([[ 1.13877349,  3.94083618, -4.05058183,  4.80279762,  0.89121816,\n",
            "        -0.62324551, -5.41346445,  3.26279106, -2.90864861, -1.53357232],\n",
            "       [ 1.6377128 , -3.0767396 , -2.9605002 , -3.45384097, -0.33408055,\n",
            "         1.76560926,  1.20901819,  1.22220842, -1.03254073,  0.42140825],\n",
            "       [-2.07012225,  5.99302594,  0.58418146, -5.8649561 , -3.20792339,\n",
            "         4.80390843, -4.09946186, -1.31308437,  1.21087715, -3.28987105],\n",
            "       [ 3.19981409,  5.03725044, -2.47421752,  3.38788697, -2.67366903,\n",
            "        -2.99384973,  0.73705527,  0.71379403, -1.7881062 ,  2.52607273],\n",
            "       [-4.40754494, -2.56699782, -3.23360817,  2.275091  ,  2.41170661,\n",
            "         2.00082134, -3.88680141,  0.3983044 ,  1.37296054, -4.85093994]]), 'b4': array([[0.],\n",
            "       [0.],\n",
            "       [0.],\n",
            "       [0.],\n",
            "       [0.]]), 'W5': array([[-2.46507931,  1.93758703,  2.11096248,  0.76570439,  1.62622702]]), 'b5': array([[0.]])}\n"
          ],
          "name": "stdout"
        }
      ]
    },
    {
      "cell_type": "code",
      "metadata": {
        "id": "b_NuVBSl6vD4",
        "colab_type": "code",
        "colab": {
          "base_uri": "https://localhost:8080/",
          "height": 84
        },
        "outputId": "a9a93375-0da1-482b-e9fb-638ec03d6fd3"
      },
      "source": [
        "AL,caches=L_model_forward(X,parameters)\n",
        "print(AL[0][0:10])\n",
        "print(Y[0][0:10])"
      ],
      "execution_count": 96,
      "outputs": [
        {
          "output_type": "stream",
          "text": [
            "[0. 0. 0. 0. 0. 0. 0. 0. 0. 0.]\n",
            "[0 1 1 1 0 0 0 0 1 1]\n"
          ],
          "name": "stdout"
        },
        {
          "output_type": "stream",
          "text": [
            "/usr/local/lib/python3.6/dist-packages/ipykernel_launcher.py:2: RuntimeWarning: overflow encountered in exp\n",
            "  \n"
          ],
          "name": "stderr"
        }
      ]
    },
    {
      "cell_type": "code",
      "metadata": {
        "id": "eZIE4F6g6vO5",
        "colab_type": "code",
        "colab": {
          "base_uri": "https://localhost:8080/",
          "height": 34
        },
        "outputId": "b6daec07-93ce-440a-d176-d1d4fea388b2"
      },
      "source": [
        "cost=compute_cost(AL,Y)\n",
        "print(cost)\n"
      ],
      "execution_count": 88,
      "outputs": [
        {
          "output_type": "stream",
          "text": [
            "35.54663584366773\n"
          ],
          "name": "stdout"
        }
      ]
    },
    {
      "cell_type": "code",
      "metadata": {
        "id": "RCwyeLww6vWL",
        "colab_type": "code",
        "colab": {}
      },
      "source": [
        "grads=L_model_backward(AL,Y,caches)\n"
      ],
      "execution_count": 66,
      "outputs": []
    },
    {
      "cell_type": "code",
      "metadata": {
        "id": "8G0bGP8U6vc9",
        "colab_type": "code",
        "colab": {
          "base_uri": "https://localhost:8080/",
          "height": 1000
        },
        "outputId": "6a31416c-a6dd-48dd-9ca6-331c4d1fea9f"
      },
      "source": [
        "print(grads)\n"
      ],
      "execution_count": 67,
      "outputs": [
        {
          "output_type": "stream",
          "text": [
            "{'dA4': array([[-6.31940892e-04,  5.19682303e-01,  5.19575895e-01, ...,\n",
            "        -5.52682625e-02,  5.19620057e-01, -1.62403731e-05],\n",
            "       [ 4.96714435e-04, -4.08477604e-01, -4.08393965e-01, ...,\n",
            "         4.34416321e-02, -4.08428678e-01,  1.27651618e-05],\n",
            "       [ 5.41160485e-04, -4.45028214e-01, -4.44937092e-01, ...,\n",
            "         4.73287930e-02, -4.44974911e-01,  1.39073896e-05],\n",
            "       [ 1.96293852e-04, -1.61424023e-01, -1.61390970e-01, ...,\n",
            "         1.71674602e-02, -1.61404688e-01,  5.04459427e-06],\n",
            "       [ 4.16895048e-04, -3.42837410e-01, -3.42767212e-01, ...,\n",
            "         3.64607912e-02, -3.42796346e-01,  1.07138677e-05]]), 'dW5': array([[-8.93106488e+00, -2.75648358e-04,  0.00000000e+00,\n",
            "        -6.38006902e+00, -1.01276167e-01]]), 'db5': array([[-0.3676734]]), 'dA3': array([[-2.87560930e-04,  1.12211209e-02,  2.36429909e-01, ...,\n",
            "        -1.19336727e-03,  2.36450005e-01, -7.39008483e-06],\n",
            "       [-3.83375780e-04,  1.84080508e-01,  3.15207983e-01, ...,\n",
            "        -1.95769796e-02,  3.15234775e-01, -9.85244950e-06],\n",
            "       [ 1.08222616e-04, -2.54258452e-01, -8.89796232e-02, ...,\n",
            "         2.70404106e-02, -8.89871862e-02,  2.78123427e-06],\n",
            "       ...,\n",
            "       [-2.61728266e-04,  2.35590820e-01,  2.15190534e-01, ...,\n",
            "        -2.50551062e-02,  2.15208825e-01, -6.72620613e-06],\n",
            "       [ 3.07009181e-04, -1.82303628e-01, -2.52420079e-01, ...,\n",
            "         1.93880082e-02, -2.52441534e-01,  7.88988926e-06],\n",
            "       [-8.30853145e-05, -1.79591919e-01,  6.83119690e-02, ...,\n",
            "         1.90996177e-02,  6.83177753e-02, -2.13522582e-06]]), 'dW4': array([[ 2.85118986e+00,  0.00000000e+00,  6.78319914e-04,\n",
            "         5.96499214e+00,  5.05924750e+00,  4.79847698e-05,\n",
            "         4.09460047e-04, -2.11522339e-04,  3.39321050e-01,\n",
            "         2.78873942e+00],\n",
            "       [ 0.00000000e+00,  0.00000000e+00, -2.89543301e-05,\n",
            "        -9.08324557e-05, -1.26671521e-04, -1.24482309e-04,\n",
            "        -4.45060484e-04, -3.18821203e-04,  0.00000000e+00,\n",
            "        -1.17559324e-04],\n",
            "       [ 0.00000000e+00,  0.00000000e+00,  0.00000000e+00,\n",
            "         0.00000000e+00,  0.00000000e+00,  0.00000000e+00,\n",
            "         0.00000000e+00,  0.00000000e+00,  0.00000000e+00,\n",
            "         0.00000000e+00],\n",
            "       [-8.85638274e-01,  0.00000000e+00, -2.22142434e-04,\n",
            "        -1.85288527e+00, -1.57155650e+00, -6.40985382e-05,\n",
            "        -3.03067732e-04, -6.02900082e-05, -1.05400104e-01,\n",
            "        -8.66286339e-01],\n",
            "       [-1.28692167e+00,  0.00000000e+00,  0.00000000e+00,\n",
            "        -2.73901601e+00, -2.32002909e+00,  0.00000000e+00,\n",
            "         0.00000000e+00,  2.14376901e-06, -1.55294985e-01,\n",
            "        -1.26467654e+00]]), 'db4': array([[ 0.19052561],\n",
            "       [-0.00043113],\n",
            "       [ 0.        ],\n",
            "       [-0.05935155],\n",
            "       [-0.07432949]]), 'dA2': array([[-8.54618346e-05,  1.49591657e-01,  7.02659216e-02, ...,\n",
            "        -1.59090869e-02,  7.02718940e-02, -2.19630048e-06],\n",
            "       [-2.20873630e-04,  2.21281172e-01,  1.81600234e-01, ...,\n",
            "        -2.35332738e-02,  1.81615669e-01, -5.67627480e-06],\n",
            "       [-6.00764204e-05,  2.45429670e-01,  4.93942713e-02, ...,\n",
            "        -2.61014688e-02,  4.93984697e-02, -1.54391573e-06],\n",
            "       ...,\n",
            "       [-3.14819876e-04,  2.04193500e-01,  2.58841959e-01, ...,\n",
            "        -2.17159982e-02,  2.58863960e-01, -8.09061784e-06],\n",
            "       [-3.19243748e-04,  1.33121941e-01,  2.62479226e-01, ...,\n",
            "        -1.41575311e-02,  2.62501536e-01, -8.20430779e-06],\n",
            "       [ 2.19456899e-04,  3.49142105e-02, -1.80435411e-01, ...,\n",
            "        -3.71312962e-03, -1.80450748e-01,  5.63986597e-06]]), 'dW3': array([[ 3.46684491e-06,  6.75321663e-07,  8.50709415e-06,\n",
            "         4.89230963e-01,  3.27450629e-01,  9.51665107e-01,\n",
            "         1.80662860e+00,  6.01477300e-01,  2.20782825e+00,\n",
            "         2.59107865e-01,  1.82802491e+00,  0.00000000e+00,\n",
            "         2.16567696e-04,  0.00000000e+00,  4.11150264e-04,\n",
            "         2.76348956e-04,  2.44423826e+00,  0.00000000e+00,\n",
            "         8.34490532e-02,  4.54379107e-01],\n",
            "       [ 0.00000000e+00,  0.00000000e+00,  0.00000000e+00,\n",
            "         0.00000000e+00,  0.00000000e+00,  0.00000000e+00,\n",
            "         0.00000000e+00,  0.00000000e+00,  0.00000000e+00,\n",
            "         0.00000000e+00,  0.00000000e+00,  0.00000000e+00,\n",
            "         0.00000000e+00,  0.00000000e+00,  0.00000000e+00,\n",
            "         0.00000000e+00,  0.00000000e+00,  0.00000000e+00,\n",
            "         0.00000000e+00,  0.00000000e+00],\n",
            "       [-7.85549529e-05,  1.43769876e-04, -1.24801832e-04,\n",
            "        -9.79258588e-05,  1.30738363e-04, -1.13945929e-03,\n",
            "        -2.89689656e-03, -1.79475157e-03, -3.58202639e-03,\n",
            "        -1.17359968e-05, -1.96746878e-03,  0.00000000e+00,\n",
            "        -1.44874440e-03,  0.00000000e+00, -8.65377437e-04,\n",
            "        -3.92327901e-05, -3.10199527e-03,  0.00000000e+00,\n",
            "        -1.06509844e-03, -8.81691331e-05],\n",
            "       [ 1.81537210e-04,  1.22058985e-04,  2.20272393e-04,\n",
            "         6.06119383e-01,  4.26706940e-01,  1.19735989e+00,\n",
            "         2.26453696e+00,  7.76296480e-01,  2.76533378e+00,\n",
            "         3.18417118e-01,  2.27695816e+00,  0.00000000e+00,\n",
            "         4.95900267e-03,  0.00000000e+00,  3.49566763e-03,\n",
            "         3.98102986e-03,  3.03537972e+00,  0.00000000e+00,\n",
            "         1.32114079e-01,  5.53311857e-01],\n",
            "       [ 4.12089035e-05,  6.41983498e-05,  1.01120192e-04,\n",
            "         1.36570294e-01,  1.01232422e-01,  2.74285660e-01,\n",
            "         5.16697763e-01,  1.82552465e-01,  6.30433100e-01,\n",
            "         7.11077881e-02,  5.16031516e-01,  0.00000000e+00,\n",
            "         2.19193561e-03,  0.00000000e+00,  1.53314002e-03,\n",
            "         1.81554334e-03,  6.85686208e-01,  0.00000000e+00,\n",
            "         3.68202366e-02,  1.22307921e-01],\n",
            "       [ 0.00000000e+00, -2.35273727e-05,  0.00000000e+00,\n",
            "         2.80711515e-05, -7.26054180e-07,  5.39594055e-05,\n",
            "         6.15129061e-05,  2.50746051e-05,  9.91772635e-05,\n",
            "         3.88389967e-05,  1.26497549e-04,  0.00000000e+00,\n",
            "        -2.68438974e-05,  0.00000000e+00, -2.16375556e-05,\n",
            "        -3.56666102e-06,  1.22610654e-04,  0.00000000e+00,\n",
            "         3.50846849e-05,  0.00000000e+00],\n",
            "       [-2.58520291e-04, -1.15709201e-04, -8.08648721e-05,\n",
            "        -3.97602237e-04, -1.77795874e-04,  2.67337556e-04,\n",
            "        -5.28631216e-04,  1.02979965e-04, -1.16273269e-03,\n",
            "         0.00000000e+00, -1.21177336e-03,  0.00000000e+00,\n",
            "        -1.87597377e-03,  0.00000000e+00, -4.48525914e-04,\n",
            "        -2.90969713e-04, -1.41285785e-03,  0.00000000e+00,\n",
            "        -6.31099982e-04,  2.46245869e-05],\n",
            "       [ 7.44129310e-05, -3.10574318e-05,  1.73089767e-05,\n",
            "         6.49635209e-04, -7.94718124e-05, -7.61997256e-04,\n",
            "        -4.38664483e-04, -9.66108192e-04,  1.34362618e-04,\n",
            "         1.78899332e-04,  1.48748966e-03,  0.00000000e+00,\n",
            "         2.72483066e-04,  0.00000000e+00, -6.23947059e-04,\n",
            "        -2.52649154e-06,  8.43045963e-04,  0.00000000e+00,\n",
            "         2.17655812e-04,  2.98594392e-05],\n",
            "       [-8.34419178e-06,  0.00000000e+00, -8.65822031e-05,\n",
            "        -6.54470356e-01, -4.50811251e-01, -1.29017878e+00,\n",
            "        -2.44295150e+00, -8.27814252e-01, -2.97926867e+00,\n",
            "        -3.42031257e-01, -2.45373592e+00,  0.00000000e+00,\n",
            "        -1.05591464e-03,  0.00000000e+00, -1.22770033e-03,\n",
            "        -1.25014279e-03, -3.28093942e+00,  0.00000000e+00,\n",
            "        -1.24323651e-01, -6.06526779e-01],\n",
            "       [-1.12211502e-04, -7.99849638e-05, -1.36154434e-04,\n",
            "        -1.77115893e-02, -2.54668190e-02, -4.63193437e-02,\n",
            "        -8.24173390e-02, -4.19272127e-02, -9.93637711e-02,\n",
            "        -7.69801787e-03, -7.40666861e-02,  0.00000000e+00,\n",
            "        -3.04242130e-03,  0.00000000e+00, -1.95084178e-03,\n",
            "        -2.37011183e-03, -9.31244103e-02,  0.00000000e+00,\n",
            "        -2.16280205e-02, -1.02131804e-02]]), 'db3': array([[ 5.29450061e-02],\n",
            "       [ 0.00000000e+00],\n",
            "       [-1.12126592e-03],\n",
            "       [ 8.14468794e-02],\n",
            "       [ 2.21932489e-02],\n",
            "       [-1.49545963e-05],\n",
            "       [-1.92736664e-03],\n",
            "       [ 6.57228559e-04],\n",
            "       [-7.65906550e-02],\n",
            "       [-1.21828295e-02]]), 'dA1': array([[ 1.07052142e-04, -9.98020742e-03, -8.80172708e-02, ...,\n",
            "        -1.18751135e-02, -8.80247520e-02,  2.75115404e-06],\n",
            "       [-5.62939215e-05, -1.92850703e-01,  4.62843361e-02, ...,\n",
            "         2.86166457e-03,  4.62882701e-02, -1.44670855e-06],\n",
            "       [-1.31612236e-04,  8.43353972e-02,  1.08210350e-01, ...,\n",
            "        -1.39578001e-02,  1.08219548e-01, -3.38232871e-06],\n",
            "       ...,\n",
            "       [ 3.55116986e-04, -3.33430081e-01, -2.91973867e-01, ...,\n",
            "         9.15364360e-03, -2.91998684e-01,  9.12622119e-06],\n",
            "       [-1.75847307e-04, -4.08588871e-02,  1.44580012e-01, ...,\n",
            "         7.53925852e-03,  1.44592301e-01, -4.51913449e-06],\n",
            "       [ 3.48937647e-04, -2.82037702e-01, -2.86893271e-01, ...,\n",
            "         1.55762555e-02, -2.86917657e-01,  8.96741713e-06]]), 'dW2': array([[ 2.03378550e-04,  0.00000000e+00,  7.66180273e-04,\n",
            "         0.00000000e+00, -2.81388325e-06,  4.86356552e-04,\n",
            "        -5.06840749e-05,  0.00000000e+00, -2.68206706e-05,\n",
            "        -1.25377148e-04,  1.37311810e-03,  2.87629733e-04,\n",
            "         9.94078685e-04,  9.68003778e-05,  2.75187576e-04,\n",
            "         0.00000000e+00,  8.02114425e-05,  3.96002889e-04,\n",
            "         2.84704728e-04,  5.00424149e-04],\n",
            "       [-4.14462406e-05, -5.99402993e-06, -2.95337778e-05,\n",
            "         0.00000000e+00, -8.56096894e-06,  0.00000000e+00,\n",
            "        -7.40546217e-05,  0.00000000e+00, -2.94797644e-05,\n",
            "        -9.24703109e-05, -8.39290664e-05, -1.17479202e-04,\n",
            "        -6.49698856e-05,  0.00000000e+00, -1.11836970e-06,\n",
            "         0.00000000e+00, -6.50505776e-05, -1.24027363e-04,\n",
            "        -2.34264543e-06, -8.07464825e-05],\n",
            "       [ 6.93851811e-04,  3.67414034e-05,  7.56473091e-04,\n",
            "         0.00000000e+00,  0.00000000e+00,  1.40399262e-04,\n",
            "         1.50705327e-05,  0.00000000e+00,  4.22606727e-05,\n",
            "         8.02049024e-05,  1.68903693e-03,  4.05807602e-04,\n",
            "         1.45876461e-03,  1.35562811e-04,  1.93144235e-04,\n",
            "         0.00000000e+00,  2.15010458e-04,  5.82545736e-04,\n",
            "         5.59303937e-04,  1.01276470e-03],\n",
            "       [ 1.07928262e-01,  4.97816105e-06,  5.23549779e-02,\n",
            "         5.86656408e-02,  0.00000000e+00,  4.45115266e-02,\n",
            "         2.50718824e-05,  0.00000000e+00,  6.96115584e-05,\n",
            "         9.31732126e-02,  5.70866743e-02,  5.92974454e-03,\n",
            "        -1.03817836e-03,  0.00000000e+00,  8.81055819e-03,\n",
            "         0.00000000e+00,  3.82961338e-02, -1.30506692e-04,\n",
            "         3.68489523e-02,  9.34540784e-05],\n",
            "       [-1.07060183e+00, -4.26873234e-05, -5.37174884e-01,\n",
            "        -5.94737649e-01, -2.12690153e-06, -4.36688869e-01,\n",
            "        -8.82285010e-05,  0.00000000e+00, -4.90956626e-05,\n",
            "        -8.68703615e-01, -6.71745942e-01, -1.10880862e-01,\n",
            "        -3.32423534e-03, -4.22688142e-05, -5.79122235e-02,\n",
            "         0.00000000e+00, -4.37999198e-01, -2.89107000e-03,\n",
            "        -3.91306252e-01, -3.90940878e-04],\n",
            "       [-1.47653796e+00,  0.00000000e+00, -7.39746091e-01,\n",
            "        -8.17984562e-01,  0.00000000e+00, -6.01783792e-01,\n",
            "         0.00000000e+00,  0.00000000e+00,  0.00000000e+00,\n",
            "        -1.20223730e+00, -9.19021757e-01, -1.49151825e-01,\n",
            "        -4.32705359e-03,  7.59851234e-06, -8.23469420e-02,\n",
            "         0.00000000e+00, -5.99193249e-01, -4.10212705e-03,\n",
            "        -5.37622064e-01, -5.66649713e-04],\n",
            "       [-7.32208735e-01, -1.52279006e-05, -3.68033792e-01,\n",
            "        -4.07642552e-01, -2.45594543e-06, -2.99903655e-01,\n",
            "        -2.69989934e-05,  0.00000000e+00,  5.81790135e-05,\n",
            "        -5.91072659e-01, -4.62698200e-01, -7.68666703e-02,\n",
            "        -2.07977678e-03, -2.36699667e-04, -3.88541693e-02,\n",
            "         0.00000000e+00, -3.01157158e-01, -1.43394008e-03,\n",
            "        -2.68955088e-01,  1.34953457e-04],\n",
            "       [ 1.30493090e+00,  2.74202324e-06,  6.50330939e-01,\n",
            "         7.22327223e-01,  0.00000000e+00,  5.31787634e-01,\n",
            "         1.79995604e-06,  0.00000000e+00,  5.04742298e-06,\n",
            "         1.06985105e+00,  7.98445980e-01,  1.25654239e-01,\n",
            "         4.96294405e-05, -7.02992793e-05,  7.54421487e-02,\n",
            "         0.00000000e+00,  5.23174894e-01,  1.80134503e-03,\n",
            "         4.72142726e-01, -1.48425697e-04],\n",
            "       [ 1.41431883e+00,  9.20190840e-05,  7.10426001e-01,\n",
            "         7.85250641e-01, -5.13102916e-06,  5.76682648e-01,\n",
            "         1.50660147e-04,  0.00000000e+00,  5.52465845e-05,\n",
            "         1.14538352e+00,  8.90542666e-01,  1.47913226e-01,\n",
            "         5.33933444e-03,  2.44815977e-04,  7.60274945e-02,\n",
            "         0.00000000e+00,  5.79665367e-01,  4.22761111e-03,\n",
            "         5.17641187e-01,  5.95867142e-04],\n",
            "       [ 3.29016890e+00,  0.00000000e+00,  1.64781080e+00,\n",
            "         1.83768192e+00,  0.00000000e+00,  1.34243647e+00,\n",
            "         0.00000000e+00,  0.00000000e+00,  0.00000000e+00,\n",
            "         2.66747863e+00,  2.06847498e+00,  3.44840636e-01,\n",
            "         4.20743811e-03,  0.00000000e+00,  1.73323729e-01,\n",
            "         0.00000000e+00,  1.35420631e+00,  5.14102804e-03,\n",
            "         1.20595411e+00,  0.00000000e+00],\n",
            "       [ 2.54082312e-01,  6.60150926e-06,  1.27848771e-01,\n",
            "         1.40269196e-01,  7.62227443e-06,  1.02364141e-01,\n",
            "         3.89091483e-05,  0.00000000e+00,  3.09964615e-05,\n",
            "         2.05864121e-01,  1.60974813e-01,  2.73509230e-02,\n",
            "         1.97631276e-03, -1.14849131e-04,  1.34763680e-02,\n",
            "         0.00000000e+00,  1.04393826e-01,  1.59507367e-03,\n",
            "         9.28105895e-02,  4.72810336e-04],\n",
            "       [ 0.00000000e+00,  0.00000000e+00,  0.00000000e+00,\n",
            "         0.00000000e+00,  0.00000000e+00,  0.00000000e+00,\n",
            "         0.00000000e+00,  0.00000000e+00,  0.00000000e+00,\n",
            "         0.00000000e+00,  0.00000000e+00,  0.00000000e+00,\n",
            "         0.00000000e+00,  0.00000000e+00,  0.00000000e+00,\n",
            "         0.00000000e+00,  0.00000000e+00,  0.00000000e+00,\n",
            "         0.00000000e+00,  0.00000000e+00],\n",
            "       [ 6.83309454e-03,  2.93441087e-05,  3.82115051e-03,\n",
            "         2.06229582e-03, -2.62918349e-06,  1.82584083e-03,\n",
            "         4.59850944e-05,  0.00000000e+00,  2.59046654e-05,\n",
            "         4.69440780e-03,  5.32905739e-03,  1.35239742e-03,\n",
            "         1.26571881e-03,  4.38665210e-05,  7.10027687e-04,\n",
            "         0.00000000e+00,  2.29261340e-03,  1.01759288e-03,\n",
            "         2.43501548e-03,  1.79034056e-04],\n",
            "       [ 0.00000000e+00,  0.00000000e+00,  0.00000000e+00,\n",
            "         0.00000000e+00,  0.00000000e+00,  0.00000000e+00,\n",
            "         0.00000000e+00,  0.00000000e+00,  0.00000000e+00,\n",
            "         0.00000000e+00,  0.00000000e+00,  0.00000000e+00,\n",
            "         0.00000000e+00,  0.00000000e+00,  0.00000000e+00,\n",
            "         0.00000000e+00,  0.00000000e+00,  0.00000000e+00,\n",
            "         0.00000000e+00,  0.00000000e+00],\n",
            "       [ 6.73375335e-03,  1.98156552e-05,  4.36378775e-03,\n",
            "         1.73436889e-03, -2.04353591e-05,  3.39929945e-03,\n",
            "        -1.42686059e-04,  0.00000000e+00, -1.22881944e-04,\n",
            "         3.51503285e-03,  5.38258187e-03,  3.92086994e-04,\n",
            "         1.42473271e-03,  2.24433982e-04,  1.36237991e-03,\n",
            "         0.00000000e+00,  1.48017974e-03,  3.18962472e-04,\n",
            "         2.75593296e-03,  6.99901177e-05],\n",
            "       [-7.84350517e-03, -7.23086226e-05, -3.87335182e-03,\n",
            "        -2.93716123e-03, -9.09584150e-06, -1.37222434e-03,\n",
            "        -2.08350247e-04,  0.00000000e+00, -1.22226015e-04,\n",
            "        -5.07686087e-03, -6.70731329e-03, -2.42415896e-03,\n",
            "        -1.70339801e-03,  0.00000000e+00, -3.16081151e-04,\n",
            "         0.00000000e+00, -2.63539744e-03, -1.05468043e-03,\n",
            "        -3.24681005e-03, -8.90016209e-04],\n",
            "       [ 1.95752969e+00,  3.41892154e-05,  9.83512586e-01,\n",
            "         1.08530631e+00,  2.27776706e-05,  7.97937414e-01,\n",
            "         1.34262177e-04,  0.00000000e+00,  1.42590134e-04,\n",
            "         1.58716132e+00,  1.23030559e+00,  2.02683083e-01,\n",
            "         9.16501262e-03, -3.05887579e-04,  1.06552447e-01,\n",
            "         0.00000000e+00,  7.99750091e-01,  7.37905907e-03,\n",
            "         7.15552737e-01,  1.84863429e-03],\n",
            "       [ 0.00000000e+00,  0.00000000e+00,  0.00000000e+00,\n",
            "         0.00000000e+00,  0.00000000e+00,  0.00000000e+00,\n",
            "         0.00000000e+00,  0.00000000e+00,  0.00000000e+00,\n",
            "         0.00000000e+00,  0.00000000e+00,  0.00000000e+00,\n",
            "         0.00000000e+00,  0.00000000e+00,  0.00000000e+00,\n",
            "         0.00000000e+00,  0.00000000e+00,  0.00000000e+00,\n",
            "         0.00000000e+00,  0.00000000e+00],\n",
            "       [ 2.41704054e+00,  1.56083141e-05,  1.20954411e+00,\n",
            "         1.34137896e+00,  0.00000000e+00,  9.85466470e-01,\n",
            "         1.54065917e-05,  0.00000000e+00,  4.27954162e-05,\n",
            "         1.96941545e+00,  1.50189198e+00,  2.43492436e-01,\n",
            "         6.22352958e-03,  9.39303502e-05,  1.34032507e-01,\n",
            "         0.00000000e+00,  9.81064731e-01,  5.89178554e-03,\n",
            "         8.80074566e-01,  1.00669127e-03],\n",
            "       [-1.25687865e+00,  0.00000000e+00, -6.25419830e-01,\n",
            "        -6.94866266e-01,  0.00000000e+00, -5.13615454e-01,\n",
            "         0.00000000e+00,  0.00000000e+00,  0.00000000e+00,\n",
            "        -1.03399567e+00, -7.62033586e-01, -1.17354975e-01,\n",
            "         6.45815300e-04, -2.09590039e-04, -7.53444881e-02,\n",
            "         0.00000000e+00, -4.99454716e-01, -1.20842789e-03,\n",
            "        -4.53393018e-01, -4.44262383e-05]]), 'db2': array([[ 0.00043704],\n",
            "       [-0.00011737],\n",
            "       [ 0.00098775],\n",
            "       [ 0.00089886],\n",
            "       [-0.03448734],\n",
            "       [-0.04624048],\n",
            "       [-0.02386773],\n",
            "       [ 0.0370203 ],\n",
            "       [ 0.04667088],\n",
            "       [ 0.10550324],\n",
            "       [ 0.00932248],\n",
            "       [ 0.        ],\n",
            "       [ 0.00125519],\n",
            "       [ 0.        ],\n",
            "       [ 0.00045398],\n",
            "       [-0.00166456],\n",
            "       [ 0.06524068],\n",
            "       [ 0.        ],\n",
            "       [ 0.07400887],\n",
            "       [-0.03360168]]), 'dA0': array([[-3.94193869e-04,  3.34013754e-01,  3.24102515e-01, ...,\n",
            "        -2.68693516e-02,  3.24130063e-01, -1.01304657e-05],\n",
            "       [ 5.11671562e-04, -4.75221253e-01, -4.20691576e-01, ...,\n",
            "        -2.75593068e-02, -4.20727333e-01,  1.31495480e-05],\n",
            "       [-1.50076705e-04,  2.35941722e-01,  1.23391664e-01, ...,\n",
            "        -1.38380543e-02,  1.23402152e-01, -3.85685071e-06],\n",
            "       [-5.59616135e-05, -1.51081142e-01,  4.60111155e-02, ...,\n",
            "         1.69468624e-02,  4.60150264e-02, -1.43816850e-06],\n",
            "       [-6.91917319e-04,  3.78995467e-01,  5.68887952e-01, ...,\n",
            "        -2.64237540e-02,  5.68936306e-01, -1.77817191e-05],\n",
            "       [-1.76966963e-04, -3.24482336e-02,  1.45500583e-01, ...,\n",
            "         1.22052253e-02,  1.45512950e-01, -4.54790876e-06]]), 'dW1': array([[-6.55631133e-01, -2.68733448e-03, -2.86534321e-03,\n",
            "        -9.02656186e-03, -7.38850465e-03, -2.54356257e-03],\n",
            "       [ 1.22256603e-04,  1.40675933e-04,  1.27676566e-04,\n",
            "         0.00000000e+00,  0.00000000e+00,  1.34176250e-04],\n",
            "       [ 1.11948399e+00,  1.86349109e-02,  1.92079296e-02,\n",
            "         2.60843072e-02,  1.54429493e-02,  1.03653765e-02],\n",
            "       [ 1.56690786e+00,  1.65069702e-02,  1.54731504e-02,\n",
            "         3.25033928e-02,  2.09521433e-02,  1.07090770e-02],\n",
            "       [-3.86148815e-05,  0.00000000e+00, -8.54208761e-05,\n",
            "        -1.31142603e-05,  0.00000000e+00,  6.39831896e-05],\n",
            "       [-2.99465957e+00, -3.49729998e-02, -3.14859426e-02,\n",
            "        -6.27776065e-02, -4.02347778e-02, -2.04773588e-02],\n",
            "       [-3.08750210e-04, -2.67824040e-04, -5.78295922e-04,\n",
            "        -4.96860367e-05,  0.00000000e+00, -1.66724020e-04],\n",
            "       [ 0.00000000e+00,  0.00000000e+00,  0.00000000e+00,\n",
            "         0.00000000e+00,  0.00000000e+00,  0.00000000e+00],\n",
            "       [-9.16373591e-05, -3.39165070e-05, -1.61009965e-04,\n",
            "        -1.46046674e-05,  5.00698581e-05, -1.46088024e-04],\n",
            "       [ 3.14907101e+00,  4.28085337e-02,  3.69712073e-02,\n",
            "         7.45225311e-02,  4.39841244e-02,  2.61379518e-02],\n",
            "       [ 2.02083946e+00,  2.48426840e-02,  2.61049786e-02,\n",
            "         4.19210407e-02,  2.72012817e-02,  1.41780860e-02],\n",
            "       [-1.58108497e+00, -2.00332103e-02, -2.36734798e-02,\n",
            "        -3.14713644e-02, -2.10262895e-02, -1.12001141e-02],\n",
            "       [ 4.25868173e-02,  7.09961004e-03,  6.81217600e-03,\n",
            "         2.88180185e-03,  6.79521580e-04,  2.50318586e-03],\n",
            "       [-5.05945450e-04, -1.28679502e-03, -4.38873747e-04,\n",
            "        -8.90309480e-05,  0.00000000e+00,  0.00000000e+00],\n",
            "       [-2.28179322e+00, -3.00948896e-02, -2.54747781e-02,\n",
            "        -4.65229542e-02, -2.77028099e-02, -1.70344232e-02],\n",
            "       [ 0.00000000e+00,  0.00000000e+00,  0.00000000e+00,\n",
            "         0.00000000e+00,  0.00000000e+00,  0.00000000e+00],\n",
            "       [ 3.20445806e-01,  8.51857098e-04,  2.93132946e-03,\n",
            "         3.43788897e-03,  3.78337864e-03,  1.10997367e-03],\n",
            "       [-1.51690654e-01, -6.14407447e-03, -1.81515009e-02,\n",
            "        -6.90894520e-03, -2.67151689e-03, -2.52064961e-03],\n",
            "       [ 9.48190930e-01,  5.92788039e-03,  1.07492698e-02,\n",
            "         1.11129893e-02,  1.09039912e-02,  2.30696433e-03],\n",
            "       [-5.13191516e-03, -2.31398168e-03, -3.08793764e-03,\n",
            "        -1.20830901e-03, -6.29949401e-05, -1.56500229e-03]]), 'db1': array([[-0.01649287],\n",
            "       [ 0.00013418],\n",
            "       [ 0.03901014],\n",
            "       [ 0.04805388],\n",
            "       [-0.00013629],\n",
            "       [-0.09278852],\n",
            "       [-0.00043564],\n",
            "       [ 0.        ],\n",
            "       [-0.00013437],\n",
            "       [ 0.10347466],\n",
            "       [ 0.06424663],\n",
            "       [-0.05043401],\n",
            "       [ 0.00558246],\n",
            "       [-0.000342  ],\n",
            "       [-0.07092974],\n",
            "       [ 0.        ],\n",
            "       [ 0.00819695],\n",
            "       [-0.00931532],\n",
            "       [ 0.02529584],\n",
            "       [-0.00237352]])}\n"
          ],
          "name": "stdout"
        }
      ]
    },
    {
      "cell_type": "code",
      "metadata": {
        "id": "L7I1oh646vj_",
        "colab_type": "code",
        "colab": {}
      },
      "source": [
        "parameters=update_parameters(parameters,grads,learning_rate=0.01)\n",
        "\n"
      ],
      "execution_count": 68,
      "outputs": []
    },
    {
      "cell_type": "code",
      "metadata": {
        "id": "D-GHXbYB6vqb",
        "colab_type": "code",
        "colab": {
          "base_uri": "https://localhost:8080/",
          "height": 1000
        },
        "outputId": "687667e7-7013-4a25-c69c-03db12101dd3"
      },
      "source": [
        "AL,caches=L_model_forward(X,parameters)\n",
        "print(AL)"
      ],
      "execution_count": 69,
      "outputs": [
        {
          "output_type": "stream",
          "text": [
            "[[0.34261255 0.22316602 0.30833216 0.23990703 0.2510992  0.30116251\n",
            "  0.1288902  0.37184844 0.29603094 0.40476793 0.42371678 0.11529901\n",
            "  0.34929224 0.25774861 0.39331817 0.14440212 0.3453072  0.31467517\n",
            "  0.29304006 0.33557408 0.23996076 0.24569928 0.38589574 0.24987143\n",
            "  0.29998504 0.27513307 0.30780645 0.27464505 0.32180165 0.32821421\n",
            "  0.18635954 0.17349625 0.36395638 0.10712377 0.27151582 0.19369482\n",
            "  0.36368534 0.34219552 0.36244881 0.40822963 0.23811738 0.32134977\n",
            "  0.47374879 0.3567622  0.28173138 0.35688137 0.30171592 0.36866226\n",
            "  0.38395244 0.28570772 0.34219552 0.16904337 0.30782161 0.09232158\n",
            "  0.15961277 0.32783475 0.29135157 0.43393589 0.23178523 0.33516871\n",
            "  0.19568524 0.17941737 0.32622656 0.09771054 0.431973   0.27534125\n",
            "  0.35645638 0.26819948 0.32214262 0.25745109 0.21129375 0.32829023\n",
            "  0.31493047 0.26920946 0.314531   0.32821421 0.29460094 0.54253504\n",
            "  0.28236192 0.33516871 0.28812339 0.27608052 0.24987143 0.35591311\n",
            "  0.27830882 0.3815145  0.34929224 0.26810236 0.32133426 0.28812339\n",
            "  0.34929224 0.17484467 0.32412358 0.13637511 0.33516871 0.08006906\n",
            "  0.27394207 0.23953629 0.26491738 0.29518107 0.28812339 0.28653159\n",
            "  0.26308199 0.25179643 0.29460094 0.34256854 0.28812339 0.23381744\n",
            "  0.31291136 0.15547046 0.40609394 0.33516871 0.36922266 0.3712119\n",
            "  0.34219552 0.09916582 0.29656773 0.26777809 0.47537304 0.34842158\n",
            "  0.35645638 0.27418259 0.2540872  0.12539742 0.41631106 0.35645638\n",
            "  0.32133426 0.48704983 0.19678727 0.26308199 0.34929224 0.2005845\n",
            "  0.30782161 0.30137141 0.31467517 0.30055358 0.21937546 0.37832671\n",
            "  0.27399429 0.21284794 0.33557408 0.34050419 0.35645638 0.34926021\n",
            "  0.36855819 0.30116251 0.3505116  0.2205161  0.20239733 0.16080039\n",
            "  0.3218397  0.14983178 0.21058827 0.30116251 0.13603196 0.37852599\n",
            "  0.28173138 0.23948482 0.17829853 0.19795098 0.21231616 0.30780645\n",
            "  0.37097639 0.40225275 0.43621076 0.14715687 0.2256544  0.10928373\n",
            "  0.29460094 0.10628238 0.28889836 0.52212857 0.34219552 0.12204228\n",
            "  0.37590568 0.32817913 0.14331493 0.26956411 0.2452456  0.13383454\n",
            "  0.2179348  0.26926253 0.45355967 0.42510431 0.19113858 0.32655768\n",
            "  0.16384404 0.23061347 0.2452456  0.25705628 0.34220024 0.37655903\n",
            "  0.45645626 0.16787619 0.11529901 0.29460094 0.2080489  0.34256854\n",
            "  0.30754322 0.29460094 0.1421032  0.25704493 0.19431955 0.36368534\n",
            "  0.49616945 0.2757961  0.30780645 0.37852599 0.18635954 0.32133426\n",
            "  0.23958412 0.33516871 0.26956411 0.34261255 0.26353138 0.30171592\n",
            "  0.21899115 0.22684512 0.26956411 0.37832671 0.28839343 0.16871819\n",
            "  0.33516871 0.21405003 0.33516871 0.34220024 0.34573529 0.34926021\n",
            "  0.3204993  0.23990703 0.28812339 0.12988456 0.27912059 0.30798343\n",
            "  0.34256854 0.20844853 0.4246661  0.34220024 0.25152962 0.37655903\n",
            "  0.38395244 0.27575372 0.33516871 0.28173138 0.18912586 0.31502803\n",
            "  0.29479827 0.22135998 0.16137395 0.36368534 0.30866539 0.1033539\n",
            "  0.28850343 0.20766546 0.28109749 0.19568524 0.23797964 0.21084365\n",
            "  0.16048638 0.32312466 0.15079679 0.18635954 0.34256854 0.23431463\n",
            "  0.29013677 0.32173831 0.11212712 0.21084365 0.24987143 0.314531\n",
            "  0.20202164 0.19596929 0.26378042 0.11591918 0.19766477 0.32829023\n",
            "  0.28570772 0.2700027  0.11568197 0.29460094 0.37832671 0.35645638\n",
            "  0.11873725 0.26308199 0.28173138 0.33516871 0.20239733 0.33557408\n",
            "  0.26135445 0.33996219 0.23431463 0.32180165 0.32133426 0.23835455\n",
            "  0.32476478 0.465641   0.15547046 0.13949385 0.34963207 0.33599465\n",
            "  0.35645638 0.18268046 0.29460094 0.45162912 0.17677806 0.34794796\n",
            "  0.29006472 0.23797964 0.27358346 0.31078411 0.33078186 0.29460094\n",
            "  0.21561966 0.30833216 0.34221153 0.14856249 0.22132718 0.21441635\n",
            "  0.33516871 0.30116251 0.26915746 0.35912686 0.14704287 0.20569722\n",
            "  0.12915206 0.23394413 0.29543875 0.31743399 0.32009889 0.16171724\n",
            "  0.191098   0.36866226 0.20216691 0.28173138 0.26535491 0.18136617\n",
            "  0.19678727 0.16384404 0.47096676 0.26436425 0.28203058 0.30137141\n",
            "  0.23431463 0.30754322 0.21231616 0.27392757 0.42734196 0.2120897\n",
            "  0.32821421 0.17257645 0.39926639 0.32173831 0.32821421 0.29460094\n",
            "  0.2797771  0.22294318 0.33557408 0.32865104 0.24506602 0.29656773\n",
            "  0.19272059 0.2510992  0.30820122 0.28173138 0.12591903 0.25183769\n",
            "  0.33557408 0.27358346 0.29052736 0.3714087  0.35645638 0.28658526\n",
            "  0.40403952 0.30165033 0.33557408 0.24397013 0.34929224 0.35645638\n",
            "  0.17677806 0.53235234 0.26920946 0.23990703 0.30116251 0.34926021\n",
            "  0.45639859 0.23394413 0.35645638 0.35591311 0.22884687 0.34219552\n",
            "  0.30859626 0.31503071 0.31926757 0.33516871 0.27608052 0.18298917\n",
            "  0.31467517 0.28161238 0.22824393 0.30780645 0.36194624 0.30155247\n",
            "  0.34963207 0.26491738 0.16871819 0.45645626 0.34219552 0.40403952\n",
            "  0.2120897  0.30116251 0.25153511 0.32144476 0.20179348 0.2698863\n",
            "  0.27775174 0.35035357 0.26956411 0.43084779 0.34219552 0.28812339\n",
            "  0.31540015 0.37590568 0.15592577 0.31454634 0.34173528 0.29460094\n",
            "  0.26920946 0.24987143 0.2802116  0.22825646 0.37097639 0.15747073\n",
            "  0.34697114 0.34518747 0.324387   0.11065868 0.26346289 0.21403834\n",
            "  0.34929224 0.32173831 0.28161238 0.28812339 0.372185   0.38838622\n",
            "  0.21643403 0.34906615 0.13606282 0.25726922 0.30155247 0.23835455\n",
            "  0.16167808 0.32133426 0.28812339 0.09499314 0.20727466 0.1647724\n",
            "  0.37097639 0.15141629 0.25704493 0.15547046 0.17384057 0.25704493\n",
            "  0.23381744 0.32829023 0.12204228 0.33516871 0.51864177 0.22824393\n",
            "  0.23381744 0.28644428 0.31422974 0.33557408 0.18635954 0.26491738\n",
            "  0.29498599 0.33516871 0.49616945 0.22707736 0.22876137 0.17316429\n",
            "  0.12316781 0.29052736 0.29998504 0.23990703 0.11550994 0.28173138\n",
            "  0.42816797 0.36411407 0.34219552 0.12542622 0.08006906 0.34219552\n",
            "  0.30780645 0.14813662 0.151841   0.30613214 0.32133426 0.37097639\n",
            "  0.34256854 0.34256854 0.24025921 0.32433574 0.33777896 0.23948847\n",
            "  0.20097606 0.29460094 0.30780645 0.28812339 0.11251093 0.20603502\n",
            "  0.14813662 0.32133426 0.15547046 0.24531654 0.28173138 0.26309578\n",
            "  0.26920946 0.23797964 0.33516871 0.2510992  0.16352525 0.36368534\n",
            "  0.22006042 0.1647724  0.14744937 0.22824393 0.33349058 0.50022953\n",
            "  0.37097639 0.38363453 0.31926757 0.28236192 0.42223411 0.16384404\n",
            "  0.23797964 0.10344986 0.27869718 0.19560261 0.23226623 0.2409253\n",
            "  0.27731541 0.15747073 0.09771054 0.37834344 0.28839343 0.27185448\n",
            "  0.43526423 0.31497338 0.28839343 0.34219552 0.33516871 0.33557408\n",
            "  0.1033539  0.17349625 0.16384404 0.21974835 0.26162617 0.28173138\n",
            "  0.22276464 0.28203058 0.22276464 0.12657845 0.33599465 0.35645638\n",
            "  0.30223079 0.29460094 0.26920946 0.11966403 0.15647524 0.20603502\n",
            "  0.33557408 0.37832671 0.35645638 0.24531654 0.21777424 0.38395244\n",
            "  0.26920946 0.33776342 0.21974835 0.14856249 0.20603502 0.37832671\n",
            "  0.30792677 0.17836895 0.12138754 0.33516871 0.33516871 0.2510992\n",
            "  0.15623093 0.18705757 0.21284794 0.24699826 0.25362803 0.26306213\n",
            "  0.1777025  0.36368534 0.16167808 0.32819996 0.2120897  0.20097606\n",
            "  0.20179348 0.21118766 0.25144765 0.28173138 0.2557672  0.36002754\n",
            "  0.18604644 0.26863742 0.34219552 0.38395244 0.33516871 0.2510992\n",
            "  0.34997566 0.26568869 0.32655768 0.42183345 0.29484087 0.30820122\n",
            "  0.19369482 0.36063935 0.34219552 0.34219552 0.10628238 0.1371038\n",
            "  0.29258108 0.30780645 0.36368534 0.06166931 0.16871819 0.22720771\n",
            "  0.23835455 0.28778549 0.28161238 0.26920946 0.28599971 0.22757472\n",
            "  0.24558859 0.34929224 0.27358346 0.48054922 0.26920946 0.51864177\n",
            "  0.16597569 0.35645638 0.12204228 0.34219552 0.32865104 0.32821421\n",
            "  0.34396618 0.34219552 0.37852599 0.36395638 0.33646857 0.30116251\n",
            "  0.28895032 0.31467517 0.10923263 0.16192927 0.22276464 0.15547046\n",
            "  0.2452456  0.35688137 0.28402329 0.30137141 0.1777025  0.20689425\n",
            "  0.17349625 0.24160798 0.25330418 0.09575473 0.26346289 0.34220024\n",
            "  0.36368534 0.31792291 0.36395638 0.25007452 0.20093391 0.29518107\n",
            "  0.2557672  0.34929224 0.23897396 0.138867   0.33001521 0.2983534\n",
            "  0.35645638 0.36368534 0.32302702 0.25330418 0.44342739 0.23948482\n",
            "  0.314531   0.10928373 0.15663301 0.20179348 0.3567622  0.1632498\n",
            "  0.2120897  0.34394405 0.21118766 0.35670196 0.314531   0.31493047\n",
            "  0.2179348  0.18738688 0.17707896 0.286163   0.42903273 0.27358346\n",
            "  0.18167315 0.16597569 0.28812339 0.15663301 0.35645638 0.19568524\n",
            "  0.28796957 0.26308199 0.4389554  0.37876243 0.24569928 0.16505696\n",
            "  0.27776568 0.34929224 0.28615594 0.29518107 0.3233977  0.33349451\n",
            "  0.24368597 0.41586106 0.20748277 0.31467517 0.31467517 0.29135157\n",
            "  0.20326039 0.21118766 0.34929224 0.26920946 0.16384404 0.2247955\n",
            "  0.29862331 0.32862272 0.27542631 0.09169657 0.39142262 0.26915746\n",
            "  0.33079724 0.27542631 0.47352965 0.45905523 0.26308199 0.32821421\n",
            "  0.2004758  0.50610792 0.29460094 0.34926021 0.25704493 0.22141769\n",
            "  0.32821421 0.21737985 0.34929224 0.23840189 0.37832671 0.16041145\n",
            "  0.15961277 0.2792104  0.30155247 0.26920946 0.32133426 0.18233342\n",
            "  0.13685953 0.28812339 0.17080961 0.36368534 0.34929224 0.45888177\n",
            "  0.33516871 0.16783951 0.4007902  0.34794796 0.24406699 0.26304399\n",
            "  0.314531   0.314531   0.36395638 0.28843278 0.47190296 0.15961277\n",
            "  0.34929224 0.3635778  0.12425086 0.17257645 0.314531   0.2179348\n",
            "  0.14718982 0.27608052 0.28173138 0.30201099 0.24569928 0.2970219\n",
            "  0.36657207 0.50904803 0.30116251 0.27542631 0.19113858 0.36395638\n",
            "  0.2179348  0.25153511 0.30780645 0.22824393 0.23996076 0.22930733\n",
            "  0.2785679  0.19113858 0.32865104 0.28599971 0.20689425 0.31655877\n",
            "  0.15775966 0.30116251 0.19601066 0.29512645 0.3453072  0.2452456\n",
            "  0.32821421 0.53701624 0.35645638 0.10316258 0.40396179 0.48751518\n",
            "  0.28173138 0.32821421 0.36368534 0.21974835 0.34219552 0.34929224\n",
            "  0.26920946 0.24406699 0.34929224 0.3635778  0.23797964 0.25406059\n",
            "  0.37097639 0.2120897  0.14373418 0.2510992  0.27570129 0.2124771\n",
            "  0.29276586 0.08977902 0.42788902 0.31743399 0.21739195 0.35670196\n",
            "  0.18917555 0.13977362 0.33048851 0.28173138 0.2288971  0.35144224\n",
            "  0.15115099 0.11445897 0.30798343 0.20206397 0.32134977 0.23273464\n",
            "  0.32821421 0.42903273 0.30780645 0.17973797 0.2217741  0.18705757\n",
            "  0.31454634 0.38589574 0.34929224 0.35645638 0.32821421 0.11849378\n",
            "  0.29435692 0.26308199 0.33557408 0.28203058 0.314531   0.24061644\n",
            "  0.28839343 0.3051437  0.3997925  0.26175354 0.26920946]]\n"
          ],
          "name": "stdout"
        }
      ]
    },
    {
      "cell_type": "code",
      "metadata": {
        "id": "L0LmRadG6vx3",
        "colab_type": "code",
        "colab": {
          "base_uri": "https://localhost:8080/",
          "height": 312
        },
        "outputId": "9522ec7c-fe9a-4a78-ce68-0dc45387bf7b"
      },
      "source": [
        "costs=[]\n",
        "import matplotlib.pyplot as plt\n",
        "%matplotlib inline\n",
        "for i in range(10000):\n",
        "  grads=L_model_backward(AL,Y,caches)\n",
        "  parameters=update_parameters(parameters,grads,learning_rate=0.001)\n",
        "\n",
        "  AL,caches=L_model_forward(X,parameters)\n",
        "  costs.append(compute_cost(AL,Y))\n",
        "  plt.plot(np.squeeze(cost))\n",
        "  plt.ylabel('cost')\n",
        "  plt.xlabel('iterations (per hundreds)')\n",
        "  plt.title(\"Learning rate =\" + str(0.001))\n",
        "plt.plot(list(range(10000)), costs, '-r')\n",
        "print(cost)"
      ],
      "execution_count": 89,
      "outputs": [
        {
          "output_type": "stream",
          "text": [
            "35.54663584366773\n"
          ],
          "name": "stdout"
        },
        {
          "output_type": "display_data",
          "data": {
            "image/png": "[encoded data removed]",
            "text/plain": [
              "<Figure size 432x288 with 1 Axes>"
            ]
          },
          "metadata": {
            "tags": [],
            "needs_background": "light"
          }
        }
      ]
    },
    {
      "cell_type": "code",
      "metadata": {
        "id": "Z3nQu6iDOFDQ",
        "colab_type": "code",
        "colab": {
          "base_uri": "https://localhost:8080/",
          "height": 34
        },
        "outputId": "d1c97e76-cba1-4375-ab92-b3ac9fb9c2ba"
      },
      "source": [
        "print(costs[9999])"
      ],
      "execution_count": 90,
      "outputs": [
        {
          "output_type": "stream",
          "text": [
            "0.4366850534016388\n"
          ],
          "name": "stdout"
        }
      ]
    },
    {
      "cell_type": "code",
      "metadata": {
        "id": "GPUpN6hYJuOF",
        "colab_type": "code",
        "colab": {
          "base_uri": "https://localhost:8080/",
          "height": 50
        },
        "outputId": "6d0259bf-1aee-4de2-98fa-30a8c29a01c3"
      },
      "source": [
        "print(costs[9999\n",
        "            ])\n",
        "print(cost)"
      ],
      "execution_count": 92,
      "outputs": [
        {
          "output_type": "stream",
          "text": [
            "0.4366850534016388\n",
            "35.54663584366773\n"
          ],
          "name": "stdout"
        }
      ]
    },
    {
      "cell_type": "code",
      "metadata": {
        "id": "TvzPZkOtn9pA",
        "colab_type": "code",
        "colab": {}
      },
      "source": [
        "costs=[]\n",
        "import matplotlib.pyplot as plt\n",
        "%matplotlib inline\n",
        "for i in range(10000):\n",
        "  grads=L_model_backward(AL,Y,caches)\n",
        "  parameters=update_parameters(parameters,grads,learning_rate=0.01)\n",
        "  AL,caches=L_model_forward(X,parameters)\n",
        "  costs.append(compute_cost(AL,Y))\n",
        "  plt.plot(np.squeeze(cost))\n",
        "  plt.ylabel('cost')\n",
        "  plt.xlabel('iterations (per hundreds)')\n",
        "  plt.title(\"Learning rate =\" + str(0.001))\n",
        "plt.plot(list(range(10000)), costs, '-r')\n",
        "print(cost)"
      ],
      "execution_count": null,
      "outputs": []
    },
    {
      "cell_type": "code",
      "metadata": {
        "id": "3QkgWt0ITJm4",
        "colab_type": "code",
        "colab": {
          "base_uri": "https://localhost:8080/",
          "height": 67
        },
        "outputId": "50f75217-1f66-43e7-d768-9476291a361e"
      },
      "source": [
        "print(AL[0][0:10])\n",
        "print(Y[0][0:10])"
      ],
      "execution_count": 93,
      "outputs": [
        {
          "output_type": "stream",
          "text": [
            "[0.17323783 0.95942796 0.78913873 0.96470549 0.14648618 0.18393514\n",
            " 0.36394315 0.11702833 0.61810235 0.9534881 ]\n",
            "[0 1 1 1 0 0 0 0 1 1]\n"
          ],
          "name": "stdout"
        }
      ]
    },
    {
      "cell_type": "code",
      "metadata": {
        "id": "46tz2ZuwTJt9",
        "colab_type": "code",
        "colab": {}
      },
      "source": [
        ""
      ],
      "execution_count": null,
      "outputs": []
    },
    {
      "cell_type": "code",
      "metadata": {
        "id": "ol6UwOKFTJ2a",
        "colab_type": "code",
        "colab": {}
      },
      "source": [
        ""
      ],
      "execution_count": null,
      "outputs": []
    },
    {
      "cell_type": "code",
      "metadata": {
        "id": "ukN8WEzyTKKj",
        "colab_type": "code",
        "colab": {}
      },
      "source": [
        ""
      ],
      "execution_count": null,
      "outputs": []
    },
    {
      "cell_type": "code",
      "metadata": {
        "id": "-VAgPYAGTKXB",
        "colab_type": "code",
        "colab": {}
      },
      "source": [
        ""
      ],
      "execution_count": null,
      "outputs": []
    },
    {
      "cell_type": "code",
      "metadata": {
        "id": "vuI3xyK8TKhF",
        "colab_type": "code",
        "colab": {}
      },
      "source": [
        ""
      ],
      "execution_count": null,
      "outputs": []
    },
    {
      "cell_type": "code",
      "metadata": {
        "id": "4GScyAOoTKsG",
        "colab_type": "code",
        "colab": {}
      },
      "source": [
        ""
      ],
      "execution_count": null,
      "outputs": []
    },
    {
      "cell_type": "code",
      "metadata": {
        "id": "S2spOcQoTK4h",
        "colab_type": "code",
        "colab": {}
      },
      "source": [
        ""
      ],
      "execution_count": null,
      "outputs": []
    },
    {
      "cell_type": "code",
      "metadata": {
        "id": "_vr59muCTLCu",
        "colab_type": "code",
        "colab": {}
      },
      "source": [
        ""
      ],
      "execution_count": null,
      "outputs": []
    },
    {
      "cell_type": "code",
      "metadata": {
        "id": "M7cb0Sc16v6N",
        "colab_type": "code",
        "colab": {}
      },
      "source": [
        ""
      ],
      "execution_count": null,
      "outputs": []
    },
    {
      "cell_type": "code",
      "metadata": {
        "id": "azrRquJmbOHk",
        "colab_type": "code",
        "colab": {}
      },
      "source": [
        ""
      ],
      "execution_count": null,
      "outputs": []
    },
    {
      "cell_type": "code",
      "metadata": {
        "id": "4tTkJmCxc0M_",
        "colab_type": "code",
        "colab": {}
      },
      "source": [
        ""
      ],
      "execution_count": null,
      "outputs": []
    },
    {
      "cell_type": "code",
      "metadata": {
        "id": "DAX4slnKdZD-",
        "colab_type": "code",
        "colab": {}
      },
      "source": [
        ""
      ],
      "execution_count": null,
      "outputs": []
    },
    {
      "cell_type": "code",
      "metadata": {
        "id": "wJvuxz9SvgDD",
        "colab_type": "code",
        "colab": {}
      },
      "source": [
        ""
      ],
      "execution_count": null,
      "outputs": []
    },
    {
      "cell_type": "code",
      "metadata": {
        "id": "LYtNCNcUg-uu",
        "colab_type": "code",
        "colab": {}
      },
      "source": [
        ""
      ],
      "execution_count": null,
      "outputs": []
    },
    {
      "cell_type": "code",
      "metadata": {
        "id": "hnwqr8rEgP1r",
        "colab_type": "code",
        "colab": {}
      },
      "source": [
        ""
      ],
      "execution_count": null,
      "outputs": []
    },
    {
      "cell_type": "code",
      "metadata": {
        "id": "6d6VWyjdkbNU",
        "colab_type": "code",
        "colab": {}
      },
      "source": [
        ""
      ],
      "execution_count": null,
      "outputs": []
    },
    {
      "cell_type": "code",
      "metadata": {
        "id": "aFMHyKeokqlu",
        "colab_type": "code",
        "colab": {}
      },
      "source": [
        ""
      ],
      "execution_count": null,
      "outputs": []
    },
    {
      "cell_type": "code",
      "metadata": {
        "id": "JGyPX1MjweN1",
        "colab_type": "code",
        "colab": {}
      },
      "source": [
        ""
      ],
      "execution_count": null,
      "outputs": []
    },
    {
      "cell_type": "code",
      "metadata": {
        "id": "m6Os0JWCjnEk",
        "colab_type": "code",
        "colab": {}
      },
      "source": [
        ""
      ],
      "execution_count": null,
      "outputs": []
    },
    {
      "cell_type": "code",
      "metadata": {
        "id": "qwBw3P--m0bf",
        "colab_type": "code",
        "colab": {}
      },
      "source": [
        ""
      ],
      "execution_count": null,
      "outputs": []
    },
    {
      "cell_type": "code",
      "metadata": {
        "id": "z7_yDeublF3y",
        "colab_type": "code",
        "colab": {}
      },
      "source": [
        ""
      ],
      "execution_count": null,
      "outputs": []
    },
    {
      "cell_type": "code",
      "metadata": {
        "id": "F5OQlFXKh8m6",
        "colab_type": "code",
        "colab": {}
      },
      "source": [
        ""
      ],
      "execution_count": null,
      "outputs": []
    },
    {
      "cell_type": "code",
      "metadata": {
        "id": "G2gAMy9_J8xC",
        "colab_type": "code",
        "colab": {}
      },
      "source": [
        ""
      ],
      "execution_count": null,
      "outputs": []
    },
    {
      "cell_type": "code",
      "metadata": {
        "id": "pRc-vA43uCf3",
        "colab_type": "code",
        "colab": {}
      },
      "source": [
        ""
      ],
      "execution_count": null,
      "outputs": []
    },
    {
      "cell_type": "code",
      "metadata": {
        "id": "z9Z6ABBpu8Nm",
        "colab_type": "code",
        "colab": {}
      },
      "source": [
        ""
      ],
      "execution_count": null,
      "outputs": []
    }
  ]
}